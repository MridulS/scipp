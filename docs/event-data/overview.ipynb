{
 "cells": [
  {
   "cell_type": "markdown",
   "metadata": {},
   "source": [
    "# Introduction\n",
    "\n",
    "Scipp can handle *event data*, a certain type of sparse data, i.e., data that cannot directly be represented as a multi-dimensional array.\n",
    "For applications that rely solely on dense arrays of data this section can safely be ignored.\n",
    "\n",
    "Scipp supports event data in shape of a multi-dimensional array of lists.\n",
    "This is the main application of [Bucketed Data](../user-guide/buckets.ipynb).\n",
    "This could, e.g., be used to store data from an array of sensors/detectors that are read out independently, with potentially widely varying frequency.\n",
    "\n",
    "Before assigning events to buckets, we can initialize them as a single long list or table.\n",
    "In the simplest case this table has just a single column, i.e., it is a scipp variable:"
   ]
  },
  {
   "cell_type": "code",
   "execution_count": null,
   "metadata": {
    "scrolled": false
   },
   "outputs": [],
   "source": [
    "import numpy as np\n",
    "import scipp as sc\n",
    "from scipp.plot import plot\n",
    "\n",
    "table = sc.Variable(dims=['event'],\n",
    "                  values=[0,1,3,1,1,1,42,1,1,1,1,1],\n",
    "                  dtype=sc.dtype.float64)\n",
    "sc.table(table)"
   ]
  },
  {
   "cell_type": "markdown",
   "metadata": {},
   "source": [
    "The events in the table can then be mapped into buckets.\n",
    "Note that this copies `table`:"
   ]
  },
  {
   "cell_type": "code",
   "execution_count": null,
   "metadata": {},
   "outputs": [],
   "source": [
    "begin = sc.Variable(dims=['x'], values=[0,6,6,8])\n",
    "end = sc.Variable(dims=['x'], values=[6,6,8,12])\n",
    "var = sc.to_buckets(begin=begin, end=end, dim='event', data=table)\n",
    "sc.show(var)\n",
    "var"
   ]
  },
  {
   "cell_type": "markdown",
   "metadata": {},
   "source": [
    "Each element of the resulting \"bucket variable\" references a section of the underlying table:"
   ]
  },
  {
   "cell_type": "code",
   "execution_count": null,
   "metadata": {},
   "outputs": [],
   "source": [
    "sc.table(var['x', 0].value)\n",
    "sc.table(var['x', 1].value)\n",
    "sc.table(var['x', 2].value)"
   ]
  },
  {
   "cell_type": "markdown",
   "metadata": {},
   "source": [
    "Operations between variables or data arrays broadcast dense data to lists:"
   ]
  },
  {
   "cell_type": "code",
   "execution_count": null,
   "metadata": {},
   "outputs": [],
   "source": [
    "scale = sc.Variable(dims=['x'], values=np.arange(2.0, 6))\n",
    "var *= scale\n",
    "var['x', 0].values"
   ]
  },
  {
   "cell_type": "code",
   "execution_count": null,
   "metadata": {},
   "outputs": [],
   "source": [
    "var['x', 1].values"
   ]
  },
  {
   "cell_type": "code",
   "execution_count": null,
   "metadata": {},
   "outputs": [],
   "source": [
    "var['x', 2].values"
   ]
  },
  {
   "cell_type": "markdown",
   "metadata": {},
   "source": [
    "In practice events require more than one \"column\" of information.\n",
    "Typically we need at least one coordinate such as the detection time in addition to weights.\n",
    "If each event corresponds to, e.g., a single detected neutron the weight is 1.\n",
    "As above, we start by creating a single table containing *all* events:"
   ]
  },
  {
   "cell_type": "code",
   "execution_count": null,
   "metadata": {},
   "outputs": [],
   "source": [
    "times = sc.Variable(dims=['event'],\n",
    "                    unit=sc.units.us, # micro second\n",
    "                    values=[0,1,3,1,1,1,4,1,1,2,1,1],\n",
    "                    dtype=sc.dtype.float64)\n",
    "weights = sc.Variable(dims=['event'],\n",
    "                      unit=sc.units.counts,\n",
    "                      values=np.ones(12),\n",
    "                      variances=np.ones(12),\n",
    "                      dtype=sc.dtype.float64)\n",
    "\n",
    "table = sc.DataArray(data=weights, coords={'time':times})\n",
    "sc.table(table)\n",
    "table"
   ]
  },
  {
   "cell_type": "markdown",
   "metadata": {},
   "source": [
    "This table is then mapped into buckets.\n",
    "The resulting \"bucket variable\" can, e.g., be used as the data in a data array, and can be combined with coordinates as usual:"
   ]
  },
  {
   "cell_type": "code",
   "execution_count": null,
   "metadata": {},
   "outputs": [],
   "source": [
    "var = sc.to_buckets(begin=begin, end=end, dim='event', data=table)\n",
    "a = sc.DataArray(data=var, coords={'x':sc.Variable(['x'], values=np.arange(4.0))})\n",
    "a"
   ]
  },
  {
   "cell_type": "markdown",
   "metadata": {},
   "source": [
    "In the graphical representation of the data array we can see the dense coordinate (green), and the buckets (yellow):"
   ]
  },
  {
   "cell_type": "code",
   "execution_count": null,
   "metadata": {
    "scrolled": true
   },
   "outputs": [],
   "source": [
    "sc.show(a)"
   ]
  },
  {
   "cell_type": "markdown",
   "metadata": {},
   "source": [
    "As before, each bucket references a section of the underlying table:"
   ]
  },
  {
   "cell_type": "code",
   "execution_count": null,
   "metadata": {},
   "outputs": [],
   "source": [
    "sc.table(a['x', 0].value)\n",
    "sc.table(a['x', 1].value)\n",
    "sc.table(a['x', 2].value)"
   ]
  },
  {
   "cell_type": "markdown",
   "metadata": {},
   "source": [
    "# Arithmetic operations\n",
    "\n",
    "Direct arithmetic operations with event data can be useful in some cases, but more commonly operations should act on event data as if it had been histogrammed are required.\n",
    "For example, addition of histogrammed data would correspond to concatenating event lists.\n",
    "\n",
    "Scipp supports such operations for bucket variables.\n",
    "The following operations are supported:\n",
    "\n",
    "- \"Addition\" of data arrays containing event data in buckets.\n",
    "  This is achieved by concatenating the underlying event lists.\n",
    "- \"Subtraction\" of data arrays containing event data in buckets.\n",
    "  This is performed by concatenating with a negative weight for the subtrahend.\n",
    "- \"Multiplication\" of a data array containing event data in buckets with a data array with dense, histogrammed data.\n",
    "  The weight of each event is scaled by the value of the corresponding bin in the histogram.\n",
    "- \"Division\" of a data array containing event data in buckets by a data array with dense, histogrammed data.\n",
    "  This is performed by scaling with the inverse of the denominator."
   ]
  },
  {
   "cell_type": "markdown",
   "metadata": {},
   "source": [
    "<div class=\"alert alert-warning\">\n",
    "    <b>WARNING:</b>\n",
    "\n",
    "It is important to note that these operations, in particular multiplication and division, are only interchangeable with histogramming if the variances of the \"histogram\" operand are negligible.\n",
    "If these variances are not negligible the operation on the event data introduces correlations in the error bars of the individual events.\n",
    "Scipp has no way of tracking such correlations and a subsequent `histogram` step propagates uncertainties under the assumption of uncorrelated error bars.\n",
    "</div>"
   ]
  },
  {
   "cell_type": "markdown",
   "metadata": {},
   "source": [
    "## Addition"
   ]
  },
  {
   "cell_type": "code",
   "execution_count": null,
   "metadata": {},
   "outputs": [],
   "source": [
    "sc.show(a['x',2].value)\n",
    "sc.buckets.append(a, a)\n",
    "sc.show(a['x',2].value)\n",
    "plot(sc.buckets.sum(a))"
   ]
  },
  {
   "cell_type": "markdown",
   "metadata": {},
   "source": [
    "## Subtraction"
   ]
  },
  {
   "cell_type": "code",
   "execution_count": null,
   "metadata": {},
   "outputs": [],
   "source": [
    "zero = a.copy()\n",
    "sc.show(zero['x',2].value)\n",
    "sc.buckets.append(zero, -zero)\n",
    "sc.show(zero['x',2].value)\n",
    "plot(sc.buckets.sum(zero))"
   ]
  },
  {
   "cell_type": "markdown",
   "metadata": {},
   "source": [
    "## Multiplication and division"
   ]
  },
  {
   "cell_type": "code",
   "execution_count": null,
   "metadata": {},
   "outputs": [],
   "source": [
    "time_bins = sc.Variable(dims=['time'], unit=sc.units.us, values=[0.0, 3.0, 6.0])\n",
    "sc.buckets.scale(a, sc.histogram(a, time_bins))\n",
    "plot(sc.histogram(a, time_bins))"
   ]
  }
 ],
 "metadata": {
  "kernelspec": {
   "display_name": "Python 3",
   "language": "python",
   "name": "python3"
  },
  "language_info": {
   "codemirror_mode": {
    "name": "ipython",
    "version": 3
   },
   "file_extension": ".py",
   "mimetype": "text/x-python",
   "name": "python",
   "nbconvert_exporter": "python",
   "pygments_lexer": "ipython3",
   "version": "3.8.2"
  }
 },
 "nbformat": 4,
 "nbformat_minor": 2
}

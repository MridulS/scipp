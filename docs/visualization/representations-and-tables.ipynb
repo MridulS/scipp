{
 "cells": [
  {
   "cell_type": "markdown",
   "metadata": {},
   "source": [
    "# Representations and Tables\n",
    "\n",
    "Scipp provides a number of options for visualizing the structure and contents of variables, data arrays, and datasets:\n",
    "\n",
    "- [scipp.to_html](../generated/functions/scipp.to_html.rst) produces an HTML representation.\n",
    "  This is also bound to `_repr_html_`, i.e., Jupyter will display this when the name of a scipp object is typed at the end of a cell.\n",
    "- [scipp.show](../generated/functions/scipp.show.rst) draws an SVG representation of the contained items and their shapes.\n",
    "- [scipp.table](../generated/functions/scipp.table.rst) outputs a table representation of 1-D data.\n",
    "- `str` and `repr` produce a summary as a string.\n",
    "\n",
    "String formatting is always possible, but the outputs of `to_html`, `show`, and `table` are designed for Jupyter notebooks.\n",
    "\n",
    "While the outputs are mostly self-explanatory we discuss some details below.\n",
    "\n",
    "## HTML representation\n",
    "\n",
    "[scipp.to_html](../generated/functions/scipp.to_html.rst) is used to define `_repr_html_`.\n",
    "This special property is used by Jupyter in place of `__repr__`."
   ]
  },
  {
   "cell_type": "code",
   "execution_count": null,
   "metadata": {},
   "outputs": [],
   "source": [
    "import numpy as np\n",
    "import scipp as sc"
   ]
  },
  {
   "cell_type": "code",
   "execution_count": null,
   "metadata": {},
   "outputs": [],
   "source": [
    "x = sc.arange('x', 2.)\n",
    "y = sc.arange('y', 4., unit='m')\n",
    "labels = sc.arange('y', start=7., stop=10.)\n",
    "d = sc.Dataset(\n",
    "    data={'a':sc.array(dims=['y', 'x'],\n",
    "                       values=np.random.random((3, 2)),\n",
    "                       variances=0.1 * np.random.random((3, 2)),\n",
    "                       unit='angstrom')},\n",
    "    coords={'x':x, 'y':y, 'y_label':labels})\n",
    "d['b'] = d['a']\n",
    "d['c'] = 1.0 * sc.units.kg\n",
    "d['a'].attrs['x_attr'] = sc.array(dims=['x'], values=[1.77, 3.32])\n",
    "d['b'].attrs['x_attr'] = sc.array(dims=['x'], values=[55.7, 105.1])\n",
    "d['b'].attrs['b_attr'] = 1.2 * sc.units.m"
   ]
  },
  {
   "cell_type": "markdown",
   "metadata": {},
   "source": [
    "Simply typing the name of a variable, data array, or dataset will show the HTML representation:"
   ]
  },
  {
   "cell_type": "code",
   "execution_count": null,
   "metadata": {},
   "outputs": [],
   "source": [
    "d"
   ]
  },
  {
   "cell_type": "markdown",
   "metadata": {},
   "source": [
    "The reported size is only an estimate.\n",
    "It includes the actual arrays of values as well as (some of) the internal memory used by variables, etc.\n",
    "See, e.g. [scipp.Variable.underlying_size](https://scipp.github.io/generated/classes/scipp.Variable.html#scipp.Variable.underlying_size)."
   ]
  },
  {
   "cell_type": "markdown",
   "metadata": {},
   "source": [
    "Note that (as usual) Jupyter only shows the last variable mentioned in a cell:"
   ]
  },
  {
   "cell_type": "code",
   "execution_count": null,
   "metadata": {},
   "outputs": [],
   "source": [
    "a = 1\n",
    "d\n",
    "a"
   ]
  },
  {
   "cell_type": "markdown",
   "metadata": {},
   "source": [
    "In this case, `to_html` can be used to retain the HTML view, e.g., to show multiple objects in a single cell:"
   ]
  },
  {
   "cell_type": "code",
   "execution_count": null,
   "metadata": {},
   "outputs": [],
   "source": [
    "sc.to_html(d['a'])\n",
    "sc.to_html(d['c'])"
   ]
  },
  {
   "cell_type": "markdown",
   "metadata": {},
   "source": [
    "Typing the scipp module name at the end of a cell yields an HTML view of all scipp objects (variables, data arrays, and datasets):"
   ]
  },
  {
   "cell_type": "code",
   "execution_count": null,
   "metadata": {},
   "outputs": [],
   "source": [
    "sc"
   ]
  },
  {
   "cell_type": "markdown",
   "metadata": {},
   "source": [
    "## SVG representation\n",
    "\n",
    "[scipp.show](../generated/functions/scipp.show.rst) renders scipp objects to an image that shows the relationships between coordinates and data.\n",
    "It should be noted that if a dimension extent is large, `show` will truncate it to avoid generation of massive and unreadable SVGs.\n",
    "Objects with more than three dimensions are not supported and will result in an error message.\n",
    "\n",
    "Compare the image below with the HTML representation to see what the individual components represent.\n",
    "Names of dataset items and coordinates are shown in large letters.\n",
    "And dimension names are shown in smaller (rotated for y) letters."
   ]
  },
  {
   "cell_type": "code",
   "execution_count": null,
   "metadata": {},
   "outputs": [],
   "source": [
    "sc.show(d)"
   ]
  },
  {
   "cell_type": "markdown",
   "metadata": {},
   "source": [
    "Note that y has four blocks and y_label and the data have 3 in the y-dimension.\n",
    "This indicates that `y` is a bin-edge coordinate.\n",
    "\n",
    "`scipp.show` also works with binned data.\n",
    "Here, the smaller blocks to the right represent the events, i.e., the bin contents.\n",
    "Their length does not mean anything as the size of bins can vary."
   ]
  },
  {
   "cell_type": "code",
   "execution_count": null,
   "metadata": {},
   "outputs": [],
   "source": [
    "sc.show(sc.data.binned_xy(100, 3, 2))"
   ]
  },
  {
   "cell_type": "markdown",
   "metadata": {},
   "source": [
    "## Table representation\n",
    "\n",
    "[scipp.table](../generated/functions/scipp.table.rst) arranges scipp objects in a table.\n",
    "If only works with one-dimensional objects, so we have to use slicing to display our higher dimensional example:"
   ]
  },
  {
   "cell_type": "code",
   "execution_count": null,
   "metadata": {},
   "outputs": [],
   "source": [
    "sc.table(d['y', 0])"
   ]
  },
  {
   "cell_type": "markdown",
   "metadata": {},
   "source": [
    "In the following, the y column is longer than the other columns because `y` is a bin-edge coordinate."
   ]
  },
  {
   "cell_type": "code",
   "execution_count": null,
   "metadata": {},
   "outputs": [],
   "source": [
    "sc.table(d['x', 0])"
   ]
  },
  {
   "cell_type": "markdown",
   "metadata": {},
   "source": [
    "## String-representation\n",
    "\n",
    "All scipp objects can be converted to strings:"
   ]
  },
  {
   "cell_type": "code",
   "execution_count": null,
   "metadata": {},
   "outputs": [],
   "source": [
    "print(d)"
   ]
  },
  {
   "cell_type": "markdown",
   "metadata": {},
   "source": [
    "In addition, Variables have a compact string format:"
   ]
  },
  {
   "cell_type": "code",
   "execution_count": null,
   "metadata": {},
   "outputs": [],
   "source": [
    "print('{:c}'.format(d['c'].data))"
   ]
  },
  {
   "cell_type": "markdown",
   "metadata": {},
   "source": [
    "Note that this is primarily intended for scalar variables and may produce hard to read outputs otherwise."
   ]
  }
 ],
 "metadata": {
  "kernelspec": {
   "display_name": "Python 3 (ipykernel)",
   "language": "python",
   "name": "python3"
  },
  "language_info": {
   "codemirror_mode": {
    "name": "ipython",
    "version": 3
   },
   "file_extension": ".py",
   "mimetype": "text/x-python",
   "name": "python",
   "nbconvert_exporter": "python",
   "pygments_lexer": "ipython3"
  }
 },
 "nbformat": 4,
 "nbformat_minor": 4
}

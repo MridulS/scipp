{
 "cells": [
  {
   "cell_type": "markdown",
   "metadata": {},
   "source": [
    "# Plotting Overview\n",
    "\n",
    "## Getting started\n",
    "\n",
    "`scipp` offers a number of different ways to plot data from a `DataArray` or a `Dataset`.\n",
    "It uses the `matplotlib` graphing library to do so, as well as the `ipyvolume` project for 3D visualizations."
   ]
  },
  {
   "cell_type": "code",
   "execution_count": null,
   "metadata": {},
   "outputs": [],
   "source": [
    "import numpy as np\n",
    "import scipp as sc"
   ]
  },
  {
   "cell_type": "code",
   "execution_count": null,
   "metadata": {},
   "outputs": [],
   "source": [
    "N = 20\n",
    "M = 5\n",
    "d = sc.Dataset()\n",
    "d.coords['x'] = sc.Variable(['x'], values=np.arange(M), unit=sc.units.m)\n",
    "d.coords['y'] = sc.Variable(['y'], values=np.arange(N), unit=sc.units.us)\n",
    "\n",
    "d['data'] = sc.Variable(['y'],\n",
    "                        values=100*np.random.rand(N)+50,\n",
    "                        unit=sc.units.counts)\n",
    "d['data_with_errors'] = sc.Variable(['y'],\n",
    "                                    values=50*np.random.rand(N) + 20.,\n",
    "                                    variances=50*np.random.rand(N),\n",
    "                                    unit=sc.units.counts)\n",
    "\n",
    "d['data_2d'] = sc.Variable(['x', 'y'],\n",
    "                           values=10.0*np.random.rand(M, N),\n",
    "                           unit=sc.units.K)"
   ]
  },
  {
   "cell_type": "markdown",
   "metadata": {},
   "source": [
    "Plotting functionality is available in the `scipp.plot` module, with the `plot` function.\n",
    "The information in a data array or dataset is typically enough to create meaningful plots:"
   ]
  },
  {
   "cell_type": "code",
   "execution_count": null,
   "metadata": {
    "scrolled": false
   },
   "outputs": [],
   "source": [
    "from scipp.plot import plot\n",
    "\n",
    "plot(d)"
   ]
  },
  {
   "cell_type": "markdown",
   "metadata": {},
   "source": [
    "## Plotting slices or items of a dataset\n",
    "\n",
    "The usual indexing and slicing can be used to create plots of slices of data, or plots of individual items from a dataset.\n",
    "\n",
    "### Plot a single entry of a dataset"
   ]
  },
  {
   "cell_type": "code",
   "execution_count": null,
   "metadata": {},
   "outputs": [],
   "source": [
    "plot(d['data'])"
   ]
  },
  {
   "cell_type": "markdown",
   "metadata": {},
   "source": [
    "### Plot a slice range"
   ]
  },
  {
   "cell_type": "code",
   "execution_count": null,
   "metadata": {},
   "outputs": [],
   "source": [
    "plot(d['y', 4:7])"
   ]
  },
  {
   "cell_type": "markdown",
   "metadata": {},
   "source": [
    "### Plot a 1-D slice of 2-D data\n",
    "\n",
    "When slicing without a range, the dimensionality reduces.\n",
    "This can be used to, e.g., plot a 1-D slice through 2-D data:"
   ]
  },
  {
   "cell_type": "code",
   "execution_count": null,
   "metadata": {},
   "outputs": [],
   "source": [
    "plot(d['x', 4])"
   ]
  },
  {
   "cell_type": "markdown",
   "metadata": {},
   "source": [
    "## Logarithmic scale\n",
    "\n",
    "1-D data can be plotted on a logarithmic scale on one or both axes:"
   ]
  },
  {
   "cell_type": "code",
   "execution_count": null,
   "metadata": {
    "scrolled": false
   },
   "outputs": [],
   "source": [
    "plot(d, scale={'y': 'log'})"
   ]
  },
  {
   "cell_type": "markdown",
   "metadata": {},
   "source": [
    "## Axis labels and axis order\n",
    "\n",
    "By default scipp uses coordinate values to label the axes.\n",
    "If a data array or dataset contains auxiliary coordinates, these can be used instead.\n",
    "This is configured using the `axes` keyword argument of `plot`.\n",
    "It accepts a dict specifying which dimension labels should run along which figure axes.\n",
    "Figure axes will be `'x'` and `'y'` for a 2d image."
   ]
  },
  {
   "cell_type": "code",
   "execution_count": null,
   "metadata": {},
   "outputs": [],
   "source": [
    "d.coords['xlabels'] = sc.Variable(['x'], values=np.arange(M) + 15.)\n",
    "plot(d['data_2d'], axes={'x': 'xlabels'})"
   ]
  }
 ],
 "metadata": {
  "kernelspec": {
   "display_name": "Python 3",
   "language": "python",
   "name": "python3"
  },
  "language_info": {
   "codemirror_mode": {
    "name": "ipython",
    "version": 3
   },
   "file_extension": ".py",
   "mimetype": "text/x-python",
   "name": "python",
   "nbconvert_exporter": "python",
   "pygments_lexer": "ipython3",
   "version": "3.8.2"
  }
 },
 "nbformat": 4,
 "nbformat_minor": 2
}

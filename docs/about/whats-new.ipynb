{
 "cells": [
  {
   "cell_type": "markdown",
   "metadata": {
    "tags": []
   },
   "source": [
    "# What's new in scipp\n",
    "\n",
    "This page highlights feature additions and discusses major changes from recent releases.\n",
    "For a full list of changes see the [Release Notes](https://scipp.github.io/about/release-notes.html)."
   ]
  },
  {
   "cell_type": "code",
   "execution_count": null,
   "metadata": {},
   "outputs": [],
   "source": [
    "import numpy as np\n",
    "import scipp as sc"
   ]
  },
  {
   "cell_type": "markdown",
   "metadata": {},
   "source": [
    "## General"
   ]
  },
  {
   "cell_type": "markdown",
   "metadata": {
    "tags": []
   },
   "source": [
    "### Unique dimensions and slicing of 1-D objects\n",
    "\n",
    "<div class=\"alert alert-info\">\n",
    "\n",
    "**New in 0.9**\n",
    "\n",
    "The new `dim` property checks whether an object is 1-D, and returns the only dimension label.\n",
    "An exception is raised if the object is not 1-D.\n",
    "</div>\n",
    "\n",
    "Example:"
   ]
  },
  {
   "cell_type": "code",
   "execution_count": null,
   "metadata": {},
   "outputs": [],
   "source": [
    "x = sc.linspace(dim='x', start=0, stop=1, num=4)\n",
    "x.dim"
   ]
  },
  {
   "cell_type": "markdown",
   "metadata": {
    "tags": []
   },
   "source": [
    "<div class=\"alert alert-info\">\n",
    "\n",
    "**New in 0.11**\n",
    "\n",
    "1-D objects can now be sliced without specifying a dimension.\n",
    "</div>\n",
    "\n",
    "Example:"
   ]
  },
  {
   "cell_type": "code",
   "execution_count": null,
   "metadata": {},
   "outputs": [],
   "source": [
    "x[-1]"
   ]
  },
  {
   "cell_type": "markdown",
   "metadata": {},
   "source": [
    "If an object is not 1-D then `DimensionError` is raised:"
   ]
  },
  {
   "cell_type": "code",
   "execution_count": null,
   "metadata": {
    "tags": [
     "raises-exception"
    ]
   },
   "outputs": [],
   "source": [
    "var2d = sc.concat([x,x], 'y')\n",
    "var2d[0]"
   ]
  },
  {
   "cell_type": "markdown",
   "metadata": {
    "tags": []
   },
   "source": [
    "### Logging support\n",
    "\n",
    "<div class=\"alert alert-info\">\n",
    "\n",
    "**New in 0.9**\n",
    "\n",
    "Scipp now provides a logger, and a pre-configured logging widget for Jupyter notebooks.\n",
    "See [Logging](../reference/logging.ipynb).\n",
    "    \n",
    "</div>"
   ]
  },
  {
   "cell_type": "markdown",
   "metadata": {},
   "source": [
    "### Bound method equivalents to many free functions\n",
    "\n",
    "<div class=\"alert alert-info\">\n",
    "\n",
    "**New in 0.8**\n",
    "\n",
    "Many functions that have been available as free functions can now be used also as methods of variables and data arrays.\n",
    "See the [documentation for individual classes](../reference/classes.rst#classes) for a full list.\n",
    "\n",
    "</div>\n",
    "\n",
    "Example:"
   ]
  },
  {
   "cell_type": "code",
   "execution_count": null,
   "metadata": {},
   "outputs": [],
   "source": [
    "var = sc.arange(dim=\"x\", unit=\"m\", start=0, stop=12)\n",
    "var.sum()  # Previously sc.sum(var)"
   ]
  },
  {
   "cell_type": "markdown",
   "metadata": {},
   "source": [
    "Note that `sc.sum(var)` will continue to be supported as well."
   ]
  },
  {
   "cell_type": "markdown",
   "metadata": {
    "tags": []
   },
   "source": [
    "### Unified conversion of unit and dtype\n",
    "\n",
    "<div class=\"alert alert-info\">\n",
    "\n",
    "**New in 0.11**\n",
    "\n",
    "Variables and data arrays have a new method, `to`, for conversion of dtype, unit, or both.\n",
    "This can be used to replace uses of `to_unit` and `astype`.\n",
    "\n",
    "</div>\n",
    "\n",
    "Example:"
   ]
  },
  {
   "cell_type": "code",
   "execution_count": null,
   "metadata": {},
   "outputs": [],
   "source": [
    "var = sc.arange(dim='x', start=0, stop=4, unit='m')\n",
    "var"
   ]
  },
  {
   "cell_type": "markdown",
   "metadata": {},
   "source": [
    "Use the `unit` keyword argument to convert to a different unit:"
   ]
  },
  {
   "cell_type": "code",
   "execution_count": null,
   "metadata": {},
   "outputs": [],
   "source": [
    "var.to(unit='mm')"
   ]
  },
  {
   "cell_type": "markdown",
   "metadata": {},
   "source": [
    "Use the `dtype` keyword argument to convert to a different dtype:"
   ]
  },
  {
   "cell_type": "code",
   "execution_count": null,
   "metadata": {},
   "outputs": [],
   "source": [
    "var.to(dtype='float64')"
   ]
  },
  {
   "cell_type": "markdown",
   "metadata": {},
   "source": [
    "If both `unit` and `dtype` are provided, the implementation attempts to apply the two conversions in optimal order to reduce or avoid the effect of rounding/truncation errors:"
   ]
  },
  {
   "cell_type": "code",
   "execution_count": null,
   "metadata": {},
   "outputs": [],
   "source": [
    "var.to(dtype='float64', unit='km')"
   ]
  },
  {
   "cell_type": "markdown",
   "metadata": {},
   "source": [
    "### Operations\n",
    "\n",
    "#### Creation functions"
   ]
  },
  {
   "cell_type": "markdown",
   "metadata": {},
   "source": [
    "<div class=\"alert alert-info\">\n",
    "\n",
    "**New in 0.11**\n",
    "    \n",
    "Creation functions for datetimes where added:\n",
    "\n",
    "- Added `epoch`, `datetime` and `datetimes`.\n",
    "\n",
    "</div>"
   ]
  },
  {
   "cell_type": "code",
   "execution_count": null,
   "metadata": {},
   "outputs": [],
   "source": [
    "sc.datetime('now', unit='ms')"
   ]
  },
  {
   "cell_type": "code",
   "execution_count": null,
   "metadata": {},
   "outputs": [],
   "source": [
    "times = sc.datetimes(dims=['time'], values=['2022-01-11T10:24:03', '2022-01-11T10:24:03'])\n",
    "times"
   ]
  },
  {
   "cell_type": "markdown",
   "metadata": {},
   "source": [
    "The new `epoch` function is useful for obtaining the time since epoch, i.e., a time difference (`dtype='int64'`) instead of a time point (`dtype='datetime64'`):"
   ]
  },
  {
   "cell_type": "code",
   "execution_count": null,
   "metadata": {},
   "outputs": [],
   "source": [
    "times - sc.epoch(unit=times.unit)"
   ]
  },
  {
   "cell_type": "markdown",
   "metadata": {},
   "source": [
    "#### `from_pandas` and `from_xarray`\n",
    "\n",
    "<div class=\"alert alert-info\">\n",
    "\n",
    "**New in 0.8**\n",
    "\n",
    "- `from_pandas` for converting `pandas.Dataframe` to `scipp.Dataset`.\n",
    "- `from_xarray` for converting `xarray.DataArray` or `xarray.Dataset` to `scipp.DataAray` or `scipp.Dataset`, respectively.\n",
    "\n",
    "Both functions are available in the `compat` submodule.\n",
    "\n",
    "</div>"
   ]
  },
  {
   "cell_type": "markdown",
   "metadata": {
    "tags": []
   },
   "source": [
    "### Reduction operations\n",
    "\n",
    "#### Internal precision in summation operations\n",
    "\n",
    "<div class=\"alert alert-info\">\n",
    "\n",
    "**New in 0.9**\n",
    "\n",
    "Reduction operations such as `sum` of single-precision (`float32`) data now use double-precision (`float64`) internally to reduce the effects of rounding errors.\n",
    "\n",
    "</div>\n",
    "\n",
    "#### Reductions over multiple inputs using `reduce`\n",
    "\n",
    "<div class=\"alert alert-info\">\n",
    "\n",
    "**New in 0.9**\n",
    "\n",
    "The new `reduce` function can be used for reduction operations that do not operate along a dimension of a scipp object but rather across a list or tuple of multiple scipp objects.\n",
    "The mechanism is a 2-step approach, with a syntax similar to `groupby`:\n",
    "\n",
    "</div>"
   ]
  },
  {
   "cell_type": "code",
   "execution_count": null,
   "metadata": {},
   "outputs": [],
   "source": [
    "a = sc.linspace(dim=\"x\", start=0.0, stop=1.0, num=4)\n",
    "b = sc.linspace(dim=\"x\", start=0.2, stop=0.8, num=4)\n",
    "c = sc.linspace(dim=\"x\", start=0.2, stop=1.2, num=4)\n",
    "sc.reduce([a, b, c]).sum()"
   ]
  },
  {
   "cell_type": "code",
   "execution_count": null,
   "metadata": {},
   "outputs": [],
   "source": [
    "reducer = sc.reduce([a, b, c])\n",
    "reducer.min()"
   ]
  },
  {
   "cell_type": "code",
   "execution_count": null,
   "metadata": {},
   "outputs": [],
   "source": [
    "reducer.max()"
   ]
  },
  {
   "cell_type": "markdown",
   "metadata": {
    "tags": []
   },
   "source": [
    "### Shape operations\n",
    "\n",
    "#### `concat` replacing `concatenate`\n",
    "\n",
    "<div class=\"alert alert-info\">\n",
    "\n",
    "**New in 0.9**\n",
    "\n",
    "`concat` is replacing `concatenate` (which is deprecated now and will be removed in 0.10).\n",
    "It supports a list of inputs rather than just 2 inputs.\n",
    "\n",
    "</div>"
   ]
  },
  {
   "cell_type": "code",
   "execution_count": null,
   "metadata": {},
   "outputs": [],
   "source": [
    "a = sc.scalar(1.2)\n",
    "b = sc.scalar(2.3)\n",
    "c = sc.scalar(3.4)\n",
    "sc.concat([a, b, c], \"x\")"
   ]
  },
  {
   "cell_type": "markdown",
   "metadata": {
    "tags": []
   },
   "source": [
    "### Vectors and matrices\n",
    "\n",
    "#### General\n",
    "\n",
    "<div class=\"alert alert-info\">\n",
    "\n",
    "**New in 0.11**\n",
    "    \n",
    "`scipp.spatial` has been restructured and extended:\n",
    "\n",
    "- New data types for spatial transforms were added:\n",
    "  - `vector3` (renamed from `vector3_float64`)\n",
    "  - `rotation3` (3-D rotation defined using quaternion coeffiecients)\n",
    "  - `translation3` (translation in 3-D)\n",
    "  - `linear_transform3` (previously `matrix_3_float64`, 3-D linear transform with, e.g., rotation and scaling)\n",
    "  - `affine_transform3` (affine transform in 3-D, combination of a linear transform and a translation, defined using 4x4 matrix)\n",
    "- The [scipp.spatial](https://scipp.github.io/generated/modules/scipp.spatial.html) submodule was extended with a number of new creation functions, in particular for the new dtypes.\n",
    "- `matrix` and `matrices` for creating \"matrices\" have been deprecated. Use `scipp.spatial.linear_transform` and `scipp.spatial.linear_transforms` instead.\n",
    "\n",
    "</div>\n",
    "\n",
    "Note that the `scipp.spatial` subpackage must be imported explicitly:"
   ]
  },
  {
   "cell_type": "code",
   "execution_count": null,
   "metadata": {},
   "outputs": [],
   "source": [
    "from scipp import spatial\n",
    "linear = spatial.linear_transform(value=[[1,0,0],[0,2,0],[0,0,3]])\n",
    "linear"
   ]
  },
  {
   "cell_type": "code",
   "execution_count": null,
   "metadata": {},
   "outputs": [],
   "source": [
    "trans = spatial.translation(value=[1,2,3], unit='m')\n",
    "trans"
   ]
  },
  {
   "cell_type": "markdown",
   "metadata": {},
   "source": [
    "Multiplication can be used to combine the various transforms:"
   ]
  },
  {
   "cell_type": "code",
   "execution_count": null,
   "metadata": {},
   "outputs": [],
   "source": [
    "linear * trans"
   ]
  },
  {
   "cell_type": "markdown",
   "metadata": {},
   "source": [
    "Note that in the case of `affine_transform3` the unit refers to the translation part.\n",
    "A unit for the linear part is currently not supported."
   ]
  },
  {
   "cell_type": "markdown",
   "metadata": {},
   "source": [
    "### Coordinate transformations"
   ]
  },
  {
   "cell_type": "markdown",
   "metadata": {},
   "source": [
    "<div class=\"alert alert-info\">\n",
    "\n",
    "**New in 0.8**\n",
    "\n",
    "The `transform_coords` function has been added (also available as method of data arrays and datasets).\n",
    "It is a tool for transforming one or more input coordinates into one or more output coordinates. It automatically handles:\n",
    "\n",
    "- Renaming of dimensions, if dimension-coordinates are transformed.\n",
    "- Change of coordinates to attributes to avoid interference of coordinates consumed by the transformation in follow-up operations.\n",
    "- Conversion of event-coordinates of binned data, if present.\n",
    "\n",
    "See [Coordinate transformations](../user-guide/coordinate-transformations.ipynb) for a full description.\n",
    "\n",
    "</div>"
   ]
  },
  {
   "cell_type": "markdown",
   "metadata": {},
   "source": [
    "### Physical constants\n",
    "\n",
    "<div class=\"alert alert-info\">\n",
    "\n",
    "**New in 0.8**\n",
    "    \n",
    "The `scipp.constants` (in the style of `scipy.constants`) submodule was added, providing physical constants from CODATA 2018.\n",
    "For full details see the [module's documentation](../generated/modules/scipp.constants.rst).\n",
    "\n",
    "</div>\n",
    "\n",
    "Examples:"
   ]
  },
  {
   "cell_type": "code",
   "execution_count": null,
   "metadata": {},
   "outputs": [],
   "source": [
    "from scipp.constants import hbar, m_e, physical_constants"
   ]
  },
  {
   "cell_type": "code",
   "execution_count": null,
   "metadata": {},
   "outputs": [],
   "source": [
    "hbar"
   ]
  },
  {
   "cell_type": "code",
   "execution_count": null,
   "metadata": {},
   "outputs": [],
   "source": [
    "m_e"
   ]
  },
  {
   "cell_type": "code",
   "execution_count": null,
   "metadata": {},
   "outputs": [],
   "source": [
    "physical_constants(\"speed of light in vacuum\")"
   ]
  },
  {
   "cell_type": "code",
   "execution_count": null,
   "metadata": {},
   "outputs": [],
   "source": [
    "physical_constants(\"neutron mass\", with_variance=True)"
   ]
  },
  {
   "cell_type": "markdown",
   "metadata": {
    "tags": []
   },
   "source": [
    "## SciPy compatibility layer"
   ]
  },
  {
   "cell_type": "markdown",
   "metadata": {},
   "source": [
    "<div class=\"alert alert-info\">\n",
    "\n",
    "**New in 0.11**\n",
    "    \n",
    "A number of subpackages providing wrappers for a *subset* of functions from the corresponding packages in SciPy was added:\n",
    "    \n",
    "- [scipp.integrate](../generated/modules/scipp.integrate.rst) providing `simpson` and `trapezoid`.\n",
    "- [scipp.interpolate](../generated/modules/scipp.interpolate.rst) providing `interp1d`.\n",
    "- [scipp.optimize](../generated/modules/scipp.optimize.rst) providing `curve_fit`.\n",
    "- [scipp.signal](../generated/modules/scipp.signal.rst) providing `butter` and `sosfiltfilt`.\n",
    "\n",
    "</div>\n",
    "\n",
    "Please refer to the function documentation for working examples."
   ]
  },
  {
   "cell_type": "markdown",
   "metadata": {
    "tags": []
   },
   "source": [
    "## Performance"
   ]
  },
  {
   "cell_type": "markdown",
   "metadata": {},
   "source": [
    "<div class=\"alert alert-info\">\n",
    "\n",
    "**New in 0.9**\n",
    "\n",
    "- `sc.lookup(histogram, dim)[var]` is now faster if `histogram` is very long and is integer-valued.\n",
    "  This is relevant in a number of event-filtering operations.\n",
    "\n",
    "</div>"
   ]
  }
 ],
 "metadata": {
  "kernelspec": {
   "display_name": "Python 3 (ipykernel)",
   "language": "python",
   "name": "python3"
  },
  "language_info": {
   "codemirror_mode": {
    "name": "ipython",
    "version": 3
   },
   "file_extension": ".py",
   "mimetype": "text/x-python",
   "name": "python",
   "nbconvert_exporter": "python",
   "pygments_lexer": "ipython3"
  }
 },
 "nbformat": 4,
 "nbformat_minor": 4
}

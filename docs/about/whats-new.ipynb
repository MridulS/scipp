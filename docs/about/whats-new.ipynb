{
 "cells": [
  {
   "cell_type": "markdown",
   "metadata": {
    "tags": []
   },
   "source": [
    "# What's new in Scipp\n",
    "\n",
    "This page highlights feature additions and discusses major changes from recent releases.\n",
    "For a full list of changes see the [Release Notes](https://scipp.github.io/about/release-notes.html)."
   ]
  },
  {
   "cell_type": "code",
   "execution_count": null,
   "metadata": {},
   "outputs": [],
   "source": [
    "import numpy as np\n",
    "import scipp as sc"
   ]
  },
  {
   "cell_type": "markdown",
   "metadata": {
    "tags": []
   },
   "source": [
    "## General"
   ]
  },
  {
   "cell_type": "markdown",
   "metadata": {
    "tags": []
   },
   "source": [
    "### String formatting\n",
    "\n",
    "<div class=\"alert alert-info\">\n",
    "\n",
    "**New in 0.15**\n",
    "\n",
    "Added support for compact formatting of 0-D variables.\n",
    "\n",
    "</div>\n",
    "\n",
    "Example:"
   ]
  },
  {
   "cell_type": "code",
   "execution_count": null,
   "metadata": {},
   "outputs": [],
   "source": [
    "var = sc.scalar(12.5, variance=4.0, unit='mm')\n",
    "print(f'{var}')\n",
    "print(f'{var:c}')"
   ]
  },
  {
   "cell_type": "markdown",
   "metadata": {
    "tags": []
   },
   "source": [
    "### Implicit conversion to boolean\n",
    "\n",
    "<div class=\"alert alert-info\">\n",
    "\n",
    "**New in 0.15**\n",
    "\n",
    "Added support for implicit conversion of 0-D variables to bool.\n",
    "\n",
    "</div>\n",
    "\n",
    "Examples:"
   ]
  },
  {
   "cell_type": "code",
   "execution_count": null,
   "metadata": {},
   "outputs": [],
   "source": [
    "if sc.scalar(1, unit='m') < sc.scalar(2, unit='m'):\n",
    "    print('ok')\n",
    "\n",
    "var = sc.array(values=[1, 2, 3, 4, 5], dims=['x'], unit='m')\n",
    "if sc.any(var == sc.scalar(3, unit='m')):\n",
    "    print('ok')"
   ]
  },
  {
   "cell_type": "markdown",
   "metadata": {
    "tags": []
   },
   "source": [
    "### Keyword-argument syntax for `rename_dims`\n",
    "\n",
    "<div class=\"alert alert-info\">\n",
    "\n",
    "**New in 0.15**\n",
    "\n",
    "Added support for keyword arguments in `rename_dims` to define dimensions, as also supported by `rename`.\n",
    "\n",
    "</div>\n",
    "\n",
    "Example:"
   ]
  },
  {
   "cell_type": "code",
   "execution_count": null,
   "metadata": {},
   "outputs": [],
   "source": [
    "var = sc.ones(dims=['x', 'y'], shape=(4, 3))\n",
    "var.rename_dims(x='xnew', y='ynew')"
   ]
  },
  {
   "cell_type": "markdown",
   "metadata": {
    "tags": []
   },
   "source": [
    "### Unique dimensions and slicing of 1-D objects\n",
    "\n",
    "<div class=\"alert alert-info\">\n",
    "\n",
    "**New in 0.9**\n",
    "\n",
    "The new `dim` property checks whether an object is 1-D, and returns the only dimension label.\n",
    "An exception is raised if the object is not 1-D.\n",
    "</div>\n",
    "\n",
    "Example:"
   ]
  },
  {
   "cell_type": "code",
   "execution_count": null,
   "metadata": {},
   "outputs": [],
   "source": [
    "x = sc.linspace(dim='x', start=0, stop=1, num=4)\n",
    "x.dim"
   ]
  },
  {
   "cell_type": "markdown",
   "metadata": {
    "tags": []
   },
   "source": [
    "<div class=\"alert alert-info\">\n",
    "\n",
    "**New in 0.11**\n",
    "\n",
    "1-D objects can now be sliced without specifying a dimension.\n",
    "</div>\n",
    "\n",
    "Example:"
   ]
  },
  {
   "cell_type": "code",
   "execution_count": null,
   "metadata": {},
   "outputs": [],
   "source": [
    "x[-1]"
   ]
  },
  {
   "cell_type": "markdown",
   "metadata": {},
   "source": [
    "If an object is not 1-D then `DimensionError` is raised:"
   ]
  },
  {
   "cell_type": "code",
   "execution_count": null,
   "metadata": {
    "tags": [
     "raises-exception"
    ]
   },
   "outputs": [],
   "source": [
    "var2d = sc.concat([x, x], 'y')\n",
    "var2d[0]"
   ]
  },
  {
   "cell_type": "markdown",
   "metadata": {
    "tags": []
   },
   "source": [
    "### Slicing with stride\n",
    "\n",
    "<div class=\"alert alert-info\">\n",
    "\n",
    "**New in 0.12**\n",
    "\n",
    "Positional slicing (slicing with integer indices, as opposed to slicing with a label matching a coordinate value) now supports strides.\n",
    "\n",
    "Negative strides are currently not supported.\n",
    "\n",
    "</div>\n",
    "\n",
    "Examples:"
   ]
  },
  {
   "cell_type": "code",
   "execution_count": null,
   "metadata": {},
   "outputs": [],
   "source": [
    "y = sc.arange('y', 10)\n",
    "y[::2]"
   ]
  },
  {
   "cell_type": "code",
   "execution_count": null,
   "metadata": {},
   "outputs": [],
   "source": [
    "x = sc.linspace('x', 0.0, 1.0, num=5)\n",
    "da = sc.DataArray(\n",
    "    sc.ones(dims=['x', 'y'], shape=[4, 10], unit='K'), coords={'x': x, 'y': y}\n",
    ")\n",
    "da['y', 1::2]"
   ]
  },
  {
   "cell_type": "markdown",
   "metadata": {},
   "source": [
    "Slicing a dimension with a bin-edge coordinate with a stride is ill-defined and not supported:"
   ]
  },
  {
   "cell_type": "code",
   "execution_count": null,
   "metadata": {
    "tags": [
     "raises-exception"
    ]
   },
   "outputs": [],
   "source": [
    "da['x', ::2]"
   ]
  },
  {
   "cell_type": "markdown",
   "metadata": {
    "tags": []
   },
   "source": [
    "### Slicing: Advanced indexing support with integer array or boolean variable\n",
    "\n",
    "<div class=\"alert alert-info\">\n",
    "\n",
    "**New in 0.13**\n",
    "\n",
    "- Added support for indexing with an integer array.\n",
    "- Added support for indexing with a boolean variable.\n",
    "    \n",
    "The [Slicing](https://scipp.github.io/user-guide/slicing.html) documentation provides details and examples.\n",
    "\n",
    "</div>"
   ]
  },
  {
   "cell_type": "markdown",
   "metadata": {
    "tags": []
   },
   "source": [
    "### Units"
   ]
  },
  {
   "cell_type": "markdown",
   "metadata": {
    "tags": []
   },
   "source": [
    "#### Unified conversion of unit and dtype\n",
    "\n",
    "<div class=\"alert alert-info\">\n",
    "\n",
    "**New in 0.11**\n",
    "\n",
    "Variables and data arrays have a new method, `to`, for conversion of dtype, unit, or both.\n",
    "This can be used to replace uses of `to_unit` and `astype`.\n",
    "\n",
    "</div>\n",
    "\n",
    "Example:"
   ]
  },
  {
   "cell_type": "code",
   "execution_count": null,
   "metadata": {},
   "outputs": [],
   "source": [
    "var = sc.arange(dim='x', start=0, stop=4, unit='m')\n",
    "var"
   ]
  },
  {
   "cell_type": "markdown",
   "metadata": {},
   "source": [
    "Use the `unit` keyword argument to convert to a different unit:"
   ]
  },
  {
   "cell_type": "code",
   "execution_count": null,
   "metadata": {},
   "outputs": [],
   "source": [
    "var.to(unit='mm')"
   ]
  },
  {
   "cell_type": "markdown",
   "metadata": {},
   "source": [
    "Use the `dtype` keyword argument to convert to a different dtype:"
   ]
  },
  {
   "cell_type": "code",
   "execution_count": null,
   "metadata": {},
   "outputs": [],
   "source": [
    "var.to(dtype='float64')"
   ]
  },
  {
   "cell_type": "markdown",
   "metadata": {},
   "source": [
    "If both `unit` and `dtype` are provided, the implementation attempts to apply the two conversions in optimal order to reduce or avoid the effect of rounding/truncation errors:"
   ]
  },
  {
   "cell_type": "code",
   "execution_count": null,
   "metadata": {},
   "outputs": [],
   "source": [
    "var.to(dtype='float64', unit='km')"
   ]
  },
  {
   "cell_type": "markdown",
   "metadata": {
    "tags": []
   },
   "source": [
    "#### Support for `unit=None`\n",
    "\n",
    "<div class=\"alert alert-info\">\n",
    "\n",
    "**New in 0.12**\n",
    "\n",
    "Previously Scipp used `unit=sc.units.dimensionless` (or the alias `unit=sc.units.one`) for anything that does not have a unit, such as strings, booleans, or bins.\n",
    "To allow for distinction of actual physically dimensionless quantities from these cases, Scipp now supports variables and, by extension, data arrays that have their unit set to `None`.\n",
    "    \n",
    "This change is accompanied by a number of related changes:\n",
    "\n",
    "- Creation function use a default unit if not given explicitly.\n",
    "  The default for *numbers* (floating point or integer) is `sc.units.dimensionless`.\n",
    "  The default for everything else, including `bool` is `None`.\n",
    "- Comparison operations, which return variables with `dtype=bool`, have `unit=None`.\n",
    "- A new function `index` was added, to allow for creation of 0-D variable with `unit=None`.\n",
    "  This complements `scalar`, which uses the default unit (depending on the `dtype`).\n",
    "\n",
    "</div>\n",
    "\n",
    "Examples:"
   ]
  },
  {
   "cell_type": "code",
   "execution_count": null,
   "metadata": {},
   "outputs": [],
   "source": [
    "print(sc.array(dims=['x'], values=[1.1, 2.2, 3.3]))\n",
    "print(sc.array(dims=['x'], values=[1, 2, 3]))\n",
    "print(sc.array(dims=['x'], values=[False, True, False]))\n",
    "print(sc.array(dims=['x'], values=['a', 'b', 'c']))"
   ]
  },
  {
   "cell_type": "code",
   "execution_count": null,
   "metadata": {},
   "outputs": [],
   "source": [
    "a = sc.array(dims=['x'], values=[1, 2, 3])\n",
    "b = sc.array(dims=['x'], values=[1, 3, 3])\n",
    "print(a == b)\n",
    "print(a < b)"
   ]
  },
  {
   "cell_type": "code",
   "execution_count": null,
   "metadata": {},
   "outputs": [],
   "source": [
    "(a == b).unit is None"
   ]
  },
  {
   "cell_type": "markdown",
   "metadata": {},
   "source": [
    "For some purposes we may use a coordinate with unique integer-valued identifiers.\n",
    "Since the identifiers to not have a physical meaning, we use `unit=None`.\n",
    "Note that this has to be given explicitly since otherwise integers are treated as numbers, i.e., the unit would be dimensionless:"
   ]
  },
  {
   "cell_type": "code",
   "execution_count": null,
   "metadata": {},
   "outputs": [],
   "source": [
    "da = sc.DataArray(\n",
    "    a, coords={'id': sc.array(dims=['x'], unit=None, values=[34, 21, 14])}\n",
    ")\n",
    "da"
   ]
  },
  {
   "cell_type": "markdown",
   "metadata": {},
   "source": [
    "The `index` function can now be used to conveniently lookup data by its identifier:"
   ]
  },
  {
   "cell_type": "code",
   "execution_count": null,
   "metadata": {},
   "outputs": [],
   "source": [
    "da['id', sc.index(21)]"
   ]
  },
  {
   "cell_type": "markdown",
   "metadata": {},
   "source": [
    "#### Reduced effect of rounding errors when converting units\n",
    "\n",
    "<div class=\"alert alert-info\">\n",
    "\n",
    "**New in 0.14**\n",
    "\n",
    "`sc.to_unit` (and therefore also the `to()` method) now avoid rounding errors when converting from a large unit to a small unit, if the conversion factor is integral.\n",
    "\n",
    "</div>\n",
    "\n",
    "Example:"
   ]
  },
  {
   "cell_type": "code",
   "execution_count": null,
   "metadata": {},
   "outputs": [],
   "source": [
    "sc.scalar(1.0, unit='m').to(unit='nm')"
   ]
  },
  {
   "cell_type": "markdown",
   "metadata": {},
   "source": [
    "### Checking if coordinates are bin-edges\n",
    "\n",
    "<div class=\"alert alert-info\">\n",
    "\n",
    "**New in 0.13**\n",
    "\n",
    "The `coords` property (and also the `attrs`, `meta`, and `masks` properties) now provide the `is_edges` method to check if an entry is a bin-edge coordinate.\n",
    "\n",
    "</div>\n",
    "\n",
    "Example:"
   ]
  },
  {
   "cell_type": "code",
   "execution_count": null,
   "metadata": {},
   "outputs": [],
   "source": [
    "import scipp as sc\n",
    "\n",
    "x = sc.arange('x', 3)\n",
    "da = sc.DataArray(x, coords={'x1': x, 'x2': sc.arange('x', 4)})\n",
    "print(f\"{da.coords.is_edges('x1') = }\")\n",
    "print(f\"{da.coords.is_edges('x2') = }\")"
   ]
  },
  {
   "cell_type": "markdown",
   "metadata": {},
   "source": [
    "### Coordinate transformations"
   ]
  },
  {
   "cell_type": "markdown",
   "metadata": {},
   "source": [
    "<div class=\"alert alert-info\">\n",
    "\n",
    "**New in 0.15**\n",
    "    \n",
    "Several improvements for `transform_coords`:\n",
    "    \n",
    "- Support a keyword-syntax for defining single-step transformations.\n",
    "- Now works with `lookup` (see below).\n",
    "- Now works with callables other than functions, such as the output of `partial` (not with keyword arguments) or instances of classes defining `__call__`.\n",
    "\n",
    "</div>\n",
    "\n",
    "Examples:"
   ]
  },
  {
   "cell_type": "code",
   "execution_count": null,
   "metadata": {},
   "outputs": [],
   "source": [
    "da = sc.data.table_xyz(nrow=10)\n",
    "da.transform_coords(xy=lambda x, y: x * y)"
   ]
  },
  {
   "cell_type": "code",
   "execution_count": null,
   "metadata": {},
   "outputs": [],
   "source": [
    "from functools import partial\n",
    "\n",
    "\n",
    "def linear(a, b, x):\n",
    "    return a * x + b\n",
    "\n",
    "\n",
    "func = partial(linear, 0.5, sc.scalar(10.0, unit='m'))\n",
    "da.transform_coords(fx=func)"
   ]
  },
  {
   "cell_type": "markdown",
   "metadata": {},
   "source": [
    "### Operations\n",
    "\n",
    "#### Creation functions"
   ]
  },
  {
   "cell_type": "markdown",
   "metadata": {},
   "source": [
    "<div class=\"alert alert-info\">\n",
    "\n",
    "**New in 0.16**\n",
    "    \n",
    "`arange` now supports creation from datetime strings, provided that an explicit `dtype='datetime64'` is given.\n",
    "\n",
    "</div>\n",
    "\n",
    "Example:"
   ]
  },
  {
   "cell_type": "code",
   "execution_count": null,
   "metadata": {},
   "outputs": [],
   "source": [
    "step = sc.scalar(10, unit='s')\n",
    "sc.arange('time', '2022-01-11T10:24:00', '2022-01-11T10:25:00', step=step, dtype='datetime64')"
   ]
  },
  {
   "cell_type": "markdown",
   "metadata": {},
   "source": [
    "<div class=\"alert alert-info\">\n",
    "\n",
    "**New in 0.11**\n",
    "    \n",
    "Creation functions for datetimes where added:\n",
    "\n",
    "- Added `epoch`, `datetime` and `datetimes`.\n",
    "\n",
    "</div>"
   ]
  },
  {
   "cell_type": "code",
   "execution_count": null,
   "metadata": {},
   "outputs": [],
   "source": [
    "sc.datetime('now', unit='ms')"
   ]
  },
  {
   "cell_type": "code",
   "execution_count": null,
   "metadata": {},
   "outputs": [],
   "source": [
    "times = sc.datetimes(\n",
    "    dims=['time'], values=['2022-01-11T10:24:03', '2022-01-11T10:24:03']\n",
    ")\n",
    "times"
   ]
  },
  {
   "cell_type": "markdown",
   "metadata": {},
   "source": [
    "The new `epoch` function is useful for obtaining the time since epoch, i.e., a time difference (`dtype='int64'`) instead of a time point (`dtype='datetime64'`):"
   ]
  },
  {
   "cell_type": "code",
   "execution_count": null,
   "metadata": {},
   "outputs": [],
   "source": [
    "times - sc.epoch(unit=times.unit)"
   ]
  },
  {
   "cell_type": "markdown",
   "metadata": {},
   "source": [
    "<div class=\"alert alert-info\">\n",
    "\n",
    "**New in 0.12**\n",
    "    \n",
    "`zeros_like`, `ones_like`, `empty_like`, and `full_like` can now be used with data arrays.\n",
    "\n",
    "</div>\n",
    "\n",
    "Example:"
   ]
  },
  {
   "cell_type": "code",
   "execution_count": null,
   "metadata": {},
   "outputs": [],
   "source": [
    "x = sc.linspace('x', 0.0, 1.0, num=5)\n",
    "da = sc.DataArray(sc.ones(dims=['x', 'y'], shape=[4, 6], unit='K'), coords={'x': x})\n",
    "sc.zeros_like(da)"
   ]
  },
  {
   "cell_type": "markdown",
   "metadata": {
    "tags": []
   },
   "source": [
    "#### Utility methods and functions"
   ]
  },
  {
   "cell_type": "markdown",
   "metadata": {},
   "source": [
    "<div class=\"alert alert-info\">\n",
    "\n",
    "**New in 0.12**\n",
    "    \n",
    "- Added `squeeze` method to remove length-1 dimensions from objects.\n",
    "- Added `rename` method to rename dimensions and associated dimension-coordinates (or attributes).\n",
    "  This complements `rename_dims`, which only changes dimension labels but does not rename coordinates.\n",
    "- Added `midpoints` to compute bin-centers.\n",
    "\n",
    "</div>\n",
    "\n",
    "Example:"
   ]
  },
  {
   "cell_type": "code",
   "execution_count": null,
   "metadata": {},
   "outputs": [],
   "source": [
    "x = sc.linspace('x', 0.0, 1.0, num=5)\n",
    "da = sc.DataArray(sc.ones(dims=['x', 'y'], shape=[4, 6], unit='K'), coords={'x': x})"
   ]
  },
  {
   "cell_type": "markdown",
   "metadata": {},
   "source": [
    "A length-1 x-dimension..."
   ]
  },
  {
   "cell_type": "code",
   "execution_count": null,
   "metadata": {},
   "outputs": [],
   "source": [
    "da['x', 0:1]"
   ]
  },
  {
   "cell_type": "markdown",
   "metadata": {},
   "source": [
    "... can be removed with `squeeze`:"
   ]
  },
  {
   "cell_type": "code",
   "execution_count": null,
   "metadata": {},
   "outputs": [],
   "source": [
    "da['x', 0:1].squeeze()"
   ]
  },
  {
   "cell_type": "markdown",
   "metadata": {},
   "source": [
    "`squeeze` returns a new object and leaves the original unchanged.\n",
    "\n",
    "Renaming is most convenient using keyword arguments:"
   ]
  },
  {
   "cell_type": "code",
   "execution_count": null,
   "metadata": {},
   "outputs": [],
   "source": [
    "da.rename(x='xnew')"
   ]
  },
  {
   "cell_type": "markdown",
   "metadata": {},
   "source": [
    "`rename` returns a new object and leaves the original unchanged.\n",
    "\n",
    "`midpoints` can be used to replace a bin-edge coordinate by bin centers:"
   ]
  },
  {
   "cell_type": "code",
   "execution_count": null,
   "metadata": {},
   "outputs": [],
   "source": [
    "da.coords['x'] = sc.midpoints(da.coords['x'])\n",
    "da"
   ]
  },
  {
   "cell_type": "markdown",
   "metadata": {
    "tags": []
   },
   "source": [
    "### Binning and histogramming operations\n",
    "\n",
    "#### Reworked API for better user experience\n",
    "\n",
    "<div class=\"alert alert-info\">\n",
    "\n",
    "**New in 0.15**\n",
    "\n",
    "Simpler interface for binning and histogramming operations:\n",
    "    \n",
    "- `sc.bin` moved to `sc.binning.make_binned`.\n",
    "  - Most users should use `sc.bin` or `sc.group` (see below for new interface).\n",
    "- `sc.histogram` moved to `sc.binning.make_histogrammed`.\n",
    "  - Most users should use `sc.hist` (see below for new interface).\n",
    "- `bin`, `group`, `hist`, and `rebin` are now available as methods (in addition to free functions).\n",
    "- `bin` and `hist` can be provided with one of:\n",
    "  - Bin count.\n",
    "  - Bin size.\n",
    "  - Bin edges.\n",
    "    \n",
    "</div>\n",
    "\n",
    "Examples, given a table:"
   ]
  },
  {
   "cell_type": "code",
   "execution_count": null,
   "metadata": {},
   "outputs": [],
   "source": [
    "table = sc.data.table_xyz(nrow=100)\n",
    "table.coords['label'] = (table.coords['x'] * 10).to(dtype='int32')\n",
    "table"
   ]
  },
  {
   "cell_type": "markdown",
   "metadata": {},
   "source": [
    "Bin into 10 x and y bins:"
   ]
  },
  {
   "cell_type": "code",
   "execution_count": null,
   "metadata": {},
   "outputs": [],
   "source": [
    "table.bin(x=10, y=10)"
   ]
  },
  {
   "cell_type": "markdown",
   "metadata": {},
   "source": [
    "Bin based on bin size:"
   ]
  },
  {
   "cell_type": "code",
   "execution_count": null,
   "metadata": {},
   "outputs": [],
   "source": [
    "table.bin(x=1 * sc.Unit('mm'))"
   ]
  },
  {
   "cell_type": "markdown",
   "metadata": {},
   "source": [
    "Group by label and bin by y:"
   ]
  },
  {
   "cell_type": "code",
   "execution_count": null,
   "metadata": {},
   "outputs": [],
   "source": [
    "table.group('label').bin(y=20)"
   ]
  },
  {
   "cell_type": "markdown",
   "metadata": {},
   "source": [
    "For more examples see the documentation of the functions."
   ]
  },
  {
   "cell_type": "markdown",
   "metadata": {
    "tags": []
   },
   "source": [
    "#### Multi-dimensional histogramming\n",
    "\n",
    "<div class=\"alert alert-info\">\n",
    "\n",
    "**New in 0.15**\n",
    "    \n",
    "Added support for multi-dimensional histogramming with `hist`.\n",
    "This is partially based on `bin`, i.e., performance may be sub-optimal.\n",
    "    \n",
    "</div>\n",
    "\n",
    "Example:"
   ]
  },
  {
   "cell_type": "code",
   "execution_count": null,
   "metadata": {},
   "outputs": [],
   "source": [
    "table.hist(x=10, y=20)"
   ]
  },
  {
   "cell_type": "markdown",
   "metadata": {
    "tags": []
   },
   "source": [
    "#### `nanhist`\n",
    "\n",
    "<div class=\"alert alert-info\">\n",
    "\n",
    "**New in 0.15**\n",
    "    \n",
    "Added `nanhist`, to skip NaN values when computing a histogram.\n",
    "This is based on `bin`, i.e., performance may be sub-optimal.\n",
    "    \n",
    "</div>"
   ]
  },
  {
   "cell_type": "markdown",
   "metadata": {
    "tags": []
   },
   "source": [
    "### Binned data\n",
    "\n",
    "#### Concatenating bins along all dimensions\n",
    "\n",
    "<div class=\"alert alert-info\">\n",
    "\n",
    "**New in 0.16**\n",
    "\n",
    "The `bins.concat` method now supports concatenation of all dims.\n",
    "    \n",
    "</div>\n",
    "\n",
    "Example:"
   ]
  },
  {
   "cell_type": "code",
   "execution_count": null,
   "metadata": {},
   "outputs": [],
   "source": [
    "da = sc.data.table_xyz(nrow=100).bin(y=2, x=10)\n",
    "da.bins.concat()  # 0-D output, i.e., a single bin"
   ]
  },
  {
   "cell_type": "markdown",
   "metadata": {
    "tags": []
   },
   "source": [
    "#### Interpolation using `lookup`\n",
    "\n",
    "<div class=\"alert alert-info\">\n",
    "\n",
    "**New in 0.15**\n",
    "\n",
    "`lookup` is extended and improved, to facilitate \"event filtering\" operations:\n",
    "    \n",
    "- Support for non-histogram data arrays as input functions.\n",
    "  In this case two lookup modes, `previous` and `nearest` are provided.\n",
    "  This makes this similar to `scipy.interpolate.interp1d`.\n",
    "- Custom fill values are now supported.\n",
    "  This is used for out-of-range as well as for masked values.\n",
    "- Works with `transform_coords`.\n",
    "\n",
    "</div>\n",
    "\n",
    "Example:\n",
    "\n",
    "Given a function `func` and a data array:"
   ]
  },
  {
   "cell_type": "code",
   "execution_count": null,
   "metadata": {},
   "outputs": [],
   "source": [
    "x = sc.linspace('x', 0, 1, num=51, unit='m')\n",
    "func = sc.DataArray(x * x, coords={'x': x})  # approximating f(x) = x**2\n",
    "table = sc.data.table_xyz(nrow=100)\n",
    "da = table.bin(y=2, x=10)  # note x=10, unlike in func above"
   ]
  },
  {
   "cell_type": "markdown",
   "metadata": {},
   "source": [
    "We can compute a new coordinate `x2`, for both the bin coordinate and the event coordinate:"
   ]
  },
  {
   "cell_type": "code",
   "execution_count": null,
   "metadata": {},
   "outputs": [],
   "source": [
    "da = da.transform_coords(x2=sc.lookup(func, mode='nearest'))\n",
    "da"
   ]
  },
  {
   "cell_type": "code",
   "execution_count": null,
   "metadata": {},
   "outputs": [],
   "source": [
    "sc.show(da)"
   ]
  },
  {
   "cell_type": "markdown",
   "metadata": {
    "tags": []
   },
   "source": [
    "### Reduction operations\n",
    "\n",
    "#### More operations supported by data arrays and datasets\n",
    "\n",
    "<div class=\"alert alert-info\">\n",
    "\n",
    "**New in 0.14**\n",
    "\n",
    "- `DataArray` and `Dataset` now support more reduction operations, including `sum`, `nansum`, `mean`, `nanmean`, `max`, `min`, `nanmax`, `nanmin`, `all`, and `any`.\n",
    "- All of the above are now also supported for the `bins` property.\n",
    "- `groupby` now also supports all of these operations.\n",
    "  Exception: `nanmean`.\n",
    "- Event-based masks are now supported in all reduction operations.\n",
    "</div>\n",
    "\n",
    "Example:"
   ]
  },
  {
   "cell_type": "code",
   "execution_count": null,
   "metadata": {},
   "outputs": [],
   "source": [
    "da = sc.data.binned_x(nevent=100, nbin=3)\n",
    "da"
   ]
  },
  {
   "cell_type": "markdown",
   "metadata": {},
   "source": [
    "The maximum value in each bin:"
   ]
  },
  {
   "cell_type": "code",
   "execution_count": null,
   "metadata": {},
   "outputs": [],
   "source": [
    "da.bins.max()"
   ]
  },
  {
   "cell_type": "markdown",
   "metadata": {},
   "source": [
    "The maximum value in each bin of a binned variable, here a coordinate:"
   ]
  },
  {
   "cell_type": "code",
   "execution_count": null,
   "metadata": {},
   "outputs": [],
   "source": [
    "da.bins.coords['x'].bins.max()"
   ]
  },
  {
   "cell_type": "markdown",
   "metadata": {
    "tags": []
   },
   "source": [
    "### Shape operations"
   ]
  },
  {
   "cell_type": "markdown",
   "metadata": {
    "tags": []
   },
   "source": [
    "#### `fold` supports size -1\n",
    "\n",
    "<div class=\"alert alert-info\">\n",
    "\n",
    "**New in 0.12**\n",
    "\n",
    "`fold` now accepts up to one size (or shape) entry with value `-1`.\n",
    "This indicates that the size should be computed automatically based on the input size and other provided sizes.\n",
    "\n",
    "</div>\n",
    "\n",
    "Example:"
   ]
  },
  {
   "cell_type": "code",
   "execution_count": null,
   "metadata": {},
   "outputs": [],
   "source": [
    "var = sc.arange('xyz', 2448)\n",
    "var.fold('xyz', sizes={'x': 4, 'y': 4, 'z': -1})"
   ]
  },
  {
   "cell_type": "markdown",
   "metadata": {},
   "source": [
    "#### `broadcast` supports `DataArray`\n",
    "\n",
    "<div class=\"alert alert-info\">\n",
    "\n",
    "**New in 0.13**\n",
    "\n",
    "`broadcast` now also supports data arrays.\n",
    "\n",
    "</div>"
   ]
  },
  {
   "cell_type": "markdown",
   "metadata": {},
   "source": [
    "#### `flatten` drops mismatching bin edges\n",
    "\n",
    "<div class=\"alert alert-info\">\n",
    "\n",
    "**New in 0.15**\n",
    "\n",
    "`flatten` now drops mismatching bin edges instead of raising an exception.\n",
    "\n",
    "</div>\n",
    "\n",
    "Example:"
   ]
  },
  {
   "cell_type": "code",
   "execution_count": null,
   "metadata": {},
   "outputs": [],
   "source": [
    "hist = sc.data.table_xyz(nrow=100).hist(y=2, x=4)\n",
    "hist.flatten(to='yx')"
   ]
  },
  {
   "cell_type": "markdown",
   "metadata": {},
   "source": [
    "Above the `x` edges cannot be joined together so the coordinate is dropped in the result.\n",
    "Note the similar behavior of integer-array indexing, for the same reason:"
   ]
  },
  {
   "cell_type": "code",
   "execution_count": null,
   "metadata": {},
   "outputs": [],
   "source": [
    "hist['x', [0, 2, 3]]  # drops x edges"
   ]
  },
  {
   "cell_type": "markdown",
   "metadata": {
    "tags": []
   },
   "source": [
    "### Vectors and matrices\n",
    "\n",
    "#### General\n",
    "\n",
    "<div class=\"alert alert-info\">\n",
    "\n",
    "**New in 0.11**\n",
    "    \n",
    "`scipp.spatial` has been restructured and extended:\n",
    "\n",
    "- New data types for spatial transforms were added:\n",
    "  - `vector3` (renamed from `vector3_float64`)\n",
    "  - `rotation3` (3-D rotation defined using quaternion coeffiecients)\n",
    "  - `translation3` (translation in 3-D)\n",
    "  - `linear_transform3` (previously `matrix_3_float64`, 3-D linear transform with, e.g., rotation and scaling)\n",
    "  - `affine_transform3` (affine transform in 3-D, combination of a linear transform and a translation, defined using 4x4 matrix)\n",
    "- The [scipp.spatial](https://scipp.github.io/generated/modules/scipp.spatial.html) submodule was extended with a number of new creation functions, in particular for the new dtypes.\n",
    "- `matrix` and `matrices` for creating \"matrices\" have been deprecated. Use `scipp.spatial.linear_transform` and `scipp.spatial.linear_transforms` instead.\n",
    "\n",
    "</div>\n",
    "\n",
    "Note that the `scipp.spatial` subpackage must be imported explicitly:"
   ]
  },
  {
   "cell_type": "code",
   "execution_count": null,
   "metadata": {},
   "outputs": [],
   "source": [
    "from scipp import spatial\n",
    "\n",
    "linear = spatial.linear_transform(value=[[1, 0, 0], [0, 2, 0], [0, 0, 3]])\n",
    "linear"
   ]
  },
  {
   "cell_type": "code",
   "execution_count": null,
   "metadata": {},
   "outputs": [],
   "source": [
    "trans = spatial.translation(value=[1, 2, 3], unit='m')\n",
    "trans"
   ]
  },
  {
   "cell_type": "markdown",
   "metadata": {},
   "source": [
    "Multiplication can be used to combine the various transforms:"
   ]
  },
  {
   "cell_type": "code",
   "execution_count": null,
   "metadata": {},
   "outputs": [],
   "source": [
    "linear * trans"
   ]
  },
  {
   "cell_type": "markdown",
   "metadata": {},
   "source": [
    "Note that in the case of `affine_transform3` the unit refers to the translation part.\n",
    "A unit for the linear part is currently not supported."
   ]
  },
  {
   "cell_type": "markdown",
   "metadata": {
    "tags": [],
    "toc-hr-collapsed": true
   },
   "source": [
    "## Plotting"
   ]
  },
  {
   "cell_type": "markdown",
   "metadata": {
    "tags": []
   },
   "source": [
    "### Matplotlib backend no longer defaults to interactive\n",
    "\n",
    "<div class=\"alert alert-info\">\n",
    "\n",
    "**New in 0.16**\n",
    "\n",
    "Plots are no longer interactive by default, standard Matplotlib rules apply, i.e., the `inline` backend is the default.\n",
    "\n",
    "</div>\n",
    "\n",
    "Activate the interactive backend:"
   ]
  },
  {
   "cell_type": "code",
   "execution_count": null,
   "metadata": {},
   "outputs": [],
   "source": [
    "%matplotlib widget"
   ]
  },
  {
   "cell_type": "markdown",
   "metadata": {
    "tags": []
   },
   "source": [
    "## SciPy compatibility layer"
   ]
  },
  {
   "cell_type": "markdown",
   "metadata": {},
   "source": [
    "<div class=\"alert alert-info\">\n",
    "\n",
    "**New in 0.11**\n",
    "    \n",
    "A number of subpackages providing wrappers for a *subset* of functions from the corresponding packages in SciPy was added:\n",
    "    \n",
    "- [scipp.integrate](../generated/modules/scipp.integrate.rst) providing `simpson` and `trapezoid`.\n",
    "- [scipp.interpolate](../generated/modules/scipp.interpolate.rst) providing `interp1d`.\n",
    "- [scipp.optimize](../generated/modules/scipp.optimize.rst) providing `curve_fit`.\n",
    "- [scipp.signal](../generated/modules/scipp.signal.rst) providing `butter` and `sosfiltfilt`.\n",
    "\n",
    "</div>\n",
    "\n",
    "Please refer to the function documentation for working examples."
   ]
  },
  {
   "cell_type": "markdown",
   "metadata": {},
   "source": [
    "<div class=\"alert alert-info\">\n",
    "\n",
    "**New in 0.14**\n",
    "    \n",
    "- [scipp.ndimage](../generated/modules/scipp.ndimage.rst) providing `gaussian_filter`, `median_filter`, and more.\n",
    "\n",
    "</div>"
   ]
  },
  {
   "cell_type": "markdown",
   "metadata": {
    "tags": []
   },
   "source": [
    "## Python ecosystem compatibility"
   ]
  },
  {
   "cell_type": "markdown",
   "metadata": {},
   "source": [
    "<div class=\"alert alert-info\">\n",
    "\n",
    "**New in 0.15**\n",
    "    \n",
    "Added `scipp.compat.to_xarray`\n",
    "\n",
    "</div>\n",
    "\n",
    "Example:"
   ]
  },
  {
   "cell_type": "code",
   "execution_count": null,
   "metadata": {},
   "outputs": [],
   "source": [
    "da = sc.data.data_xy()\n",
    "sc.compat.to_xarray(da)"
   ]
  },
  {
   "cell_type": "markdown",
   "metadata": {
    "tags": []
   },
   "source": [
    "## Performance"
   ]
  },
  {
   "cell_type": "markdown",
   "metadata": {},
   "source": [
    "<div class=\"alert alert-info\">\n",
    "\n",
    "**New in 0.12**\n",
    "\n",
    "- `sc.bin()` is now faster when binning or grouping into thousands of bins or more.\n",
    "\n",
    "</div>"
   ]
  },
  {
   "cell_type": "markdown",
   "metadata": {},
   "source": [
    "<div class=\"alert alert-info\">\n",
    "\n",
    "**New in 0.14**\n",
    "\n",
    "Fixed slow import times of `scipp`.\n",
    "\n",
    "</div>"
   ]
  }
 ],
 "metadata": {
  "kernelspec": {
   "display_name": "Python 3 (ipykernel)",
   "language": "python",
   "name": "python3"
  },
  "language_info": {
   "codemirror_mode": {
    "name": "ipython",
    "version": 3
   },
   "file_extension": ".py",
   "mimetype": "text/x-python",
   "name": "python",
   "nbconvert_exporter": "python",
   "pygments_lexer": "ipython3"
  }
 },
 "nbformat": 4,
 "nbformat_minor": 4
}

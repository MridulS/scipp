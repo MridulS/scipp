{
 "cells": [
  {
   "cell_type": "markdown",
   "metadata": {},
   "source": [
    "# Data types\n",
    "\n",
    "In most cases, the data type (`dtype`) of a [Variable](../generated/scipp.Variable.html) is derived from the data. For instance when passing a [numpy array](https://docs.scipy.org/doc/numpy/reference/generated/numpy.ndarray.html#numpy.ndarray) to scipp, scipp will use the `dtype` provided by numpy:"
   ]
  },
  {
   "cell_type": "code",
   "execution_count": null,
   "metadata": {},
   "outputs": [],
   "source": [
    "import numpy as np\n",
    "import scipp as sc\n",
    "from scipp import Dim\n",
    "\n",
    "var = sc.Variable(dims=['x'], values=np.arange(4.0))\n",
    "var.dtype"
   ]
  },
  {
   "cell_type": "code",
   "execution_count": null,
   "metadata": {},
   "outputs": [],
   "source": [
    "var = sc.Variable(dims=['x'], values=np.arange(4))\n",
    "var.dtype"
   ]
  },
  {
   "cell_type": "markdown",
   "metadata": {},
   "source": [
    "The `dtype` may also be specified using a keyword argument. It is possible to use scipp's own`scipp.dtype`, [numpy.dtype](https://docs.scipy.org/doc/numpy/reference/generated/numpy.dtype.html#numpy.dtype), or a string:"
   ]
  },
  {
   "cell_type": "code",
   "execution_count": null,
   "metadata": {},
   "outputs": [],
   "source": [
    "var = sc.Variable(dims=['x'], shape=[2], dtype=sc.dtype.float32)\n",
    "var.dtype"
   ]
  },
  {
   "cell_type": "code",
   "execution_count": null,
   "metadata": {},
   "outputs": [],
   "source": [
    "var = sc.Variable(dims=['x'], shape=[2], dtype=np.dtype(np.float32))\n",
    "var.dtype"
   ]
  },
  {
   "cell_type": "code",
   "execution_count": null,
   "metadata": {},
   "outputs": [],
   "source": [
    "var = sc.Variable(dims=['x'], shape=[2], dtype='float32')\n",
    "var.dtype"
   ]
  },
  {
   "cell_type": "markdown",
   "metadata": {},
   "source": [
    "If no data is provided the default is `float64`, i.e. double precision float:"
   ]
  },
  {
   "cell_type": "code",
   "execution_count": null,
   "metadata": {},
   "outputs": [],
   "source": [
    "var = sc.Variable()\n",
    "var.dtype"
   ]
  },
  {
   "cell_type": "markdown",
   "metadata": {},
   "source": [
    "Scipp supports common dtypes like\n",
    "- `float32`, `float64`\n",
    "- `int32`, `int64`\n",
    "- `bool`\n",
    "- `string`\n",
    "- `datetime64`\n",
    "\n",
    "You can get a full list using \n",
    "```python\n",
    "[s for s in dir(sc.dtype) if not s.startswith('__')]\n",
    "```\n",
    "but note that many of those dtypes are only meant for internal use.\n",
    "\n",
    "[Customizing Scipp](../developer/customizing.rst) explains how support for additional types can be added."
   ]
  }
 ],
 "metadata": {
  "kernelspec": {
   "display_name": "Python 3",
   "language": "python",
   "name": "python3"
  },
  "language_info": {
   "codemirror_mode": {
    "name": "ipython",
    "version": 3
   },
   "file_extension": ".py",
   "mimetype": "text/x-python",
   "name": "python",
   "nbconvert_exporter": "python",
   "pygments_lexer": "ipython3",
   "version": "3.7.10"
  }
 },
 "nbformat": 4,
 "nbformat_minor": 2
}

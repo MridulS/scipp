{
 "cells": [
  {
   "cell_type": "markdown",
   "metadata": {},
   "source": [
    "# Physical units\n",
    "\n",
    "All variables in scipp have a physical unit.\n",
    "Variables are used for coordinates, data, and attributes, therefore, all of these have a unit.\n",
    "\n",
    "## Basic Operations\n",
    "\n",
    "Units are encoded by the [scipp.Unit](../generated/classes/scipp.Unit.rst) class.\n",
    "Instances of this class can be constructed from strings:"
   ]
  },
  {
   "cell_type": "code",
   "execution_count": null,
   "metadata": {
    "pycharm": {
     "name": "#%%\n"
    }
   },
   "outputs": [],
   "source": [
    "import scipp as sc\n",
    "\n",
    "length = sc.Unit('m')\n",
    "length"
   ]
  },
  {
   "cell_type": "markdown",
   "metadata": {},
   "source": [
    "[scipp.Unit](../generated/classes/scipp.Unit.rst) defines mathematical operators for combining units:"
   ]
  },
  {
   "cell_type": "code",
   "execution_count": null,
   "metadata": {
    "collapsed": false,
    "jupyter": {
     "outputs_hidden": false
    },
    "pycharm": {
     "name": "#%%\n"
    }
   },
   "outputs": [],
   "source": [
    "area = length * length\n",
    "area"
   ]
  },
  {
   "cell_type": "code",
   "execution_count": null,
   "metadata": {},
   "outputs": [],
   "source": [
    "volume = length * length * length\n",
    "volume"
   ]
  },
  {
   "cell_type": "code",
   "execution_count": null,
   "metadata": {
    "pycharm": {
     "name": "#%%\n"
    }
   },
   "outputs": [],
   "source": [
    "also_volume = length ** 3\n",
    "also_volume"
   ]
  },
  {
   "cell_type": "code",
   "execution_count": null,
   "metadata": {
    "collapsed": false,
    "jupyter": {
     "outputs_hidden": false
    },
    "pycharm": {
     "name": "#%%\n"
    }
   },
   "outputs": [],
   "source": [
    "sc.Unit('dimensionless') / length"
   ]
  },
  {
   "cell_type": "code",
   "execution_count": null,
   "metadata": {},
   "outputs": [],
   "source": [
    "speed = length / sc.Unit('s')\n",
    "speed"
   ]
  },
  {
   "cell_type": "markdown",
   "metadata": {},
   "source": [
    "Invalid operations raise exceptions:"
   ]
  },
  {
   "cell_type": "code",
   "execution_count": null,
   "metadata": {
    "pycharm": {
     "name": "#%%\n"
    },
    "tags": [
     "raises-exception"
    ]
   },
   "outputs": [],
   "source": [
    "speed + length"
   ]
  },
  {
   "cell_type": "markdown",
   "metadata": {},
   "source": [
    "It is also possible to construct composite units directly from strings:"
   ]
  },
  {
   "cell_type": "code",
   "execution_count": null,
   "metadata": {
    "collapsed": false,
    "jupyter": {
     "outputs_hidden": false
    },
    "pycharm": {
     "name": "#%%\n"
    }
   },
   "outputs": [],
   "source": [
    "sc.Unit('km')"
   ]
  },
  {
   "cell_type": "code",
   "execution_count": null,
   "metadata": {},
   "outputs": [],
   "source": [
    "sc.Unit('m/s')"
   ]
  },
  {
   "cell_type": "code",
   "execution_count": null,
   "metadata": {},
   "outputs": [],
   "source": [
    "sc.Unit('counts')"
   ]
  },
  {
   "cell_type": "code",
   "execution_count": null,
   "metadata": {
    "pycharm": {
     "is_executing": true,
     "name": "#%%\n"
    }
   },
   "outputs": [],
   "source": [
    "sc.Unit('kg*m^2/s^2')"
   ]
  },
  {
   "cell_type": "markdown",
   "metadata": {},
   "source": [
    "For convenience, the [scipp.units](../generated/modules/scipp.units.rst) module provides some frequently used units.\n",
    "See [scipp.units](../generated/modules/scipp.units.rst) for a list of those units."
   ]
  },
  {
   "cell_type": "code",
   "execution_count": null,
   "metadata": {
    "collapsed": false,
    "jupyter": {
     "outputs_hidden": false
    },
    "pycharm": {
     "name": "#%%\n"
    }
   },
   "outputs": [],
   "source": [
    "sc.units.kg"
   ]
  },
  {
   "cell_type": "code",
   "execution_count": null,
   "metadata": {
    "collapsed": false,
    "jupyter": {
     "outputs_hidden": false
    },
    "pycharm": {
     "name": "#%%\n"
    }
   },
   "outputs": [],
   "source": [
    "sc.units.m / sc.units.s"
   ]
  },
  {
   "cell_type": "code",
   "execution_count": null,
   "metadata": {
    "collapsed": false,
    "jupyter": {
     "outputs_hidden": false
    },
    "pycharm": {
     "name": "#%%\n"
    }
   },
   "outputs": [],
   "source": [
    "sc.units.dimensionless"
   ]
  },
  {
   "cell_type": "markdown",
   "metadata": {},
   "source": [
    "## Constructing Variables with Units\n",
    "\n",
    "[Variables](../generated/classes/scipp.Variable.rst#scipp.Variable) with units can be constructed using the `units` argument in the constructor or in [creation functions](./creation-functions.rst).\n",
    "When not specified explicitly, the unit of a variable defaults to `dimensionless` (a.k.a. `one`).\n",
    "That is, the variable is considered dimensionless in terms of units (not to be confused with array dimensions)."
   ]
  },
  {
   "cell_type": "code",
   "execution_count": null,
   "metadata": {
    "collapsed": false,
    "jupyter": {
     "outputs_hidden": false
    },
    "pycharm": {
     "name": "#%%\n"
    }
   },
   "outputs": [],
   "source": [
    "# same as sc.Variable(dims=['x'], values=[1, 2])\n",
    "# and     sc.Variable(dims=['x'], values=[1, 2], unit='dimensionless')\n",
    "sc.Variable(dims=['x'], values=[1, 2], unit='one')"
   ]
  },
  {
   "cell_type": "code",
   "execution_count": null,
   "metadata": {
    "collapsed": false,
    "jupyter": {
     "outputs_hidden": false
    },
    "pycharm": {
     "name": "#%%\n"
    }
   },
   "outputs": [],
   "source": [
    "sc.Variable(dims=['x'], values=[1, 2], unit='m')"
   ]
  },
  {
   "cell_type": "code",
   "execution_count": null,
   "metadata": {
    "collapsed": false,
    "jupyter": {
     "outputs_hidden": false
    },
    "pycharm": {
     "name": "#%%\n"
    }
   },
   "outputs": [],
   "source": [
    "sc.Variable(dims=['x'], values=[1, 2], unit=sc.units.m)"
   ]
  },
  {
   "cell_type": "code",
   "execution_count": null,
   "metadata": {
    "collapsed": false,
    "jupyter": {
     "outputs_hidden": false
    },
    "pycharm": {
     "name": "#%%\n"
    }
   },
   "outputs": [],
   "source": [
    "sc.arange('x', 0, 3, unit=sc.units.s)"
   ]
  },
  {
   "cell_type": "markdown",
   "metadata": {},
   "source": [
    "Scalars can also be constructed using multiplication or division of a number and a unit (in addition to [scipp.scalar](../generated/functions/scipp.scalar.rst#scipp.scalar)):"
   ]
  },
  {
   "cell_type": "code",
   "execution_count": null,
   "metadata": {
    "collapsed": false,
    "jupyter": {
     "outputs_hidden": false
    },
    "pycharm": {
     "name": "#%%\n"
    },
    "tags": []
   },
   "outputs": [],
   "source": [
    "1.2 * sc.Unit('kg/m^3')"
   ]
  },
  {
   "cell_type": "code",
   "execution_count": null,
   "metadata": {
    "collapsed": false,
    "jupyter": {
     "outputs_hidden": false
    },
    "pycharm": {
     "name": "#%%\n"
    }
   },
   "outputs": [],
   "source": [
    "3.4 / sc.units.K"
   ]
  },
  {
   "cell_type": "markdown",
   "metadata": {
    "tags": []
   },
   "source": [
    "## Supported Units\n",
    "\n",
    "Scipp supports a great number of units through LLNL's [Units](https://units.readthedocs.io/en/latest/index.html) library.\n",
    "See in particular [Defined Units](https://units.readthedocs.io/en/latest/user-guide/defined_units.html).\n",
    "\n",
    "<div class=\"alert alert-info\">\n",
    "     <b>INFO</b>\n",
    "\n",
    "The LLNL/Units library is considered an implementation detail of scipp.\n",
    "Using SI units is safe but other unit systems should be used with discretion.\n",
    "This applies especially to non-standard units like LLNL/Unit's custom (counting) units.\n",
    "</div>\n",
    "\n",
    "### Base Units\n",
    "All SI base units are supported with the following names:\n",
    "\n",
    "| Name  | Unit     |\n",
    "|-------|----------|\n",
    "| 'm'   | meter    |\n",
    "| 's'   | second   |\n",
    "| 'kg'  | kilogram |\n",
    "| 'K'   | kelvin   |\n",
    "| 'A'   | ampere   |\n",
    "| 'mol' | mole     |\n",
    "| 'cd'  | candela  |\n",
    "\n",
    "In addition, the following base units are supported for cases not covered by SI.\n",
    "\n",
    "| name    | Unit                   |\n",
    "|---------|------------------------|\n",
    "| 'rad'   | radian                 |\n",
    "| 'count' | single object counting |\n",
    "\n",
    "### Derived units\n",
    "Many derived units can also be specified as arguments to `sc.Unit`.\n",
    "Some examples are\n",
    "\n",
    "| Name             | Unit          |\n",
    "|------------------|---------------|\n",
    "| 'Hz'             | hertz         |\n",
    "| 'J'              | joule         |\n",
    "| 'V'              | volt          |\n",
    "| 'W'              | watt          |\n",
    "| 'angstrom' / 'Å' | ångström     |\n",
    "| 'eV'             | electron volt |\n",
    "| 'L'              | liter         |\n",
    "| 'min'            | minute        |\n",
    "| 'D' / 'day'      | day           |\n",
    "\n",
    "Units can be modified with SI prefixes, for instance"
   ]
  },
  {
   "cell_type": "code",
   "execution_count": null,
   "metadata": {},
   "outputs": [],
   "source": [
    "print(sc.Unit('mm'), sc.Unit('microsecond'),\n",
    "      sc.Unit('micro s'), sc.Unit('us'), sc.Unit('MJ'))"
   ]
  },
  {
   "cell_type": "markdown",
   "metadata": {},
   "source": [
    "You can also specify exponents for units or exponentiate the `Unit` object:"
   ]
  },
  {
   "cell_type": "code",
   "execution_count": null,
   "metadata": {
    "pycharm": {
     "name": "#%%\n"
    }
   },
   "outputs": [],
   "source": [
    "print(sc.Unit('m^2'), sc.Unit('m**2'), sc.Unit('m')**2)"
   ]
  },
  {
   "cell_type": "markdown",
   "metadata": {},
   "source": [
    "## Conversion Between Units of Different Scales\n",
    "\n",
    "Data can be converted between compatible units using [sc.to_unit](../generated/functions/scipp.to_unit.rst#scipp.to_unit).\n",
    "Only conversions between units of the same physical dimensions are possible."
   ]
  },
  {
   "cell_type": "code",
   "execution_count": null,
   "metadata": {
    "collapsed": false,
    "jupyter": {
     "outputs_hidden": false
    },
    "pycharm": {
     "name": "#%%\n"
    }
   },
   "outputs": [],
   "source": [
    "sc.to_unit(1.0 * sc.units.m, 'mm')"
   ]
  },
  {
   "cell_type": "code",
   "execution_count": null,
   "metadata": {
    "collapsed": false,
    "jupyter": {
     "outputs_hidden": false
    },
    "pycharm": {
     "name": "#%%\n"
    }
   },
   "outputs": [],
   "source": [
    "sc.to_unit(1.0 * sc.Unit('parsec'), 'm')"
   ]
  },
  {
   "cell_type": "code",
   "execution_count": null,
   "outputs": [],
   "source": [
    "sc.to_unit(3.14 * sc.Unit('m/s'), 'km/h')"
   ],
   "metadata": {
    "collapsed": false,
    "pycharm": {
     "name": "#%%\n"
    }
   }
  },
  {
   "cell_type": "code",
   "execution_count": null,
   "metadata": {
    "collapsed": false,
    "jupyter": {
     "outputs_hidden": false
    },
    "pycharm": {
     "name": "#%%\n"
    },
    "tags": [
     "raises-exception"
    ]
   },
   "outputs": [],
   "source": [
    "sc.to_unit(1.0 * sc.Unit('s'), 'm')"
   ]
  }
 ],
 "metadata": {
  "kernelspec": {
   "display_name": "Python 3 (ipykernel)",
   "language": "python",
   "name": "python3"
  },
  "language_info": {
   "codemirror_mode": {
    "name": "ipython",
    "version": 3
   },
   "file_extension": ".py",
   "mimetype": "text/x-python",
   "name": "python",
   "nbconvert_exporter": "python",
   "pygments_lexer": "ipython3",
   "version": "3.9.7"
  }
 },
 "nbformat": 4,
 "nbformat_minor": 4
}
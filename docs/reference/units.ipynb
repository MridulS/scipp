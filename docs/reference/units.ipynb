{
 "cells": [
  {
   "cell_type": "markdown",
   "metadata": {},
   "source": [
    "# Physical units\n",
    "\n",
    "All variables in Scipp have a physical unit.\n",
    "Variables are used for coordinates, data, and attributes, therefore, all of these have a unit.\n",
    "\n",
    "## Basic Operations\n",
    "\n",
    "Units are encoded by the [scipp.Unit](../generated/classes/scipp.Unit.rst) class.\n",
    "Instances of this class can be constructed from strings:"
   ]
  },
  {
   "cell_type": "code",
   "execution_count": null,
   "metadata": {},
   "outputs": [],
   "source": [
    "import scipp as sc\n",
    "\n",
    "length = sc.Unit('m')\n",
    "length"
   ]
  },
  {
   "cell_type": "markdown",
   "metadata": {},
   "source": [
    "[scipp.Unit](../generated/classes/scipp.Unit.rst) defines mathematical operators for combining units:"
   ]
  },
  {
   "cell_type": "code",
   "execution_count": null,
   "metadata": {
    "jupyter": {
     "outputs_hidden": false
    }
   },
   "outputs": [],
   "source": [
    "area = length * length\n",
    "area"
   ]
  },
  {
   "cell_type": "code",
   "execution_count": null,
   "metadata": {},
   "outputs": [],
   "source": [
    "volume = length * length * length\n",
    "volume"
   ]
  },
  {
   "cell_type": "code",
   "execution_count": null,
   "metadata": {},
   "outputs": [],
   "source": [
    "also_volume = length ** 3\n",
    "also_volume"
   ]
  },
  {
   "cell_type": "code",
   "execution_count": null,
   "metadata": {
    "jupyter": {
     "outputs_hidden": false
    }
   },
   "outputs": [],
   "source": [
    "sc.Unit('dimensionless') / length"
   ]
  },
  {
   "cell_type": "code",
   "execution_count": null,
   "metadata": {},
   "outputs": [],
   "source": [
    "speed = length / sc.Unit('s')\n",
    "speed"
   ]
  },
  {
   "cell_type": "markdown",
   "metadata": {},
   "source": [
    "Invalid operations raise exceptions:"
   ]
  },
  {
   "cell_type": "code",
   "execution_count": null,
   "metadata": {
    "tags": [
     "raises-exception"
    ]
   },
   "outputs": [],
   "source": [
    "speed + length"
   ]
  },
  {
   "cell_type": "markdown",
   "metadata": {},
   "source": [
    "It is also possible to construct composite units directly from strings:"
   ]
  },
  {
   "cell_type": "code",
   "execution_count": null,
   "metadata": {
    "jupyter": {
     "outputs_hidden": false
    }
   },
   "outputs": [],
   "source": [
    "sc.Unit('km')"
   ]
  },
  {
   "cell_type": "code",
   "execution_count": null,
   "metadata": {},
   "outputs": [],
   "source": [
    "sc.Unit('m/s')"
   ]
  },
  {
   "cell_type": "code",
   "execution_count": null,
   "metadata": {},
   "outputs": [],
   "source": [
    "sc.Unit('counts')"
   ]
  },
  {
   "cell_type": "code",
   "execution_count": null,
   "metadata": {},
   "outputs": [],
   "source": [
    "sc.Unit('kg*m^2/s^2')"
   ]
  },
  {
   "cell_type": "markdown",
   "metadata": {},
   "source": [
    "For convenience, the [scipp.units](../generated/modules/scipp.units.rst) module provides some frequently used units.\n",
    "See [scipp.units](../generated/modules/scipp.units.rst) for a list of those units."
   ]
  },
  {
   "cell_type": "code",
   "execution_count": null,
   "metadata": {
    "jupyter": {
     "outputs_hidden": false
    }
   },
   "outputs": [],
   "source": [
    "sc.units.kg"
   ]
  },
  {
   "cell_type": "code",
   "execution_count": null,
   "metadata": {
    "jupyter": {
     "outputs_hidden": false
    }
   },
   "outputs": [],
   "source": [
    "sc.units.m / sc.units.s"
   ]
  },
  {
   "cell_type": "code",
   "execution_count": null,
   "metadata": {
    "jupyter": {
     "outputs_hidden": false
    }
   },
   "outputs": [],
   "source": [
    "sc.units.dimensionless"
   ]
  },
  {
   "cell_type": "markdown",
   "metadata": {},
   "source": [
    "Use `repr` to see a unit in terms of SI (plus extensions) base units:"
   ]
  },
  {
   "cell_type": "code",
   "execution_count": null,
   "metadata": {},
   "outputs": [],
   "source": [
    "repr(sc.Unit('V/L'))"
   ]
  },
  {
   "cell_type": "markdown",
   "metadata": {},
   "source": [
    "This is especially helpful when it is unclear what a particular unit represents."
   ]
  },
  {
   "cell_type": "markdown",
   "metadata": {},
   "source": [
    "## Constructing Variables with Units\n",
    "\n",
    "[Variables](../generated/classes/scipp.Variable.rst#scipp.Variable) with units can be constructed using the `units` argument in the constructor or in [creation functions](./creation-functions.rst).\n",
    "When not specified explicitly, the unit of a variable defaults to `dimensionless` (a.k.a. `one`).\n",
    "That is, the variable is considered dimensionless in terms of units (not to be confused with array dimensions)."
   ]
  },
  {
   "cell_type": "code",
   "execution_count": null,
   "metadata": {
    "jupyter": {
     "outputs_hidden": false
    }
   },
   "outputs": [],
   "source": [
    "# same as sc.Variable(dims=['x'], values=[1, 2])\n",
    "# and     sc.Variable(dims=['x'], values=[1, 2], unit='dimensionless')\n",
    "sc.Variable(dims=['x'], values=[1, 2], unit='one')"
   ]
  },
  {
   "cell_type": "code",
   "execution_count": null,
   "metadata": {
    "jupyter": {
     "outputs_hidden": false
    }
   },
   "outputs": [],
   "source": [
    "sc.Variable(dims=['x'], values=[1, 2], unit='m')"
   ]
  },
  {
   "cell_type": "code",
   "execution_count": null,
   "metadata": {
    "jupyter": {
     "outputs_hidden": false
    }
   },
   "outputs": [],
   "source": [
    "sc.Variable(dims=['x'], values=[1, 2], unit=sc.units.m)"
   ]
  },
  {
   "cell_type": "code",
   "execution_count": null,
   "metadata": {
    "jupyter": {
     "outputs_hidden": false
    }
   },
   "outputs": [],
   "source": [
    "sc.arange('x', 0, 3, unit=sc.units.s)"
   ]
  },
  {
   "cell_type": "markdown",
   "metadata": {},
   "source": [
    "Scalars can also be constructed using multiplication or division of a number and a unit (in addition to [scipp.scalar](../generated/functions/scipp.scalar.rst#scipp.scalar)):"
   ]
  },
  {
   "cell_type": "code",
   "execution_count": null,
   "metadata": {
    "jupyter": {
     "outputs_hidden": false
    },
    "tags": []
   },
   "outputs": [],
   "source": [
    "1.2 * sc.Unit('kg/m^3')"
   ]
  },
  {
   "cell_type": "code",
   "execution_count": null,
   "metadata": {
    "jupyter": {
     "outputs_hidden": false
    }
   },
   "outputs": [],
   "source": [
    "3.4 / sc.units.K"
   ]
  },
  {
   "cell_type": "markdown",
   "metadata": {
    "tags": []
   },
   "source": [
    "## Supported Units\n",
    "\n",
    "Scipp supports a great number of units through LLNL's [Units](https://units.readthedocs.io/en/latest/index.html) library.\n",
    "See in particular [Defined Units](https://units.readthedocs.io/en/latest/user-guide/defined_units.html).\n",
    "\n",
    "<div class=\"alert alert-info\">\n",
    "     <b>INFO</b>\n",
    "\n",
    "The LLNL/Units library is considered an implementation detail of Scipp.\n",
    "Using SI units is safe but other unit systems should be used with discretion.\n",
    "This applies especially to non-standard units like LLNL/Unit's custom (counting) units.\n",
    "</div>\n",
    "\n",
    "### Base Units\n",
    "All SI base units are supported with the following names:\n",
    "\n",
    "| Name  | Unit     |\n",
    "|-------|----------|\n",
    "| 'm'   | meter    |\n",
    "| 's'   | second   |\n",
    "| 'kg'  | kilogram |\n",
    "| 'K'   | kelvin   |\n",
    "| 'A'   | ampere   |\n",
    "| 'mol' | mole     |\n",
    "| 'cd'  | candela  |\n",
    "\n",
    "In addition, the following base units are supported for cases not covered by SI.\n",
    "\n",
    "| name    | Unit                   |\n",
    "|---------|------------------------|\n",
    "| 'rad'   | radian                 |\n",
    "| 'count' | single object counting |\n",
    "\n",
    "### Derived units\n",
    "Many derived units can also be specified as arguments to `sc.Unit`.\n",
    "Some examples are\n",
    "\n",
    "| Name             | Unit          |\n",
    "|------------------|---------------|\n",
    "| 'Hz'             | hertz         |\n",
    "| 'J'              | joule         |\n",
    "| 'V'              | volt          |\n",
    "| 'W'              | watt          |\n",
    "| 'angstrom' / 'Å' | ångström     |\n",
    "| 'eV'             | electron volt |\n",
    "| 'L'              | liter         |\n",
    "| 'min'            | minute        |\n",
    "| 'D' / 'day'      | day           |\n",
    "\n",
    "Units can be modified with SI prefixes, for instance"
   ]
  },
  {
   "cell_type": "code",
   "execution_count": null,
   "metadata": {},
   "outputs": [],
   "source": [
    "print(sc.Unit('mm'), sc.Unit('microsecond'),\n",
    "      sc.Unit('micro s'), sc.Unit('us'), sc.Unit('MJ'))"
   ]
  },
  {
   "cell_type": "markdown",
   "metadata": {},
   "source": [
    "You can also specify exponents for units or exponentiate the `Unit` object:"
   ]
  },
  {
   "cell_type": "code",
   "execution_count": null,
   "metadata": {},
   "outputs": [],
   "source": [
    "print(sc.Unit('m^2'), sc.Unit('m**2'), sc.Unit('m')**2)"
   ]
  },
  {
   "cell_type": "markdown",
   "metadata": {},
   "source": [
    "## Conversion Between Units of Different Scales\n",
    "\n",
    "Data can be converted between compatible units using [sc.to_unit](../generated/functions/scipp.to_unit.rst#scipp.to_unit).\n",
    "Only conversions between units of the same physical dimensions are possible."
   ]
  },
  {
   "cell_type": "code",
   "execution_count": null,
   "metadata": {
    "jupyter": {
     "outputs_hidden": false
    }
   },
   "outputs": [],
   "source": [
    "sc.to_unit(1.0 * sc.units.m, 'mm')"
   ]
  },
  {
   "cell_type": "code",
   "execution_count": null,
   "metadata": {
    "jupyter": {
     "outputs_hidden": false
    }
   },
   "outputs": [],
   "source": [
    "sc.to_unit(1.0 * sc.Unit('parsec'), 'm')"
   ]
  },
  {
   "cell_type": "code",
   "execution_count": null,
   "metadata": {},
   "outputs": [],
   "source": [
    "sc.to_unit(3.14 * sc.Unit('m/s'), 'km/h')"
   ]
  },
  {
   "cell_type": "code",
   "execution_count": null,
   "metadata": {
    "jupyter": {
     "outputs_hidden": false
    },
    "tags": [
     "raises-exception"
    ]
   },
   "outputs": [],
   "source": [
    "sc.to_unit(1.0 * sc.Unit('s'), 'm')"
   ]
  },
  {
   "cell_type": "markdown",
   "metadata": {},
   "source": [
    "# Unit Aliases\n",
    "\n",
    "It is possible to define custom aliases for units.\n",
    "This can be used to\n",
    "\n",
    "- guide string formatting to prefer a certain unit, e.g. angstrom over nm\n",
    "- define domain specific units that can be expressed in terms of other units to\n",
    "  - guide string formatting\n",
    "  - construct units from strings with custom names\n",
    "  \n",
    "## Prioritizing Units in String Formatting\n",
    "\n",
    "When dealing with crystals or molecules, it is often convenient to use angstrom as a unit.\n",
    "But by default, string formatting tends to prefer different bases in composite units.\n",
    "For example"
   ]
  },
  {
   "cell_type": "code",
   "execution_count": null,
   "metadata": {},
   "outputs": [],
   "source": [
    "sc.Unit('us/angstrom**2')"
   ]
  },
  {
   "cell_type": "markdown",
   "metadata": {},
   "source": [
    "This result is not very useful.\n",
    "We can make the formatter prefer angstrom by defining it as an alias of itself (or alternatively of `'10^-10 m'`):"
   ]
  },
  {
   "cell_type": "code",
   "execution_count": null,
   "metadata": {},
   "outputs": [],
   "source": [
    "sc.units.aliases['angstrom'] = 'angstrom'\n",
    "sc.Unit('us/angstrom**2')"
   ]
  },
  {
   "cell_type": "markdown",
   "metadata": {},
   "source": [
    "Aliases are global and stay in effect until they are removed.\n",
    "This can be done using `sc.units.aliases.clear()` to remove all aliases or, to remove only one, using"
   ]
  },
  {
   "cell_type": "code",
   "execution_count": null,
   "metadata": {},
   "outputs": [],
   "source": [
    "del sc.units.aliases['angstrom']\n",
    "sc.Unit('us/angstrom**2')"
   ]
  },
  {
   "cell_type": "markdown",
   "metadata": {},
   "source": [
    "Alternatively, a context manager can be used to remove aliases automatically:"
   ]
  },
  {
   "cell_type": "code",
   "execution_count": null,
   "metadata": {},
   "outputs": [],
   "source": [
    "with sc.units.aliases.scoped(angstrom='angstrom'):\n",
    "    print(sc.Unit('us/angstrom**2'))\n",
    "print(sc.Unit('us/angstrom**2'))"
   ]
  },
  {
   "cell_type": "markdown",
   "metadata": {},
   "source": [
    "But note that the context manager uses the global alias table and affects code outside of the context.\n",
    "Details are explained in [scipp.units.aliases.scoped](../generated/modules/scipp.units.UnitAliases.rst#scipp.units.UnitAliases.scoped).\n",
    "\n",
    "See [scipp.units.UnitAliases](../generated/modules/scipp.units.UnitAliases.rst) for the full API of `sc.units.aliases`.\n",
    "\n",
    "## Defining New Units\n",
    "\n",
    "It is possible to define completely new units as aliases as long as they can be expressed in terms of other units.\n",
    "For example, define the horse length:"
   ]
  },
  {
   "cell_type": "code",
   "execution_count": null,
   "metadata": {},
   "outputs": [],
   "source": [
    "sc.units.aliases['horse'] = sc.scalar(2.4, unit='m')"
   ]
  },
  {
   "cell_type": "markdown",
   "metadata": {},
   "source": [
    "Alternatively, we can pass `'2.4 m'` instead of a variable.\n",
    "\n",
    "The string formatter now prioritizes 'horse' over 'm' when appropriate:"
   ]
  },
  {
   "cell_type": "code",
   "execution_count": null,
   "metadata": {},
   "outputs": [],
   "source": [
    "print(sc.Unit('2.4m'))\n",
    "print(sc.Unit('2.4m/s'))\n",
    "print(sc.Unit('m'))"
   ]
  },
  {
   "cell_type": "markdown",
   "metadata": {},
   "source": [
    "And we can also construct units using 'horse' as an argument:"
   ]
  },
  {
   "cell_type": "code",
   "execution_count": null,
   "metadata": {},
   "outputs": [],
   "source": [
    "print(sc.Unit('horse'))\n",
    "print(sc.Unit('mhorse**2/g'))"
   ]
  },
  {
   "cell_type": "markdown",
   "metadata": {},
   "source": [
    "This also works in variables:"
   ]
  },
  {
   "cell_type": "code",
   "execution_count": null,
   "metadata": {},
   "outputs": [],
   "source": [
    "sc.scalar(4, unit='horse')"
   ]
  },
  {
   "cell_type": "code",
   "execution_count": null,
   "metadata": {},
   "outputs": [],
   "source": [
    "sc.scalar(4, unit='horse').to(unit='m')"
   ]
  },
  {
   "cell_type": "markdown",
   "metadata": {},
   "source": [
    "Using `repr`, we can see that 'horse' is not a fundamentally new unit but simply expressed in terms of 'm':"
   ]
  },
  {
   "cell_type": "code",
   "execution_count": null,
   "metadata": {},
   "outputs": [],
   "source": [
    "repr(sc.Unit('horse'))"
   ]
  }
 ],
 "metadata": {
  "kernelspec": {
   "display_name": "Python 3 (ipykernel)",
   "language": "python",
   "name": "python3"
  },
  "language_info": {
   "codemirror_mode": {
    "name": "ipython",
    "version": 3
   },
   "file_extension": ".py",
   "mimetype": "text/x-python",
   "name": "python",
   "nbconvert_exporter": "python",
   "pygments_lexer": "ipython3",
   "version": "3.8.12"
  }
 },
 "nbformat": 4,
 "nbformat_minor": 4
}

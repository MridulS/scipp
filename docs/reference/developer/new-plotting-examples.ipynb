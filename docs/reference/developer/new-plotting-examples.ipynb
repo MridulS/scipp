{
 "cells": [
  {
   "cell_type": "markdown",
   "id": "4ccfa33e-0fd0-4b9d-90f0-bbc67bcd258f",
   "metadata": {},
   "source": [
    "# New plotting examples"
   ]
  },
  {
   "cell_type": "code",
   "execution_count": null,
   "id": "cdf688e4-227c-4589-9448-cdcea084e617",
   "metadata": {},
   "outputs": [],
   "source": [
    "%matplotlib widget\n",
    "import numpy as np\n",
    "import matplotlib.pyplot as plt\n",
    "import scipp as sc\n",
    "from scipp.plt import *"
   ]
  },
  {
   "cell_type": "markdown",
   "id": "8678c01c-8bdb-40ca-8cb7-91b33c91e22a",
   "metadata": {},
   "source": [
    "## Helper functions to generate data"
   ]
  },
  {
   "cell_type": "code",
   "execution_count": null,
   "id": "7df47a98-09b5-4317-8d0e-5e306174e001",
   "metadata": {},
   "outputs": [],
   "source": [
    "def make_1d_data():\n",
    "    N = 50\n",
    "    x = sc.arange('tof', float(N), unit='us')\n",
    "    a = sc.DataArray(data=sc.array(dims=['tof'], values=5.0 + 5.0*np.sin(np.arange(float(N))/5.0),\n",
    "                                    variances=np.random.random(N),\n",
    "                                    unit='counts'),\n",
    "                      coords={'tof': x}, name='a')\n",
    "    b = sc.DataArray(data=sc.array(dims=['tof'], values=np.random.random(N),\n",
    "                                    variances=np.random.random(N),\n",
    "                                    unit='counts'),\n",
    "                      coords={'tof': x}, name='b')\n",
    "    return {'a': a, 'b': b}\n",
    "\n",
    "def make_2d_data():\n",
    "    N = 300\n",
    "    M = 150\n",
    "    xx = np.arange(N, dtype=np.float64)\n",
    "    yy = np.arange(M, dtype=np.float64)\n",
    "    x, y = np.meshgrid(xx, yy)\n",
    "    b = N/20.0\n",
    "    c = M/2.0\n",
    "    r = np.sqrt(((x-c)/b)**2 + (y/b)**2)\n",
    "    a = np.sin(r)\n",
    "    return sc.DataArray(\n",
    "        data=sc.array(dims=['y', 'x'], values=a, unit='K'),\n",
    "        coords={'x': sc.array(dims=['x'], values=xx, unit='m'),\n",
    "                'y': sc.array(dims=['y'], values=yy, unit='m')})\n",
    "\n",
    "def make_3d_data():\n",
    "    N = 100\n",
    "    M = 150\n",
    "    L = 100\n",
    "    xx = np.arange(N+1, dtype=np.float64)\n",
    "    yy = np.arange(M+1, dtype=np.float64)\n",
    "    zz = np.arange(L+1, dtype=np.float64)\n",
    "    x, y, z = np.meshgrid(xx[:-1], yy[:-1], zz[:-1], indexing='ij')\n",
    "    b = N/20.0\n",
    "    c = M/2.0\n",
    "    d = L/2.0\n",
    "    r = np.sqrt(((x-c)/b)**2 + ((y-c)/b)**2 + ((z-d)/b)**2)\n",
    "    a = np.sin(r)\n",
    "    return sc.DataArray(data=sc.array(dims=['x', 'y', 'z'], values=a),\n",
    "                      coords = {'x': sc.array(dims=['x'], values=xx*1.4, unit='cm'),\n",
    "                                'y': sc.array(dims=['y'], values=yy*2.6, unit='cm'),\n",
    "                                'z': sc.array(dims=['z'], values=zz*3.2, unit='cm')})"
   ]
  },
  {
   "cell_type": "markdown",
   "id": "49c1d966-ea73-42b2-bc8e-083162808c12",
   "metadata": {},
   "source": [
    "## 1D line plot"
   ]
  },
  {
   "cell_type": "code",
   "execution_count": null,
   "id": "454b82d6-8ea9-41b7-bb2b-f37cb5c1c17b",
   "metadata": {},
   "outputs": [],
   "source": [
    "da = make_1d_data()['a']"
   ]
  },
  {
   "cell_type": "code",
   "execution_count": null,
   "id": "1c49078f-0097-4f9b-9799-fe19f0b9f51d",
   "metadata": {},
   "outputs": [],
   "source": [
    "m = Model(da)\n",
    "fig = Figure()\n",
    "m.add_view(\"root\", fig)\n",
    "p = Plot()\n",
    "p.add_model(\"da\", m)\n",
    "p"
   ]
  },
  {
   "cell_type": "markdown",
   "id": "36712505-a5b4-4f6f-8d1c-c717ca3fc434",
   "metadata": {},
   "source": [
    "## Two 1D lines"
   ]
  },
  {
   "cell_type": "code",
   "execution_count": null,
   "id": "af7f0473-d748-4460-a510-3ec79607220d",
   "metadata": {},
   "outputs": [],
   "source": [
    "data = make_1d_data()"
   ]
  },
  {
   "cell_type": "code",
   "execution_count": null,
   "id": "22a57a43-0d36-4d65-b154-345e97c2f6db",
   "metadata": {},
   "outputs": [],
   "source": [
    "m_a = Model(data['a'])\n",
    "m_b = Model(data['b'])\n",
    "fig = Figure()\n",
    "m_a.add_view(\"root\", fig)\n",
    "m_b.add_view(\"root\", fig)\n",
    "p = Plot()\n",
    "p.add_model(\"a\", m_a)\n",
    "p.add_model(\"b\", m_b)\n",
    "p"
   ]
  },
  {
   "cell_type": "markdown",
   "id": "9a353481-313a-41d9-b2a4-57f86174973f",
   "metadata": {},
   "source": [
    "## 2D image"
   ]
  },
  {
   "cell_type": "code",
   "execution_count": null,
   "id": "72f9c792-016b-4495-adcc-12d50430adc6",
   "metadata": {},
   "outputs": [],
   "source": [
    "da = make_2d_data()"
   ]
  },
  {
   "cell_type": "code",
   "execution_count": null,
   "id": "559e0bd5-62b5-4ece-9828-2198249ccf98",
   "metadata": {},
   "outputs": [],
   "source": [
    "m = Model(da)\n",
    "fig = Figure()\n",
    "m.add_view(\"root\", fig)\n",
    "p = Plot()\n",
    "p.add_model(\"da\", m)\n",
    "p"
   ]
  },
  {
   "cell_type": "markdown",
   "id": "ceb14e6e-2bc4-4bb4-801d-8761cd9f8442",
   "metadata": {},
   "source": [
    "## 2D image with gaussian smoothing slider"
   ]
  },
  {
   "cell_type": "code",
   "execution_count": null,
   "id": "f4081d93-7ed8-41f2-a119-3450d31de62e",
   "metadata": {},
   "outputs": [],
   "source": [
    "da = make_2d_data()"
   ]
  },
  {
   "cell_type": "code",
   "execution_count": null,
   "id": "54ba6fbb-7f09-44be-9632-5c7a5c8d865a",
   "metadata": {},
   "outputs": [],
   "source": [
    "m = Model(da)"
   ]
  },
  {
   "cell_type": "code",
   "execution_count": null,
   "id": "11310f1f-705f-44f8-9b0e-b7da719e1c2c",
   "metadata": {},
   "outputs": [],
   "source": [
    "from scipy.ndimage import gaussian_filter\n",
    "import ipywidgets as ipw\n",
    "\n",
    "def smooth(da, sigma):\n",
    "    out = da.copy()\n",
    "    smoothed = sc.array(\n",
    "        dims=da.dims,\n",
    "        values=gaussian_filter(da.values, sigma=sigma),\n",
    "        unit=da.unit)\n",
    "    out.data = smoothed\n",
    "    return out\n",
    "\n",
    "sl = ipw.IntSlider(min=1, max=50)\n",
    "\n",
    "smooth_node = Node(func=smooth)\n",
    "smooth_view = widgets.WidgetView(widgets={\"sigma\": sl})"
   ]
  },
  {
   "cell_type": "code",
   "execution_count": null,
   "id": "1f7cb07a-9d69-4a74-a242-b7454f59191f",
   "metadata": {},
   "outputs": [],
   "source": [
    "m.insert(\"smooth\", smooth_node, after=m.end().name)\n",
    "m.show()"
   ]
  },
  {
   "cell_type": "code",
   "execution_count": null,
   "id": "336341bd-ba63-4ad0-b26d-980c5646679b",
   "metadata": {},
   "outputs": [],
   "source": [
    "f = Figure()\n",
    "m.add_view(\"smooth\", f)\n",
    "m.add_view(\"smooth\", smooth_view)"
   ]
  },
  {
   "cell_type": "code",
   "execution_count": null,
   "id": "fcc8f4a1-fe55-476c-9fd4-59bd09909919",
   "metadata": {},
   "outputs": [],
   "source": [
    "p = Plot()\n",
    "p.add_model(\"da\", m)\n",
    "p"
   ]
  },
  {
   "cell_type": "markdown",
   "id": "1b7ceb68-9fba-4ad0-af85-d9c1f5e39251",
   "metadata": {},
   "source": [
    "## 2D image with masks"
   ]
  },
  {
   "cell_type": "code",
   "execution_count": null,
   "id": "886e13a7-4afe-4c96-96b2-8148fd719a9c",
   "metadata": {},
   "outputs": [],
   "source": [
    "da = make_2d_data()\n",
    "da.masks['m1'] = da.data < sc.scalar(0.0, unit='K')\n",
    "da.masks['m2'] = da.coords['x'] > sc.scalar(80., unit='m')"
   ]
  },
  {
   "cell_type": "code",
   "execution_count": null,
   "id": "5a25932f-0d0f-4eda-8f6c-e4157f109647",
   "metadata": {},
   "outputs": [],
   "source": [
    "masks_node = Node(func=widgets.hide_masks)\n",
    "masks_view = widgets.WidgetView(widgets={\"masks\": widgets.MaskWidget(masks=da.masks)})\n",
    "m = Model(da)\n",
    "m.insert(\"hiding_masks\", masks_node, after=m.end().name)"
   ]
  },
  {
   "cell_type": "code",
   "execution_count": null,
   "id": "53126c5c-1ad2-4564-801a-57920d142ca9",
   "metadata": {},
   "outputs": [],
   "source": [
    "f = Figure()\n",
    "m.add_view(\"hiding_masks\", f)\n",
    "m.add_view(\"hiding_masks\", masks_view)\n",
    "m.show()"
   ]
  },
  {
   "cell_type": "code",
   "execution_count": null,
   "id": "88fccab6-ef2e-4422-adc5-3302870985dc",
   "metadata": {},
   "outputs": [],
   "source": [
    "p = Plot()\n",
    "p.add_model(\"da\", m)\n",
    "p"
   ]
  },
  {
   "cell_type": "markdown",
   "id": "a0ad1215-917a-49ce-bab2-8e2da029a81b",
   "metadata": {},
   "source": [
    "## Two 1D lines with masks"
   ]
  },
  {
   "cell_type": "code",
   "execution_count": null,
   "id": "b4eb8ad9-1f33-4c22-9875-4a043921da09",
   "metadata": {},
   "outputs": [],
   "source": [
    "data = make_1d_data()\n",
    "data['a'].masks['m1'] = data['a'].coords['tof'] > sc.scalar(40.0, unit='us')\n",
    "data['a'].masks['m2'] = data['a'].data < data['b'].data\n",
    "data['b'].masks['m1'] = data['b'].coords['tof'] < sc.scalar(5.0, unit='us')"
   ]
  },
  {
   "cell_type": "code",
   "execution_count": null,
   "id": "b49c31e7-e6af-4ef1-89bf-c28cae879cc2",
   "metadata": {},
   "outputs": [],
   "source": [
    "m_a = Model(data['a'])\n",
    "m_b = Model(data['b'])\n",
    "\n",
    "a_masks_node = Node(func=widgets.hide_masks)\n",
    "a_masks_view = widgets.WidgetView(widgets={\"masks\": widgets.MaskWidget(masks=data['a'].masks)})\n",
    "\n",
    "b_masks_node = Node(func=widgets.hide_masks)\n",
    "b_masks_view = widgets.WidgetView(widgets={\"masks\": widgets.MaskWidget(masks=data['b'].masks)})\n",
    "\n",
    "m_a.insert(\"hiding_masks_for_a\", a_masks_node, after=m_a.end().name)\n",
    "m_b.insert(\"hiding_masks_for_b\", b_masks_node, after=m_b.end().name)\n",
    "\n",
    "m_a.add_view(\"hiding_masks_for_a\", a_masks_view)\n",
    "m_b.add_view(\"hiding_masks_for_b\", b_masks_view)\n",
    "\n",
    "fig = Figure()\n",
    "m_a.add_view(\"hiding_masks_for_a\", fig)\n",
    "m_b.add_view(\"hiding_masks_for_b\", fig)\n",
    "\n",
    "p = Plot()\n",
    "p.add_model(\"a\", m_a)\n",
    "p.add_model(\"b\", m_b)\n",
    "p"
   ]
  },
  {
   "cell_type": "markdown",
   "id": "2c9e4b6e-5935-4960-8692-8c62492d109e",
   "metadata": {},
   "source": [
    "## Node that sums the data along one dimension"
   ]
  },
  {
   "cell_type": "code",
   "execution_count": null,
   "id": "bc8b37f0-50b9-4484-a19c-0e6a593512ba",
   "metadata": {},
   "outputs": [],
   "source": [
    "da = make_2d_data()\n",
    "\n",
    "def squash(da):\n",
    "    return da.sum('y')\n",
    "\n",
    "m = Model(da)\n",
    "m.insert(\"sum_y\", Node(func=squash), after=m.end().name)\n",
    "\n",
    "f1d = Figure()\n",
    "f2d = Figure()\n",
    "m.add_view(\"root\", f2d)\n",
    "m.add_view(\"sum_y\", f1d)\n",
    "\n",
    "p = Plot()\n",
    "p.add_model(\"da\", m)\n",
    "p"
   ]
  },
  {
   "cell_type": "code",
   "execution_count": null,
   "id": "e02ce936-c374-4486-ac0e-75bdf9317f9a",
   "metadata": {},
   "outputs": [],
   "source": [
    "m.show()"
   ]
  },
  {
   "cell_type": "markdown",
   "id": "faaaef0b-062d-40b7-a274-93cf7a4e4e72",
   "metadata": {},
   "source": [
    "## Slicing 3D cube into 2D image with slider"
   ]
  },
  {
   "cell_type": "code",
   "execution_count": null,
   "id": "7efaf03a-03c6-4c53-8b78-9eb0efbef29d",
   "metadata": {},
   "outputs": [],
   "source": [
    "da = make_3d_data()\n",
    "\n",
    "slice_node = Node(func=widgets.slice_dims)\n",
    "slice_slider = widgets.SliceView(da, dims=['z'])\n",
    "m = Model(da)\n",
    "m.insert(\"slice_dims\", slice_node, after=m.end().name)\n",
    "\n",
    "f = Figure()\n",
    "m.add_view(\"slice_dims\", f)\n",
    "m.add_view(\"slice_dims\", slice_slider)\n",
    "\n",
    "p = Plot()\n",
    "p.add_model(\"da\", m)\n",
    "p"
   ]
  },
  {
   "cell_type": "markdown",
   "id": "2bcfaefa-ba07-49d4-937d-ce64c2b33a4f",
   "metadata": {},
   "source": [
    "## Slicing 3D cube with histograms on sides of both axes"
   ]
  },
  {
   "cell_type": "code",
   "execution_count": null,
   "id": "a8022f61-9066-42ad-bb95-d14f752d6900",
   "metadata": {},
   "outputs": [],
   "source": [
    "fig = plt.figure(figsize=(10, 5))\n",
    "ax1 = fig.add_axes([0.05, 0.05, 0.5, 0.65])\n",
    "ax2 = fig.add_axes([0.05, 0.7, 0.5, 0.25])\n",
    "ax3 = fig.add_axes([0.55, 0.7, 0.45, 0.25])"
   ]
  },
  {
   "cell_type": "code",
   "execution_count": null,
   "id": "cedadb90-44e2-4314-b87e-305b71cb0a5c",
   "metadata": {},
   "outputs": [],
   "source": [
    "da = make_3d_data()\n",
    "\n",
    "slice_node = Node(func=widgets.slice_dims)\n",
    "slice_slider = widgets.SliceView(da, dims=['z'])\n",
    "m = Model(da)\n",
    "m.insert(\"slice_dims\", slice_node, after=m.end().name)"
   ]
  },
  {
   "cell_type": "code",
   "execution_count": null,
   "id": "1162d518-2b10-4552-8553-a17fbfda8857",
   "metadata": {},
   "outputs": [],
   "source": [
    "f = Figure(ax=ax1, cbar=False)\n",
    "m.add_view(\"slice_dims\", f)\n",
    "m.add_view(\"slice_dims\", slice_slider)"
   ]
  },
  {
   "cell_type": "code",
   "execution_count": null,
   "id": "1d84c8a1-b8d1-4a1b-83c3-8d8c8821418b",
   "metadata": {},
   "outputs": [],
   "source": [
    "def sumx(da):\n",
    "    return da.sum('x')\n",
    "\n",
    "histx_node = Node(func=sumx)\n",
    "m.insert(\"histx\", histx_node, after=\"slice_dims\")\n",
    "hx = Figure(ax=ax2)\n",
    "m.add_view(\"histx\", hx)\n",
    "\n",
    "def sumy(da):\n",
    "    return da.sum('y')\n",
    "\n",
    "histy_node = Node(func=sumy)\n",
    "m[\"histy\"] = histy_node\n",
    "histy_node.dependency = m[\"slice_dims\"]\n",
    "hy = Figure(ax=ax3)\n",
    "m.add_view(\"histy\", hy)"
   ]
  },
  {
   "cell_type": "code",
   "execution_count": null,
   "id": "8f160d43-13f0-4632-8b09-3b874917de5d",
   "metadata": {},
   "outputs": [],
   "source": [
    "p = Plot()\n",
    "p.add_model(\"da\", m)\n",
    "p.render()\n",
    "fig.canvas"
   ]
  },
  {
   "cell_type": "code",
   "execution_count": null,
   "id": "eaf2a103-e400-402e-bcde-ad53e1194c0e",
   "metadata": {},
   "outputs": [],
   "source": [
    "slice_slider"
   ]
  }
 ],
 "metadata": {
  "kernelspec": {
   "display_name": "Python 3 (ipykernel)",
   "language": "python",
   "name": "python3"
  },
  "language_info": {
   "codemirror_mode": {
    "name": "ipython",
    "version": 3
   },
   "file_extension": ".py",
   "mimetype": "text/x-python",
   "name": "python",
   "nbconvert_exporter": "python",
   "pygments_lexer": "ipython3",
   "version": "3.9.7"
  }
 },
 "nbformat": 4,
 "nbformat_minor": 5
}

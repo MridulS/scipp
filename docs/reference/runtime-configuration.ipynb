{
 "cells": [
  {
   "cell_type": "markdown",
   "metadata": {},
   "source": [
    "# Runtime Configuration\n",
    "\n",
    "The Scipp package supports several configuration options which may be set based on preference.\n",
    "Most of these are related to layout of items in Jupyter Notebooks and plotting.\n",
    "\n",
    "The configuration can be accessed using [scipp.config](../generated/modules/scipp.configuration.Config.rst) which provides dict-like access to configuration values.\n",
    "For example, the following reads the default resolution of figures."
   ]
  },
  {
   "cell_type": "code",
   "execution_count": null,
   "metadata": {},
   "outputs": [],
   "source": [
    "import scipp as sc"
   ]
  },
  {
   "cell_type": "code",
   "execution_count": null,
   "metadata": {},
   "outputs": [],
   "source": [
    "sc.config['plot']['dpi']"
   ]
  },
  {
   "cell_type": "markdown",
   "metadata": {},
   "source": [
    "## Programmatic Configuration\n",
    "\n",
    "It is possible to modify [scipp.config](../generated/modules/scipp.configuration.Config.rst) directly.\n",
    "This changes the configuration for the current process only.\n",
    "So all changes are lost when Python is restarted.\n",
    "In order to make persistent changes, use a configuration file.\n",
    "\n",
    "As an example, the following changes the default width of figures."
   ]
  },
  {
   "cell_type": "code",
   "execution_count": null,
   "metadata": {},
   "outputs": [],
   "source": [
    "sc.config['plot']['width'] = 800  # for the current process only"
   ]
  },
  {
   "cell_type": "markdown",
   "metadata": {},
   "source": [
    "## Configuration File\n",
    "\n",
    "Scipp can also be configured using YAML files.\n",
    "See below for the default file.\n",
    "\n",
    "The configuration is read from two files (if they exist).\n",
    "\n",
    "### User Configuration\n",
    "\n",
    "A file called `config.yaml` in an operating-system-dependent location, specifically\n",
    "\n",
    "- MacOS: `~/.config/scipp` or `~/Library/Application Support/scipp`\n",
    "- Other Unix: `~/.config/scipp` or `/etc/scipp`\n",
    "- Windows: `%APPDATA%\\scipp` where the `APPDATA` environment variable falls back to `%HOME%\\AppData\\Roaming` if undefined\n",
    "\n",
    "Use\n",
    "```python\n",
    "sc.config.config_dir()\n",
    "```\n",
    "to find the folder on your system.\n",
    "Or use\n",
    "```python\n",
    "sc.config.config_path()\n",
    "```\n",
    "to get the full path to the configuration file.\n",
    "\n",
    "These functions create the folder if it does not already exist.\n",
    "But they do not create the file, you have to do that yourself.\n",
    "\n",
    "<div class=\"alert alert-info\">\n",
    "    <b>NOTE:</b>\n",
    "\n",
    "Depending on your setup, your user profile might not have permissions to create the folder.\n",
    "If this is the case, `sc.config.config_dir()` and `sc.config.config_path()` raise a `PermissionError` and Scipp falls back to using the default configuration.\n",
    "This can be avoided by creating the configuration directory and file manually with elevated permissions, if possible.\n",
    "</div>\n",
    "\n",
    "### Working Directory\n",
    "\n",
    "A file called `scipp.config.yaml` in the current working directory.\n",
    "That is, the directory of the Jupyter notebook or from where you started the Python interpreter.\n",
    "\n",
    "If this file exists in the working directory, it takes precedence over the user configuration.\n",
    "\n",
    "### Creating a Configuration File\n",
    "\n",
    "In order to use configuration files, copy the default configuration at the bottom of this page to the location of your choice (See [User Configuration](#User-Configuration) and [Working Directory](#Working-Directory)) and modify any values you like.\n",
    "\n",
    "Alternatively, you can provide only those values that you want to change and leave out everything else.\n",
    "This way, Scipp falls back to the default values.\n",
    "Or, in the case of a file in the working directory, it falls back to the user configuration."
   ]
  },
  {
   "cell_type": "markdown",
   "metadata": {},
   "source": [
    "<div class=\"alert alert-warning\">\n",
    "    <b>WARNING:</b>\n",
    "\n",
    "The fields in the configuration file are not strictly defined and may vary between Scipp versions.\n",
    "For this reason it is advised to browse the defaults below to determine what options are available.\n",
    "    \n",
    "</div>"
   ]
  },
  {
   "cell_type": "markdown",
   "metadata": {
    "tags": []
   },
   "source": [
    "## Default Configuration\n",
    "\n",
    "The following is the default configuration expressed in the syntax of configuration YAML files.\n",
    "(*default_config* is a helper defined in a hidden cell.)"
   ]
  },
  {
   "cell_type": "code",
   "execution_count": null,
   "metadata": {
    "nbsphinx": "hidden",
    "tags": []
   },
   "outputs": [],
   "source": [
    "import os\n",
    "from IPython import display\n",
    "import confuse\n",
    "\n",
    "default_config_path = os.path.join(confuse.util.find_package_path(sc.configuration.__name__),\n",
    "                                   'config_default.yaml')\n",
    "with open(default_config_path, 'r') as f:\n",
    "    default_config_text = f.read()\n",
    "    \n",
    "default_config = display.Markdown(f\"\"\"```yaml\n",
    "{default_config_text}```\n",
    "\"\"\")"
   ]
  },
  {
   "cell_type": "code",
   "execution_count": null,
   "metadata": {},
   "outputs": [],
   "source": [
    "default_config"
   ]
  }
 ],
 "metadata": {
  "kernelspec": {
   "display_name": "Python 3 (ipykernel)",
   "language": "python",
   "name": "python3"
  },
  "language_info": {
   "codemirror_mode": {
    "name": "ipython",
    "version": 3
   },
   "file_extension": ".py",
   "mimetype": "text/x-python",
   "name": "python",
   "nbconvert_exporter": "python",
   "pygments_lexer": "ipython3"
  }
 },
 "nbformat": 4,
 "nbformat_minor": 4
}

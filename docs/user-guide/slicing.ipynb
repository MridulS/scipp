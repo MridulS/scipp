{
 "cells": [
  {
   "cell_type": "markdown",
   "metadata": {},
   "source": [
    "# Slicing\n",
    "\n",
    "Objects in scipp can be sliced in two ways. The most common is by by index based slicing. A second, more limited approach is to use value based slicing based on coordinate values."
   ]
  },
  {
   "cell_type": "markdown",
   "metadata": {},
   "source": [
    "## Index based slicing\n",
    "\n",
    "Data in a [Variable](../generated/scipp.Variable.rst#scipp.Variable), [Dataset](../generated/scipp.Dataset.rst#scipp.Dataset) or [DataArray](../generated/scipp.DataArray.rst#scipp.DataArray) can be indexed in a similar manner to NumPy and xarray.\n",
    "The dimension to be sliced is specified using a dimension label and, in contrast to NumPy, positional dimension lookup is not available.\n",
    "Positional indexing with an integer or an integer range is made via `__getitem__` and `__setitem__` with a dimension label as first argument.\n",
    "This is available for Variables, DataArrays, Datasets, as well as items of a Dataset.\n",
    "In all cases a *view* is returned, i.e., just like when slicing a [numpy.ndarray](https://docs.scipy.org/doc/numpy/reference/generated/numpy.ndarray.html#numpy.ndarray) no copy is performed.\n",
    "\n",
    "Consider the following variable:"
   ]
  },
  {
   "cell_type": "code",
   "execution_count": null,
   "metadata": {},
   "outputs": [],
   "source": [
    "import numpy as np\n",
    "import scipp as sc\n",
    "\n",
    "var = sc.Variable(\n",
    "    dims=['z', 'y', 'x'],\n",
    "    values=np.random.rand(2, 3, 4),\n",
    "    variances=np.random.rand(2, 3, 4))\n",
    "sc.show(var)"
   ]
  },
  {
   "cell_type": "markdown",
   "metadata": {},
   "source": [
    "As when slicing a `numpy.ndarray`, the dimension `'x'` is removed since no range is specified:"
   ]
  },
  {
   "cell_type": "code",
   "execution_count": null,
   "metadata": {},
   "outputs": [],
   "source": [
    "s = var['x', 1]\n",
    "sc.show(s)\n",
    "print(s.dims, s.shape)"
   ]
  },
  {
   "cell_type": "markdown",
   "metadata": {},
   "source": [
    "When a range is specified, the dimension is kept, even if it has extent 1:"
   ]
  },
  {
   "cell_type": "code",
   "execution_count": null,
   "metadata": {
    "scrolled": false
   },
   "outputs": [],
   "source": [
    "s = var['x', 1:3]\n",
    "sc.show(s)\n",
    "print(s.dims, s.shape)\n",
    "\n",
    "s = var['x', 1:2]\n",
    "sc.show(s)\n",
    "print(s.dims, s.shape)"
   ]
  },
  {
   "cell_type": "markdown",
   "metadata": {},
   "source": [
    "Slicing can be chained arbitrarily:"
   ]
  },
  {
   "cell_type": "code",
   "execution_count": null,
   "metadata": {
    "scrolled": true
   },
   "outputs": [],
   "source": [
    "s = var['x', 1:4]['y', 2]['x', 1]\n",
    "sc.show(s)\n",
    "print(s.dims, s.shape)"
   ]
  },
  {
   "cell_type": "markdown",
   "metadata": {},
   "source": [
    "Slicing for datasets works in the same way, but some additional rules apply:"
   ]
  },
  {
   "cell_type": "code",
   "execution_count": null,
   "metadata": {},
   "outputs": [],
   "source": [
    "d = sc.Dataset(\n",
    "    {'a': sc.Variable(dims=['x', 'y'], values=np.random.rand(2, 3)),\n",
    "     'b': sc.Variable(dims=['y', 'x'], values=np.random.rand(3, 2)),\n",
    "     'c': sc.Variable(dims=['x'], values=np.random.rand(2)),\n",
    "     '0d-data': sc.Variable(1.0)},\n",
    "    coords={\n",
    "        'x': sc.Variable(['x'], values=np.arange(2.0), unit=sc.units.m),\n",
    "        'y': sc.Variable(['y'], values=np.arange(3.0), unit=sc.units.m),\n",
    "        'aux_x': sc.Variable(['x'], values=np.arange(2.0), unit=sc.units.m),\n",
    "        'aux_y': sc.Variable(['y'], values=np.arange(3.0), unit=sc.units.m)})\n",
    "sc.show(d)"
   ]
  },
  {
   "cell_type": "markdown",
   "metadata": {},
   "source": [
    "As when slicing a variable, the sliced dimension is removed when slicing without range, and kept when slicing with range.\n",
    "\n",
    "When slicing a dataset a number of other things happen as well:\n",
    "\n",
    "- Any data item that does not depend on the sliced dimension is removed.\n",
    "- Slicing **without range**:\n",
    "  - The *coordinates* for the sliced dimension are *removed*.\n",
    "- Slicing **with a range**:\n",
    "  - The *coordinates* for the sliced dimension are *kept*.\n",
    "\n",
    "The rationale behind this mechanism is as follows.\n",
    "We may want to modify slices independently, e.g., by adding an offset to certain slices:"
   ]
  },
  {
   "cell_type": "code",
   "execution_count": null,
   "metadata": {},
   "outputs": [],
   "source": [
    "d['x', 0] += 1.0\n",
    "d['x', 1] += 2.0"
   ]
  },
  {
   "cell_type": "markdown",
   "metadata": {},
   "source": [
    "By excluding scalar items from the slice view (see below for a visual representation), we prevent unintentional addition of multiple offsets to the same scalar.\n",
    "\n",
    "This is an important aspect and it is worthwhile to take some time and think through the mechanism.\n",
    "Consider the following example, contrasting slicing with and without range:\n",
    "\n",
    "- We slice dimension `'x'`, so the data item `'0d-data'` which does not depend on dimension `'x'` is not visible in the slice views.\n",
    "- In the second case (without range) the coord for dimension `'x'` is also not part of the slice view\n",
    "\n",
    "Make sure to inspect the `dims` and `shape` of all variable (data and coordinates) of the resulting slice views (note the tooltip shown when moving the mouse over the name also contains this information):"
   ]
  },
  {
   "cell_type": "code",
   "execution_count": null,
   "metadata": {},
   "outputs": [],
   "source": [
    "# Range of length 1\n",
    "sc.show(d['x', 1:2])\n",
    "d['x', 1:2]"
   ]
  },
  {
   "cell_type": "code",
   "execution_count": null,
   "metadata": {},
   "outputs": [],
   "source": [
    "# No range\n",
    "sc.show(d['x', 1])\n",
    "d['x', 1]"
   ]
  },
  {
   "cell_type": "markdown",
   "metadata": {},
   "source": [
    "Slicing a data item of a dataset should not bring any surprises.\n",
    "Essentially this behaves like slicing a dataset with just a single data item:"
   ]
  },
  {
   "cell_type": "code",
   "execution_count": null,
   "metadata": {},
   "outputs": [],
   "source": [
    "sc.show(d['a']['x', 1:2])"
   ]
  },
  {
   "cell_type": "markdown",
   "metadata": {},
   "source": [
    "Slicing and item access can be done in arbitrary order with identical results:"
   ]
  },
  {
   "cell_type": "code",
   "execution_count": null,
   "metadata": {},
   "outputs": [],
   "source": [
    "d['x', 1:2]['a'] == d['a']['x', 1:2]\n",
    "d['x', 1:2]['a'].coords['x'] == d.coords['x']['x', 1:2]"
   ]
  },
  {
   "cell_type": "markdown",
   "metadata": {},
   "source": [
    "## Value based slicing\n",
    "\n",
    "Data in a [Dataset](../generated/scipp.Dataset.rst#scipp.Dataset) or [DataArray](../generated/scipp.DataArray.rst#scipp.DataArray) can be sliced by the coordinate value.\n",
    "Value indexing with a [Variable](../generated/scipp.Variable.rst#scipp.Variable)  or an [Variable](../generated/scipp.Variable.rst#scipp.Variable) range is made via `__getitem__` and `__setitem__` with a dimension label as first argument.\n",
    "This is available for DataArrays and Datasets, as well as items of a Dataset, but not for Variable types as coordinates are necessary.\n",
    "In all cases a *view* is returned, i.e., just like when slicing a [numpy.ndarray](https://docs.scipy.org/doc/numpy/reference/generated/numpy.ndarray.html#numpy.ndarray) no copy is performed.\n",
    "\n"
   ]
  },
  {
   "cell_type": "markdown",
   "metadata": {},
   "source": [
    "### Value slicing on point coordinates\n",
    "\n",
    "Lets create a simple `DataArray`. It has dimension coordinates in x and y:"
   ]
  },
  {
   "cell_type": "code",
   "execution_count": null,
   "metadata": {},
   "outputs": [],
   "source": [
    "da = sc.DataArray(data = sc.Variable(dims=['x', 'y'], values=np.arange(8.0).reshape(2, 4)),\n",
    "    coords={\n",
    "        'x': sc.Variable(['x'], values=np.arange(2.0), unit=sc.units.m),\n",
    "        'y': sc.Variable(['y'], values=np.arange(4.0), unit=sc.units.m)})\n",
    "sc.show(da)"
   ]
  },
  {
   "cell_type": "markdown",
   "metadata": {},
   "source": [
    "Lets say we wish to slice the `DataArray` where y coord is exactly at the point 1.0 meters expressed as a variable. You will notice that the data item in the output have no y coordinate dependency after the point slicing operation."
   ]
  },
  {
   "cell_type": "code",
   "execution_count": null,
   "metadata": {},
   "outputs": [],
   "source": [
    "point_value = 0.0 * sc.units.m\n",
    "da['y', point_value] "
   ]
  },
  {
   "cell_type": "markdown",
   "metadata": {},
   "source": [
    "Our y-coordinate is represents point data rather than bin edges for the dataset data. This means that when slicing with a point value, the value needs to exactly match a coordinate value. If it does not, an `IndexError` is raised."
   ]
  },
  {
   "cell_type": "code",
   "execution_count": null,
   "metadata": {},
   "outputs": [],
   "source": [
    "point_value = 0.1 * sc.units.m # No y coordinate value at this point\n",
    "try:\n",
    "    d['y', point_value]\n",
    "except IndexError as e:\n",
    "    print(str(e))"
   ]
  },
  {
   "cell_type": "markdown",
   "metadata": {},
   "source": [
    "We can also slice a range just like index slicing above. No exact match to coordinate value of start/stop is required in the case of range slicing."
   ]
  },
  {
   "cell_type": "code",
   "execution_count": null,
   "metadata": {},
   "outputs": [],
   "source": [
    "start = 0.0 * sc.units.m\n",
    "stop = 1.1 * sc.units.m\n",
    "d['y', start:stop]"
   ]
  },
  {
   "cell_type": "markdown",
   "metadata": {},
   "source": [
    "### Value slicing on bin edge coordinates\n",
    "\n",
    "As mentioned above, value based slicing is valid for `Datasets` and `DataArrays` We construct a simple `DataArray` to illustrate the working. In this `DataArray` the y-coordinate is bin edges."
   ]
  },
  {
   "cell_type": "code",
   "execution_count": null,
   "metadata": {},
   "outputs": [],
   "source": [
    "da = sc.DataArray(data = sc.Variable(dims=['x', 'y'], values=np.arange(8.0).reshape(2, 4)),\n",
    "    coords={\n",
    "        'x': sc.Variable(['x'], values=np.arange(2.0), unit=sc.units.m),\n",
    "        'y': sc.Variable(['y'], values=np.arange(5.0), unit=sc.units.m)})\n",
    "sc.show(da)"
   ]
  },
  {
   "cell_type": "markdown",
   "metadata": {},
   "source": [
    "Because we have bin edges in the y dimension, each bin represents a range between the defined edges. Therefore point slicing between coordinate values is a valid operation."
   ]
  },
  {
   "cell_type": "code",
   "execution_count": null,
   "metadata": {},
   "outputs": [],
   "source": [
    "point_value = 0.1 * sc.units.m # select between coord values 0 - 1 meter\n",
    "da['y', point_value]\n",
    "lower_edge = 0.0 * sc.units.m # on lower edge\n",
    "assert sc.is_equal(da['y', point_value], da['y', lower_edge])"
   ]
  },
  {
   "cell_type": "markdown",
   "metadata": {},
   "source": [
    "Range based slicing is also valid on bin edge coordinates."
   ]
  },
  {
   "cell_type": "code",
   "execution_count": null,
   "metadata": {},
   "outputs": [],
   "source": [
    "start = 1.1 * sc.units.m\n",
    "stop = None \n",
    "sc.show(da['y', start:stop])"
   ]
  },
  {
   "cell_type": "markdown",
   "metadata": {},
   "source": [
    "### Value based slicing caveats \n",
    "\n",
    "At the time of writing value based slicing is only possible for certain conditions.\n",
    "\n",
    "* The coordinate selected for slicing must be monotonic, otherwise it will need to be sorted first\n",
    "* The coordinate cannot be multi-dimensional "
   ]
  },
  {
   "cell_type": "code",
   "execution_count": null,
   "metadata": {},
   "outputs": [],
   "source": []
  }
 ],
 "metadata": {
  "kernelspec": {
   "display_name": "Python 3",
   "language": "python",
   "name": "python3"
  },
  "language_info": {
   "codemirror_mode": {
    "name": "ipython",
    "version": 3
   },
   "file_extension": ".py",
   "mimetype": "text/x-python",
   "name": "python",
   "nbconvert_exporter": "python",
   "pygments_lexer": "ipython3",
   "version": "3.7.3"
  }
 },
 "nbformat": 4,
 "nbformat_minor": 2
}

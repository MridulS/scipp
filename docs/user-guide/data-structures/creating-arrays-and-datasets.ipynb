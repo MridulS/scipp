{
 "cells": [
  {
   "cell_type": "markdown",
   "metadata": {
    "pycharm": {
     "name": "#%% md\n"
    }
   },
   "source": [
    "# Creating Arrays and Datasets\n",
    "\n",
    "There are several ways to create data structures in Scipp.\n",
    "`scipp.Variable` is particularly diverse.\n",
    "\n",
    "## Variable\n",
    "\n",
    "[Variables](./data-structures.rst#Variable) can be created using any of the dedicated [creation functions](../../reference/creation-functions.rst#creation-functions).\n",
    "These fall into several categories as described by the following subsections.\n",
    "\n",
    "### From Python Sequences or NumPy Arrays\n",
    "\n",
    "#### Arrays\n",
    "\n",
    "Variables can be constructed from any Python object that can be used to create a NumPy array or NumPy arrays directly.\n",
    "See [Array creation](https://numpy.org/doc/stable/user/basics.creation.html) for details.\n",
    "Given such an object, an array variable can be created using [scipp.array](../../generated/functions/scipp.array.rst) (not to be confused with [data arrays](./data-structures.rst#Data-Array)!)"
   ]
  },
  {
   "cell_type": "code",
   "execution_count": null,
   "metadata": {
    "collapsed": false,
    "jupyter": {
     "outputs_hidden": false
    },
    "pycharm": {
     "is_executing": true,
     "name": "#%%\n"
    }
   },
   "outputs": [],
   "source": [
    "import scipp as sc\n",
    "v1d = sc.array(dims=['x'], values=[1, 2, 3, 4])\n",
    "v2d = sc.array(dims=['x', 'y'], values=[[1, 2], [3, 4]])\n",
    "v3d = sc.array(dims=['x', 'y', 'z'], values=[[[1, 2], [3, 4]], [[5, 6], [7, 8]]])"
   ]
  },
  {
   "cell_type": "markdown",
   "metadata": {
    "pycharm": {
     "name": "#%% md\n"
    }
   },
   "source": [
    "Alternatively, passing a NumPy array:"
   ]
  },
  {
   "cell_type": "code",
   "execution_count": null,
   "metadata": {
    "collapsed": false,
    "jupyter": {
     "outputs_hidden": false
    },
    "pycharm": {
     "name": "#%%\n"
    }
   },
   "outputs": [],
   "source": [
    "import numpy as np\n",
    "a = np.array([[1, 2], [3, 4]])\n",
    "v = sc.array(dims=['x', 'y'], values=a)"
   ]
  },
  {
   "cell_type": "markdown",
   "metadata": {
    "pycharm": {
     "name": "#%% md\n"
    }
   },
   "source": [
    "Note that *both* the NumPy array and Python lists are copied into the Scipp variable which leads to some additional memory usage.\n",
    "\n",
    "The `dtype` and unit of the variable are deduced automatically in the above cases:"
   ]
  },
  {
   "cell_type": "code",
   "execution_count": null,
   "metadata": {
    "collapsed": false,
    "jupyter": {
     "outputs_hidden": false
    },
    "pycharm": {
     "name": "#%%\n"
    }
   },
   "outputs": [],
   "source": [
    "v"
   ]
  },
  {
   "cell_type": "markdown",
   "metadata": {
    "pycharm": {
     "name": "#%% md\n"
    }
   },
   "source": [
    "If required, they can be specified directly:"
   ]
  },
  {
   "cell_type": "code",
   "execution_count": null,
   "metadata": {
    "collapsed": false,
    "jupyter": {
     "outputs_hidden": false
    },
    "pycharm": {
     "name": "#%%\n"
    }
   },
   "outputs": [],
   "source": [
    "sc.array(dims=['x', 'y'], values=[[1, 2], [3, 4]], dtype='float64', unit='m')"
   ]
  },
  {
   "cell_type": "markdown",
   "metadata": {
    "pycharm": {
     "name": "#%% md\n"
    }
   },
   "source": [
    "#### Scalars\n",
    "\n",
    "Scalars are variables with no dimensions.\n",
    "They can be constructed, among others, using [scipp.scalar](../../generated/functions/scipp.scalar.rst):"
   ]
  },
  {
   "cell_type": "code",
   "execution_count": null,
   "metadata": {
    "collapsed": false,
    "jupyter": {
     "outputs_hidden": false
    },
    "pycharm": {
     "name": "#%%\n"
    }
   },
   "outputs": [],
   "source": [
    "sc.scalar(3.41)"
   ]
  },
  {
   "cell_type": "markdown",
   "metadata": {
    "pycharm": {
     "name": "#%% md\n"
    }
   },
   "source": [
    "`scipp.scalar` will always produce a scalar variable, even when passed a sequence like a list:"
   ]
  },
  {
   "cell_type": "code",
   "execution_count": null,
   "metadata": {
    "collapsed": false,
    "jupyter": {
     "outputs_hidden": false
    },
    "pycharm": {
     "name": "#%%\n"
    }
   },
   "outputs": [],
   "source": [
    "sc.scalar([3.41])"
   ]
  },
  {
   "cell_type": "markdown",
   "metadata": {
    "pycharm": {
     "name": "#%% md\n"
    }
   },
   "source": [
    "In this case, it stores the Python list inside a Scipp variable which is likely not the intention here.\n",
    "\n",
    "### Generating Values\n",
    "\n",
    "#### Range-Like Variables\n",
    "\n",
    "1D ranges and similar sequences can be created directly in scipp.\n",
    "[scipp.linspace](../../generated/functions/scipp.linspace.rst) creates arrays with regularly spaced values with a given number of elements.\n",
    "For example (click the stacked disks icon to see all values):"
   ]
  },
  {
   "cell_type": "code",
   "execution_count": null,
   "metadata": {
    "collapsed": false,
    "jupyter": {
     "outputs_hidden": false
    },
    "pycharm": {
     "name": "#%%\n"
    }
   },
   "outputs": [],
   "source": [
    "sc.linspace('x', start=-2, stop=5, num=6, unit='s')"
   ]
  },
  {
   "cell_type": "markdown",
   "metadata": {
    "pycharm": {
     "name": "#%% md\n"
    }
   },
   "source": [
    "[scipp.arange](../../generated/functions/scipp.arange.rst) similarly creates arrays a given stepsize"
   ]
  },
  {
   "cell_type": "code",
   "execution_count": null,
   "metadata": {
    "collapsed": false,
    "jupyter": {
     "outputs_hidden": false
    },
    "pycharm": {
     "name": "#%%\n"
    }
   },
   "outputs": [],
   "source": [
    "sc.arange('x', start=-2, stop=5, step=1.2, unit='K')"
   ]
  },
  {
   "cell_type": "markdown",
   "metadata": {
    "pycharm": {
     "name": "#%% md\n"
    }
   },
   "source": [
    "Please note that the caveats described in [NumPy's documentation](https://numpy.org/doc/stable/user/basics.creation.html#d-array-creation-functions) apply to Scipp as well.\n",
    "\n",
    "#### Filling with a Value\n",
    "\n",
    "There are a number opf functions to create N-D arrays with a fixed value, e.g. [scipp.zeros](../../generated/functions/scipp.zeros.rst) and [scipp.full](../../generated/functions/scipp.full.rst).\n",
    "`scipp.zeros` creates a variable of any number of dimensions filled with zeros:"
   ]
  },
  {
   "cell_type": "code",
   "execution_count": null,
   "metadata": {
    "collapsed": false,
    "jupyter": {
     "outputs_hidden": false
    },
    "pycharm": {
     "name": "#%%\n"
    }
   },
   "outputs": [],
   "source": [
    "sc.zeros(dims=['x', 'y'], shape=[3, 4])"
   ]
  },
  {
   "cell_type": "markdown",
   "metadata": {
    "pycharm": {
     "name": "#%% md\n"
    }
   },
   "source": [
    "### Special DTypes\n",
    "\n",
    "Scipp has a number of `dtypes` that require some form of conversion when creating variables.\n",
    "Notably [scipp.datetimes](../../generated/functions/scipp.datetimes.rst), [scipp.vectors](../../generated/functions/scipp.vectors.rst), and their scalar counterparts [scipp.datetime](../../generated/functions/scipp.datetime.rst), [scipp.vector](../../generated/functions/scipp.vector.rst).\n",
    "As well as types for spatial transformations in [scipp.spatial](../../generated/modules/scipp.spatial.rst).\n",
    "While variables of all of these dtypes can be constructed using `scipp.array` and `scipp.scalar`, the specialized functions offer more convenience and document their intent better.\n",
    "\n",
    "`scipp.datetimes` constructs an array of date-time-points.\n",
    "It can do so either by parsing a string:"
   ]
  },
  {
   "cell_type": "code",
   "execution_count": null,
   "metadata": {
    "collapsed": false,
    "jupyter": {
     "outputs_hidden": false
    },
    "pycharm": {
     "name": "#%%\n"
    }
   },
   "outputs": [],
   "source": [
    "sc.datetimes(dims=['t'], values=['2021-01-10T01:23:45', '2021-01-11T01:23:45'])"
   ]
  },
  {
   "cell_type": "markdown",
   "metadata": {
    "pycharm": {
     "name": "#%% md\n"
    }
   },
   "source": [
    "Or by converting number:"
   ]
  },
  {
   "cell_type": "code",
   "execution_count": null,
   "metadata": {
    "collapsed": false,
    "jupyter": {
     "outputs_hidden": false
    },
    "pycharm": {
     "name": "#%%\n"
    }
   },
   "outputs": [],
   "source": [
    "sc.datetimes(dims=['t'], values=[0, 1610288175], unit='s')"
   ]
  },
  {
   "cell_type": "markdown",
   "metadata": {
    "pycharm": {
     "name": "#%% md\n"
    }
   },
   "source": [
    "Note that the unit is mandatory in the second case and the values are the numbers of time units elapsed since the Unix epoch.\n",
    "See also [scipp.epoch](../../generated/functions/scipp.epoch.rst)\n",
    "\n",
    "`scipp.vectors` creates an array of 3-vectors.\n",
    "It does so by converting a sequence or array that a length of 3 in its inner dimension:"
   ]
  },
  {
   "cell_type": "code",
   "execution_count": null,
   "metadata": {
    "collapsed": false,
    "jupyter": {
     "outputs_hidden": false
    },
    "pycharm": {
     "name": "#%%\n"
    }
   },
   "outputs": [],
   "source": [
    "sc.vectors(dims=['x'], values=[[1, 2, 3], [4, 5, 6]])"
   ]
  },
  {
   "cell_type": "markdown",
   "metadata": {
    "pycharm": {
     "name": "#%% md\n"
    }
   },
   "source": [
    "## Data Arrays\n",
    "\n",
    "There is essentially only one way to construct [data arrays](./data-structures.rst#Data-Array), namely its initializer:"
   ]
  },
  {
   "cell_type": "code",
   "execution_count": null,
   "metadata": {
    "collapsed": false,
    "jupyter": {
     "outputs_hidden": false
    },
    "pycharm": {
     "name": "#%%\n"
    }
   },
   "outputs": [],
   "source": [
    "x = sc.linspace('x', start=1.5, stop=3.0, num=4, unit='m')\n",
    "a = sc.scalar('an attribute')\n",
    "m = sc.array(dims=['x'], values=[True, False, True, False])\n",
    "data = x ** 2\n",
    "sc.DataArray(data, coords={'x': x}, attrs={'a': a}, masks={'m': m})"
   ]
  },
  {
   "cell_type": "markdown",
   "metadata": {
    "pycharm": {
     "name": "#%% md\n"
    }
   },
   "source": [
    "`coords`, `attrs`, and `masks` are optional but the `data` must always be given.\n",
    "Note how the creation functions for `scipp.Variable` can be used to make the individual pieces of a data array.\n",
    "\n",
    "## Dataset\n",
    "\n",
    "[Datasets](./data-structures.rst#Dataset) are constructed by combining multiple data arrays or variables.\n",
    "For instance, using the previously defined variables:"
   ]
  },
  {
   "cell_type": "code",
   "execution_count": null,
   "metadata": {
    "collapsed": false,
    "jupyter": {
     "outputs_hidden": false
    },
    "pycharm": {
     "name": "#%%\n"
    }
   },
   "outputs": [],
   "source": [
    "sc.Dataset({'data1': data, 'data2': -data}, coords={'x': x})"
   ]
  },
  {
   "cell_type": "markdown",
   "metadata": {
    "pycharm": {
     "name": "#%% md\n"
    }
   },
   "source": [
    "Or from data arrays:"
   ]
  },
  {
   "cell_type": "code",
   "execution_count": null,
   "metadata": {
    "collapsed": false,
    "jupyter": {
     "outputs_hidden": false
    },
    "pycharm": {
     "name": "#%%\n"
    }
   },
   "outputs": [],
   "source": [
    "da1 = sc.DataArray(data, coords={'x': x}, attrs={'a': a}, masks={'m': m})\n",
    "da2 = sc.DataArray(-data, coords={'x': x})\n",
    "sc.Dataset({'data1': da1, 'data2': da2})"
   ]
  },
  {
   "cell_type": "markdown",
   "metadata": {
    "pycharm": {
     "name": "#%% md\n"
    }
   },
   "source": [
    "## Any Data Structure\n",
    "\n",
    "Any of `scipp.Variable`, `scipp.DataArray`, and `scipp.Dataset` and be created using the methods described in the following subsections.\n",
    "\n",
    "### From Files\n",
    "\n",
    "Scipp has a custom file format based on HDF5 which can store data structures.\n",
    "See [Reading and Writing Files](../reading-and-writing-files.rst) for details.\n",
    "In short, `scipp.io.open_hdf5` loads whatever Scipp object is stored in a given file.\n",
    "For demonstration purposes, we use a `BytesIO` object here. But the same code can be used by passing a string as a file name to `to_hdf5` and `open_hdf5`."
   ]
  },
  {
   "cell_type": "code",
   "execution_count": null,
   "metadata": {
    "collapsed": false,
    "jupyter": {
     "outputs_hidden": false
    },
    "pycharm": {
     "name": "#%%\n"
    }
   },
   "outputs": [],
   "source": [
    "from io import BytesIO\n",
    "buffer = BytesIO()\n",
    "v = sc.arange('x', start=1.0, stop=5.0, step=1.0, unit='s')\n",
    "v.to_hdf5(buffer)\n",
    "sc.io.open_hdf5(buffer)"
   ]
  },
  {
   "cell_type": "markdown",
   "metadata": {
    "pycharm": {
     "name": "#%% md\n"
    }
   },
   "source": [
    "### From Other Libraries\n",
    "\n",
    "Scipp's data structures can be converted to and from certain other structures using the functions listed under [Compatibility](../../reference/free-functions.rst#compatibility).\n",
    "For example, `scipp.compat.from_pandas` can convert a Pandas dataframe into a Scipp dataset:"
   ]
  },
  {
   "cell_type": "code",
   "execution_count": null,
   "metadata": {
    "collapsed": false,
    "jupyter": {
     "outputs_hidden": false
    },
    "pycharm": {
     "name": "#%%\n"
    }
   },
   "outputs": [],
   "source": [
    "import pandas as pd\n",
    "df = pd.DataFrame({'x': 10*np.arange(5), 'y': np.linspace(0.1, 0.5, 5)})\n",
    "df"
   ]
  },
  {
   "cell_type": "code",
   "execution_count": null,
   "metadata": {
    "collapsed": false,
    "jupyter": {
     "outputs_hidden": false
    },
    "pycharm": {
     "name": "#%%\n"
    },
    "tags": []
   },
   "outputs": [],
   "source": [
    "sc.compat.from_pandas(df)"
   ]
  }
 ],
 "metadata": {
  "kernelspec": {
   "display_name": "Python 3 (ipykernel)",
   "language": "python",
   "name": "python3"
  },
  "language_info": {
   "codemirror_mode": {
    "name": "ipython",
    "version": 3
   },
   "file_extension": ".py",
   "mimetype": "text/x-python",
   "name": "python",
   "nbconvert_exporter": "python",
   "pygments_lexer": "ipython3",
   "version": "3.8.12"
  }
 },
 "nbformat": 4,
 "nbformat_minor": 4
}

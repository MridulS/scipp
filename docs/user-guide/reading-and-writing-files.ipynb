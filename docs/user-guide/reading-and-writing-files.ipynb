{
 "cells": [
  {
   "cell_type": "markdown",
   "metadata": {},
   "source": [
    "# Reading and Writing Files\n",
    "\n",
    "## HDF5\n",
    "\n",
    "Scipp support writing variables, data arrays, and dataset to HDF5 files.\n",
    "Reading of HDF5 is supported *only* for these scipp-specific files.\n",
    "Other HDF5-based formats are not supported at this point.\n",
    "For reading NeXus files, see [scipp-neutron](../scipp-neutron/overview.html).\n",
    "\n",
    "<div class=\"alert alert-warning\">\n",
    "\n",
    "We do not recommend to use scipp HDF5 files for archiving or as the sole means of storing valuable data.\n",
    "The current scipp HDF5 file format is not a standard and will likely be subject to change due to the early development status of scipp.\n",
    "**Future versions of scipp may not be able to read older files.**\n",
    "    \n",
    "That being said, the file format is quite simple and based on the HDF5 standard so it would still be possible to recover data from such files in such a case.\n",
    "    \n",
    "</div>"
   ]
  },
  {
   "cell_type": "code",
   "execution_count": null,
   "metadata": {},
   "outputs": [],
   "source": [
    "import numpy as np\n",
    "import scipp as sc\n",
    "\n",
    "x = sc.Variable(dims=['x'], values=np.arange(10))\n",
    "var = sc.Variable(dims=['x', 'y'], values=np.random.rand(9,3))\n",
    "a = sc.DataArray(data=var, coords={'x':x})\n",
    "\n",
    "a.to_hdf5(filename='test.hdf5')"
   ]
  },
  {
   "cell_type": "code",
   "execution_count": null,
   "metadata": {},
   "outputs": [],
   "source": [
    "b = sc.io.open_hdf5(filename='test.hdf5')"
   ]
  },
  {
   "cell_type": "code",
   "execution_count": null,
   "metadata": {},
   "outputs": [],
   "source": [
    "b"
   ]
  }
 ],
 "metadata": {
  "kernelspec": {
   "display_name": "Python 3",
   "language": "python",
   "name": "python3"
  },
  "language_info": {
   "codemirror_mode": {
    "name": "ipython",
    "version": 3
   },
   "file_extension": ".py",
   "mimetype": "text/x-python",
   "name": "python",
   "nbconvert_exporter": "python",
   "pygments_lexer": "ipython3",
   "version": "3.7.8"
  }
 },
 "nbformat": 4,
 "nbformat_minor": 4
}

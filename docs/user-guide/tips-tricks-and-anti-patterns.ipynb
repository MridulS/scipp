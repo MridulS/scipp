{
 "cells": [
  {
   "cell_type": "code",
   "execution_count": null,
   "metadata": {},
   "outputs": [],
   "source": [
    "import numpy as np\n",
    "import scipp as sc"
   ]
  },
  {
   "cell_type": "markdown",
   "metadata": {},
   "source": [
    "# Tips, tricks, and anti-patterns\n",
    "## Choose dimensions wisely\n",
    "\n",
    "A good choice of dimensions for representing data goes a long way in making working with Scipp efficient.\n",
    "Consider, e.g., data gathered from detector pixels at certain time intervals.\n",
    "We could represent it as"
   ]
  },
  {
   "cell_type": "code",
   "execution_count": null,
   "metadata": {},
   "outputs": [],
   "source": [
    "npix = 100\n",
    "ntime = 10\n",
    "data = sc.zeros(dims=['pixel','time'], shape=[npix, ntime])\n",
    "data"
   ]
  },
  {
   "cell_type": "markdown",
   "metadata": {},
   "source": [
    "For irregularly spaced detectors this may well be the correct or only choice.\n",
    "If however the pixels are actually forming a regular 2-D image sensor we should probably prefer"
   ]
  },
  {
   "cell_type": "code",
   "execution_count": null,
   "metadata": {},
   "outputs": [],
   "source": [
    "nx = 10\n",
    "ny = npix // nx\n",
    "data = sc.zeros(dims=['y', 'x', 'time'], shape=[ny, nx, ntime])\n",
    "data"
   ]
  },
  {
   "cell_type": "markdown",
   "metadata": {},
   "source": [
    "With this layout we can naturally perform slices, access neighboring pixel rows or columns, or sum over rows or columns.\n",
    "\n",
    "## Choose dimension order wisely\n",
    "\n",
    "In principle the order of dimensions in Scipp can be arbitrary since operations transpose automatically based on dimension labels.\n",
    "In practice however a bad choice of dimension order can lead to performance bottlenecks.\n",
    "This is most obvious when slicing multi-dimensional variables or arrays, where slicing any but the outer dimension yields a slice with gaps between data values, i.e., a very inefficient memory layout.\n",
    "If an application requires slicing (directly or indirectly, e.g., in `groupby` operations) predominantly for a certain dimension, this dimension should be made the *outermost* dimension.\n",
    "For example, for a stack of images the best choice would typically be"
   ]
  },
  {
   "cell_type": "code",
   "execution_count": null,
   "metadata": {},
   "outputs": [],
   "source": [
    "nimage = 13\n",
    "images = sc.zeros(dims=['image', 'y', 'x'], shape=[nimage, ny, nx,])\n",
    "images"
   ]
  },
  {
   "cell_type": "markdown",
   "metadata": {},
   "source": [
    "Slices such as"
   ]
  },
  {
   "cell_type": "code",
   "execution_count": null,
   "metadata": {},
   "outputs": [],
   "source": [
    "images['image', 3]"
   ]
  },
  {
   "cell_type": "markdown",
   "metadata": {},
   "source": [
    "will then have data for all pixels in a contiguous chunk of memory.\n",
    "Note that in Scipp the first listed dimension in `dims` is always the *outermost* dimension (NumPy's default).\n",
    "\n",
    "## Avoid loops\n",
    "\n",
    "With Scipp, just like with NumPy or Matlab, loops such as `for`-loops should be avoided.\n",
    "Loops typically lead to many small slices or many small array objects and rapidly lead to very inefficient code.\n",
    "If we encounter the need for a loop in a workflow using Scipp we should try and take a step back to understand how it can be avoided.\n",
    "Some tips to do this include:\n",
    "\n",
    "### Use slicing with \"shifts\"\n",
    "\n",
    "When access to neighbor slices is required, replace"
   ]
  },
  {
   "cell_type": "code",
   "execution_count": null,
   "metadata": {},
   "outputs": [],
   "source": [
    "for i in range(len(images.values)-1):\n",
    "    images['image', i] -= images['image', i+1]"
   ]
  },
  {
   "cell_type": "markdown",
   "metadata": {},
   "source": [
    "with"
   ]
  },
  {
   "cell_type": "code",
   "execution_count": null,
   "metadata": {},
   "outputs": [],
   "source": [
    "images['image', :-1] -= images['image', 1:]"
   ]
  },
  {
   "cell_type": "markdown",
   "metadata": {},
   "source": [
    "Note that at this point NumPy provides more powerful functions such as [numpy.roll](https://numpy.org/doc/stable/reference/generated/numpy.roll.html).\n",
    "Scipp's toolset for such purposes is not fully developed yet."
   ]
  },
  {
   "cell_type": "markdown",
   "metadata": {},
   "source": [
    "### Seek advice from NumPy\n",
    "\n",
    "There is a huge amount of information available for NumPy, e.g., on [stackoverflow](https://stackoverflow.com/questions/tagged/numpy?tab=Votes).\n",
    "We can profit in two ways from this.\n",
    "In some cases, the same techniques can be applied to Scipp variables or data arrays, since mechanisms such as slicing and basic operations are very similar.\n",
    "In other cases, e.g., when functionality is not available in Scipp yet, we can resort to processing the raw array accessible through the `values` property:"
   ]
  },
  {
   "cell_type": "code",
   "execution_count": null,
   "metadata": {},
   "outputs": [],
   "source": [
    "var = sc.arange('x', 10.0)\n",
    "var.values = np.roll(var.values, 2)\n",
    "var"
   ]
  },
  {
   "cell_type": "markdown",
   "metadata": {},
   "source": [
    "The `values` property can also be used as the `out` argument that many NumPy functions support:"
   ]
  },
  {
   "cell_type": "code",
   "execution_count": null,
   "metadata": {},
   "outputs": [],
   "source": [
    "np.exp(var.values, out=var.values)\n",
    "var"
   ]
  },
  {
   "cell_type": "markdown",
   "metadata": {},
   "source": [
    "<div class=\"alert alert-warning\">\n",
    "    <b>WARNING</b>\n",
    "\n",
    "When applying NumPy functions to the `values` directly we lose handling of units and variances, so this should be used with care.\n",
    "</div>"
   ]
  },
  {
   "cell_type": "markdown",
   "metadata": {},
   "source": [
    "### Use helper dimensions or reshaped data\n",
    "\n",
    "Some operations may be difficult to implement without a loop in a certain data layout.\n",
    "If this layout cannot be changed globally, we can still change it temporarily for a certain operation.\n",
    "Even if this requires a copy it may still be faster and more concise than implementing the operation with a loop.\n",
    "For example, we can sum neighboring elements by temporarily reshaping with a helper dimension using `fold`:"
   ]
  },
  {
   "cell_type": "code",
   "execution_count": null,
   "metadata": {},
   "outputs": [],
   "source": [
    "var = sc.arange('x', 12.0)\n",
    "var.fold('x', sizes={'x': 4, 'neighbors': 3}).sum('neighbors')"
   ]
  },
  {
   "cell_type": "markdown",
   "metadata": {},
   "source": [
    "Note that `fold` returns a view, i.e., the operation is performed without making a copy of the underlying data buffers.\n",
    "The companion operation of `fold` is `flatten`, which provides the reverse operation (see the [section below](#reshaping-data) for more details).\n",
    "\n",
    "## Use in-place operations\n",
    "\n",
    "Allocating memory or copying data is an expensive process and may even be the dominant factor for overall application performance, apart from loading large amounts of data from disk.\n",
    "Therefore, it pays off the avoid copies where possible.\n",
    "\n",
    "Scipp provides two mechanisms for this, in-place arithmetic operators such as `+=`, and `out`-arguments similar to what NumPy provides.\n",
    "Examples:"
   ]
  },
  {
   "cell_type": "code",
   "execution_count": null,
   "metadata": {},
   "outputs": [],
   "source": [
    "var = var * 2.0 # makes a copy\n",
    "var *= 2.0 # in-place (faster)"
   ]
  },
  {
   "cell_type": "code",
   "execution_count": null,
   "metadata": {},
   "outputs": [],
   "source": [
    "var = sc.sqrt(var) # makes a copy\n",
    "var = sc.sqrt(var, out=var) # in-place (faster)"
   ]
  },
  {
   "cell_type": "markdown",
   "metadata": {},
   "source": [
    "Note that in-place operations cannot be used if a broadcast is required or a dtype change happens, since in-place operations may only change the data contained in a variable."
   ]
  },
  {
   "cell_type": "markdown",
   "metadata": {},
   "source": [
    "## Reshaping data\n",
    "\n",
    "<div id='reshaping-data'></div>\n",
    "\n",
    "The shape of a `Variable` or a `DataArray` can be modified using the [fold](https://scipp.github.io/generated/functions/scipp.fold.html) and\n",
    "[flatten](https://scipp.github.io/generated/functions/scipp.flatten.html) functions.\n",
    "Below are a few examples to illustrate how they work.\n",
    "\n",
    "### Folding\n",
    "\n",
    "In a nutshell, the `fold` operation increases the number of dimensions of the data.\n",
    "We begin with a two-dimensional variable:"
   ]
  },
  {
   "cell_type": "code",
   "execution_count": null,
   "metadata": {},
   "outputs": [],
   "source": [
    "N = 4\n",
    "M = 3\n",
    "var = sc.array(dims=['x', 'y'], values=np.random.random([N,M]))\n",
    "sc.show(var)"
   ]
  },
  {
   "cell_type": "markdown",
   "metadata": {},
   "source": [
    "We then fold the `x` dimension into two new dimensions `a` and `b`:"
   ]
  },
  {
   "cell_type": "code",
   "execution_count": null,
   "metadata": {},
   "outputs": [],
   "source": [
    "folded_var = sc.fold(var, dim='x', sizes={'a': 2, 'b': 2})\n",
    "sc.show(folded_var)"
   ]
  },
  {
   "cell_type": "markdown",
   "metadata": {},
   "source": [
    "The result is a three-dimensional variable with dimensions `(a, b, y)`.\n",
    "\n",
    "A `DataArray` with coordinates can also be folded:"
   ]
  },
  {
   "cell_type": "code",
   "execution_count": null,
   "metadata": {},
   "outputs": [],
   "source": [
    "x = sc.array(dims=['x'], values=np.arange(N))\n",
    "y = sc.array(dims=['y'], values=np.arange(M))\n",
    "da = sc.DataArray(data=var, coords={'x':x,'y':y})\n",
    "sc.show(da)"
   ]
  },
  {
   "cell_type": "code",
   "execution_count": null,
   "metadata": {},
   "outputs": [],
   "source": [
    "folded_da = sc.fold(da, dim='x', sizes={'a': 2, 'b': 2})\n",
    "sc.show(folded_da)"
   ]
  },
  {
   "cell_type": "markdown",
   "metadata": {},
   "source": [
    "Note that the dimensions of the `x` coordinate have changed from `(x,)` to `(a, b)`,\n",
    "but the coordinate name has not changed.\n",
    "\n",
    "### Flattening\n",
    "\n",
    "The inverse of the `fold` operation is `flatten`.\n",
    "This is analogous to NumPy's [flatten](https://numpy.org/doc/stable/reference/generated/numpy.ndarray.flatten.html) method.\n",
    "By default, all dimensions of the input are flattened to a single dimension,\n",
    "whose name is provided by the `to` argument:"
   ]
  },
  {
   "cell_type": "code",
   "execution_count": null,
   "metadata": {},
   "outputs": [],
   "source": [
    "flat_da = sc.flatten(da, to='z')\n",
    "sc.show(flat_da)"
   ]
  },
  {
   "cell_type": "markdown",
   "metadata": {},
   "source": [
    "It is however possible to only flatten selected dimensions, using the `dims` argument.\n",
    "For example, we can flatten the `a` and `b` dimensions of our previously folded (three-dimensional) data to recover a two-dimensional array."
   ]
  },
  {
   "cell_type": "code",
   "execution_count": null,
   "metadata": {},
   "outputs": [],
   "source": [
    "flat_ab = sc.flatten(folded_da, dims=['a', 'b'], to='time')\n",
    "sc.show(flat_ab)"
   ]
  },
  {
   "cell_type": "markdown",
   "metadata": {},
   "source": [
    "### Stacking: concatenating into a new dimension\n",
    "\n",
    "Another very common operation is stacking together arrays that have the same shape.\n",
    "In NumPy, this is called [stack](https://numpy.org/doc/stable/reference/generated/numpy.stack.html).\n",
    "In Scipp, this is achieved using [concat](https://scipp.github.io/generated/functions/scipp.concat.html).\n",
    "\n",
    "The most widely known use of `concat` is probably to concatenate data along an existing dimension.\n",
    "With Scipp's labeled dimensions, it is however also possible to concatenate variables and data arrays along a new dimension,\n",
    "which is equivalent to NumPy's `stack`."
   ]
  },
  {
   "cell_type": "code",
   "execution_count": null,
   "metadata": {},
   "outputs": [],
   "source": [
    "stacked = sc.concat([da, da], dim='z')\n",
    "sc.show(stacked)"
   ]
  }
 ],
 "metadata": {
  "kernelspec": {
   "display_name": "Python 3 (ipykernel)",
   "language": "python",
   "name": "python3"
  },
  "language_info": {
   "codemirror_mode": {
    "name": "ipython",
    "version": 3
   },
   "file_extension": ".py",
   "mimetype": "text/x-python",
   "name": "python",
   "nbconvert_exporter": "python",
   "pygments_lexer": "ipython3"
  }
 },
 "nbformat": 4,
 "nbformat_minor": 4
}

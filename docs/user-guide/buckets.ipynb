{
 "cells": [
  {
   "cell_type": "markdown",
   "metadata": {},
   "source": [
    "# Bucketed Data\n",
    "\n",
    "## Introduction\n",
    "\n",
    "Scipp supports features for *bucketing* \"unaligned\" data.\n",
    "Unaligned data in this context refers to data values irregularly placed in, e.g., space or time.\n",
    "Bucketing lets us:\n",
    "\n",
    "- Map a table of position-based data to an X-Y-Z grid.\n",
    "- Map a table of position-based data to an angle such as $\\theta$.\n",
    "- Map event time stamps to time bins.\n",
    "\n",
    "The key feature here is that *bucketing does not actually histogram or resample data*.\n",
    "Data is kept in its original form.\n",
    "Bucketing provides a wrapper with a coordinate system more adequate for working with the scientific data.\n",
    "\n",
    "## From unaligned to bucketed data\n",
    "\n",
    "We outline the underlying concepts based on a simple example."
   ]
  },
  {
   "cell_type": "code",
   "execution_count": null,
   "metadata": {},
   "outputs": [],
   "source": [
    "import scipp as sc\n",
    "import numpy as np\n",
    "from scipp.plot import plot\n",
    "import matplotlib.pyplot as plt\n",
    "\n",
    "np.random.seed(1) # Fixed for reproducibility"
   ]
  },
  {
   "cell_type": "markdown",
   "metadata": {},
   "source": [
    "Consider a list of measurements at various \"points\" in space.\n",
    "Here we restrict ourselves to the X-Y plane for visualization purposes:"
   ]
  },
  {
   "cell_type": "code",
   "execution_count": null,
   "metadata": {},
   "outputs": [],
   "source": [
    "N = 50\n",
    "values = 10*np.random.rand(N)\n",
    "data = sc.DataArray(\n",
    "    data=sc.Variable(dims=['position'], unit=sc.units.counts, values=values, variances=values),\n",
    "    coords={\n",
    "        'position':sc.Variable(dims=['position'], values=['site-{}'.format(i) for i in range(N)]),\n",
    "        'x':sc.Variable(dims=['position'], unit=sc.units.m, values=np.random.rand(N)),\n",
    "        'y':sc.Variable(dims=['position'], unit=sc.units.m, values=np.random.rand(N))})\n",
    "data"
   ]
  },
  {
   "cell_type": "markdown",
   "metadata": {},
   "source": [
    "For every point we measured at the auxiliary coordinates `'x'` and `'y'` give the position in the X-Y plane.\n",
    "These are *not* dimension-coordinates, since our measurements are *not* on a 2-D grid, but rather points with an irregular distribution.\n",
    "`data` is essentially a 1-D table of measurements.\n",
    "We can plot this data:"
   ]
  },
  {
   "cell_type": "code",
   "execution_count": null,
   "metadata": {},
   "outputs": [],
   "source": [
    "plot(data)"
   ]
  },
  {
   "cell_type": "markdown",
   "metadata": {},
   "source": [
    "The `'position'` dimension is not a continuous dimension but essentially just a row in our table.\n",
    "In practice, such a figure and this representation of data in general may therefore not be very useful.\n",
    "\n",
    "As an alternative view of our data we can create a scatter plot.\n",
    "We do this explicitly here to demonstrate how the content of `data` is connected to elements of the figure:"
   ]
  },
  {
   "cell_type": "code",
   "execution_count": null,
   "metadata": {},
   "outputs": [],
   "source": [
    "fig, ax = plt.subplots()\n",
    "scatter = ax.scatter(\n",
    "    x=data.coords['x'].values,\n",
    "    y=data.coords['y'].values,\n",
    "    c=data.values)\n",
    "ax.set_xlabel('x [{}]'.format(data.coords['x'].unit))\n",
    "ax.set_ylabel('y [{}]'.format(data.coords['y'].unit))\n",
    "cbar = plt.colorbar(scatter)\n",
    "cbar.set_label(\"[{}]\".format(data.unit))\n",
    "fig.show()"
   ]
  },
  {
   "cell_type": "markdown",
   "metadata": {},
   "source": [
    "This shows the distribution in space, but for real datasets with millions of points this may not be convenient.\n",
    "Furthermore, operating with scattered data is often inconvenient and may require knowledge of the underlying representation.\n",
    "\n",
    "We can now use `scipp.bucketby` to provide a more accessible wrapper for our data:"
   ]
  },
  {
   "cell_type": "code",
   "execution_count": null,
   "metadata": {},
   "outputs": [],
   "source": [
    "xbins = sc.Variable(dims=['x'], unit=sc.units.m, values=[0.1,0.5,0.9])\n",
    "ybins = sc.Variable(dims=['y'], unit=sc.units.m, values=[0.1,0.3,0.5,0.7,0.9])\n",
    "buckets = sc.bucketby(data, [ybins, xbins])\n",
    "buckets"
   ]
  },
  {
   "cell_type": "markdown",
   "metadata": {},
   "source": [
    "`buckets` is a 2-D data array, but it contains the original table of \"unaligned\" data:"
   ]
  },
  {
   "cell_type": "code",
   "execution_count": null,
   "metadata": {},
   "outputs": [],
   "source": [
    "sc.buckets.get_buffer(buckets.data)"
   ]
  },
  {
   "cell_type": "markdown",
   "metadata": {},
   "source": [
    "The \"bucketing\" procedure based on bin edges for `'x'` and `'y'` is *not* performing the actual histogramming step.\n",
    "However, since its dimensions are defined by the bin-edge coordinates for `'x'` and `'y'`, we will see below that it behaves much like normal dense data for operations such as slicing.\n",
    "\n",
    "We create another figure to better illustrate the structure of `buckets`:"
   ]
  },
  {
   "cell_type": "code",
   "execution_count": null,
   "metadata": {
    "scrolled": false
   },
   "outputs": [],
   "source": [
    "fig, ax = plt.subplots()\n",
    "buffer = sc.buckets.get_buffer(buckets.data)\n",
    "scatter = ax.scatter(\n",
    "    x=buffer.coords['x'].values,\n",
    "    y=buffer.coords['y'].values,\n",
    "    c=buffer.values)\n",
    "ax.set_xlabel('x [{}]'.format(buckets.coords['x'].unit))\n",
    "ax.set_ylabel('y [{}]'.format(buckets.coords['y'].unit))\n",
    "ax.set_xticks(buckets.coords['x'].values)\n",
    "ax.set_yticks(buckets.coords['y'].values)\n",
    "ax.grid()\n",
    "cbar = fig.colorbar(scatter)\n",
    "cbar.set_label(\"[{}]\".format(data.unit))\n",
    "fig.show()"
   ]
  },
  {
   "cell_type": "markdown",
   "metadata": {},
   "source": [
    "This is essentially the same figure as the scatter plot for the original `data`.\n",
    "The differences are:\n",
    "\n",
    "- A \"grid\" (the bin edges) that is stored alongside the data.\n",
    "- All points outside the limits of the specified bin edges have been dropped\n",
    "\n",
    "`buckets` can now directly be histogrammed, without the need for specifying bin boundaries.\n",
    "This is done using `sc.buckets.sum`, summing the data array within each bucket:"
   ]
  },
  {
   "cell_type": "code",
   "execution_count": null,
   "metadata": {},
   "outputs": [],
   "source": [
    "plot(sc.buckets.sum(buckets))"
   ]
  },
  {
   "cell_type": "markdown",
   "metadata": {},
   "source": [
    "Here `sc.buckets.sum` performs histogramming for all \"bucketed\" dimensions, in this case `x` and `y`.\n",
    "The resulting values in the X-Y bins are the counts accumulated from measurements at all points falling in a given bucket."
   ]
  },
  {
   "cell_type": "markdown",
   "metadata": {},
   "source": [
    "## Working with bucketed data\n",
    "\n",
    "### Slicing\n",
    "\n",
    "The bucketed data can be sliced as usual, e.g., to create plots of subregions:"
   ]
  },
  {
   "cell_type": "code",
   "execution_count": null,
   "metadata": {},
   "outputs": [],
   "source": [
    "plot(sc.buckets.sum(buckets['x', 0]))"
   ]
  },
  {
   "cell_type": "markdown",
   "metadata": {},
   "source": [
    "Just like slicing dense variables, a slice of bucketed data \"drops\" all unaligned data falling into areas outside the slice:"
   ]
  },
  {
   "cell_type": "code",
   "execution_count": null,
   "metadata": {},
   "outputs": [],
   "source": [
    "s0 = buckets['x', 0]\n",
    "s1 = buckets['x', 1]\n",
    "print(f'total events: {sc.sum(sc.buckets.sum(buckets).data)}')\n",
    "print(f'events x=0:  {sc.sum(sc.buckets.sum(s0).data)}')\n",
    "print(f'events x=1:  {sc.sum(sc.buckets.sum(s1).data)}')"
   ]
  },
  {
   "cell_type": "markdown",
   "metadata": {},
   "source": [
    "This can provide an intuitive way of \"filtering\" lists of data based on some property of the list items."
   ]
  },
  {
   "cell_type": "markdown",
   "metadata": {},
   "source": [
    "### Masking\n",
    "\n",
    "Masks can be defined for the unaligned data array, as well as the realigned wrapper.\n",
    "This gives fine-grained and intuitive control, for e.g., masking invalid list entries on the one hand, and excluding regions in space on the other hand, without the need of manually determining which list entries fall into the exclusion zone.\n",
    "\n",
    "We define two masks, one for positions, and one in the X-Y plane:"
   ]
  },
  {
   "cell_type": "code",
   "execution_count": null,
   "metadata": {},
   "outputs": [],
   "source": [
    "# In general npos != N since positions out of bounds are dropped by `realign`\n",
    "npos = len(sc.buckets.get_buffer(buckets.data).coords['position'].values)\n",
    "position_mask = sc.Variable(\n",
    "    dims=['position'],\n",
    "    values=[False if i>npos/4 else True for i in range(npos)]\n",
    ")\n",
    "x_y_mask = sc.Variable(\n",
    "    dims=buckets.dims,\n",
    "    values=np.array([[True, False], [True, False], [False, False], [False, False]])\n",
    ")"
   ]
  },
  {
   "cell_type": "markdown",
   "metadata": {},
   "source": [
    "Then, we add the masks `realigned`.\n",
    "The position mask has to be added to the underlying unaligned data array:"
   ]
  },
  {
   "cell_type": "code",
   "execution_count": null,
   "metadata": {},
   "outputs": [],
   "source": [
    "sc.buckets.get_buffer(buckets.data).masks['broken_sensor'] = position_mask\n",
    "buckets.masks['exclude'] = x_y_mask"
   ]
  },
  {
   "cell_type": "markdown",
   "metadata": {},
   "source": [
    "As usual, more masks can be added if required, and masks can be removed as long as no reduction operation such as summing or histogramming took place.\n",
    "\n",
    "We can then plot the result.\n",
    "The mask of the underlying unaligned data is applied during the histogram step, i.e., masked positions are excluded.\n",
    "The mask of the realigned wrapper is indicated in the plot and carried through the histogram step.\n",
    "Make sure to compare this figure with the one we obtained earlier, before masking, and note how the values of the un-masked X-Y bins have changed due to masked positions of the underlying unaligned data:"
   ]
  },
  {
   "cell_type": "code",
   "execution_count": null,
   "metadata": {},
   "outputs": [],
   "source": [
    "plot(sc.buckets.sum(buckets))"
   ]
  },
  {
   "cell_type": "markdown",
   "metadata": {},
   "source": [
    "### Plotting higher dimensions\n",
    "\n",
    "On-the-fly histogramming is also supported for plotting realigned data with more than 2 dimensions:"
   ]
  },
  {
   "cell_type": "markdown",
   "metadata": {},
   "source": [
    "<div class=\"alert alert-warning\">\n",
    "\n",
    "**Warning**\n",
    "    \n",
    "The support for realigned data is being removed and will be replaced by bucket variables.\n",
    "The on-the-fly sum over buckets required for plotting is currently not yet being performed automatically.\n",
    "\n",
    "</div>"
   ]
  },
  {
   "cell_type": "code",
   "execution_count": null,
   "metadata": {},
   "outputs": [],
   "source": [
    "N = 50\n",
    "values = 10*np.random.rand(N)\n",
    "data3d = sc.DataArray(\n",
    "    data=sc.Variable(dims=['position'], unit=sc.units.counts, values=values, variances=values),\n",
    "    coords={\n",
    "        'position':sc.Variable(dims=['position'], values=['site-{}'.format(i) for i in range(N)]),\n",
    "        'x':sc.Variable(dims=['position'], unit=sc.units.m, values=np.random.rand(N)),\n",
    "        'y':sc.Variable(dims=['position'], unit=sc.units.m, values=np.random.rand(N)),\n",
    "        'z':sc.Variable(dims=['position'], unit=sc.units.m, values=np.random.rand(N))})\n",
    "zbins = sc.Variable(dims=['z'], unit=sc.units.m, values=np.linspace(0.1, 0.9, 20))\n",
    "buckets = sc.bucketby(data3d, [zbins, ybins, xbins])\n",
    "plot(sc.buckets.sum(buckets))"
   ]
  },
  {
   "cell_type": "markdown",
   "metadata": {},
   "source": [
    "<div class=\"alert alert-info\">\n",
    "\n",
    "**Note**\n",
    "    \n",
    "In this case, since the histogramming is performed on-the-fly for every slice through the data cube, the colorscale limits cannot be known in advance. They will then grow automatically as we navigate through the cube, but will not shink if the range of displayed values gets smaller again, to give a better feel of the relative values contained in different slices.\n",
    "\n",
    "</div>"
   ]
  },
  {
   "cell_type": "markdown",
   "metadata": {},
   "source": [
    "### Arithmetic operations\n",
    "\n",
    "Arithmetic operations for realigned data arrays are currently only supported for realigned [Event data](../event-data/overview.ipynb)."
   ]
  }
 ],
 "metadata": {
  "kernelspec": {
   "display_name": "Python 3",
   "language": "python",
   "name": "python3"
  },
  "language_info": {
   "codemirror_mode": {
    "name": "ipython",
    "version": 3
   },
   "file_extension": ".py",
   "mimetype": "text/x-python",
   "name": "python",
   "nbconvert_exporter": "python",
   "pygments_lexer": "ipython3",
   "version": "3.8.2"
  }
 },
 "nbformat": 4,
 "nbformat_minor": 4
}

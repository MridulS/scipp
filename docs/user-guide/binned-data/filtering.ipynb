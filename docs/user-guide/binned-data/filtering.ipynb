{
 "cells": [
  {
   "cell_type": "raw",
   "metadata": {},
   "source": [
    "TODO\n",
    "\n",
    "- generic section titles (concrete example in parenthesis?)\n",
    "- add file to pooch"
   ]
  },
  {
   "cell_type": "code",
   "execution_count": null,
   "metadata": {},
   "outputs": [],
   "source": [
    "%matplotlib widget\n",
    "import plopp\n",
    "plopp.patch_scipp()"
   ]
  },
  {
   "cell_type": "markdown",
   "metadata": {},
   "source": [
    "## Quick Reference\n",
    "\n",
    "[scipp.hist](../../generated/functions/scipp.hist.rst)\n",
    "[scipp.bin](../../generated/functions/scipp.bin.rst)\n",
    "[scipp.group](../../generated/functions/scipp.group.rst)\n",
    "[scipp.transform_coords](../../generated/functions/scipp.transform_coords.rst)\n",
    "[scipp.lookup](../../generated/functions/scipp.lookup.rst)\n",
    "\n",
    "### Extract events matching parameter value\n",
    "\n",
    "Use [label-based indexing on the `bins` property](../../generated/classes/scipp.Bins.rst#scipp.Bins.__getitem__).\n",
    "This works similar to regular [label-based indexing](../slicing.rst#Label-based-indexing) but operates on the unordered bin contents.\n",
    "Example:\n",
    "\n",
    "```python\n",
    "param_value = sc.scalar(1.2, unit='m')\n",
    "filtered = da.bins['param', param_value]\n",
    "```\n",
    "\n",
    "- The output data array has the same dimensions as the input `da`.\n",
    "- `filtered` contains a *copy* of the filtered events.\n",
    "\n",
    "### Extract events falling into a parameter interval\n",
    "\n",
    "Use [label-based indexing on the `bins` property](../../generated/classes/scipp.Bins.rst#scipp.Bins.__getitem__).\n",
    "This works similar to regular [label-based indexing](../slicing.rst#Label-based-indexing) but operates on the unordered bin contents.\n",
    "Example:\n",
    "\n",
    "```python\n",
    "start = sc.scalar(1.2, unit='m')\n",
    "stop = sc.scalar(1.3, unit='m')\n",
    "filtered = da.bins['param', start:stop]\n",
    "```\n",
    "\n",
    "- The output data array has the same dimensions as the input `da`.\n",
    "`filtered` contains a *copy* of the filtered events.\n",
    "- Note that as usual the upper bound of the interval (here $1.3~\\text{m}$) is *not* included.\n",
    "\n",
    "### Split into bins based on discrete event parameter\n",
    "\n",
    "Use [scipp.group](../../generated/functions/scipp.group.rst).\n",
    "Example:\n",
    "\n",
    "```python\n",
    "split = da.group('param')\n",
    "```\n",
    "\n",
    "- The output data array has a new dimension `'param'` in addition to the dimensions of the input.\n",
    "- `split` contains a *copy* of the reordered events.\n",
    "- Pass an explicit variable to `group` listing desired groups to limit what is included in the output.\n",
    "\n",
    "### Split into bins based on contiguous event parameter\n",
    "\n",
    "Use [scipp.bin](../../generated/functions/scipp.bin.rst).\n",
    "Example:\n",
    "\n",
    "```python\n",
    "split = da.bin(param=10)\n",
    "```\n",
    "\n",
    "- The output data array has a new dimension `'param'` in addition to the dimensions of the input.\n",
    "- `split` contains a *copy* of the reordered events.\n",
    "- Provide an explicit variable to `bin` to limit the parameter interval that is included in the output, or for fine-grained control over the sub-intervals.\n",
    "\n",
    "### Compute derived event parameters for subsequent extracting or splitting\n",
    "\n",
    "Use [scipp.transform_coords](../../generated/functions/scipp.transform_coords.rst).\n",
    "Example:\n",
    "\n",
    "```python\n",
    "da2 = da.transform_coords(derived_param=lambda p1, p2: p1 + p2)\n",
    "```\n",
    "\n",
    "`da2` can now be used with any of the methods for exctracting or splitting data described above.\n",
    "The intermediate variable can also be omitted, and we can directly extract or split the result:\n",
    "\n",
    "```python\n",
    "filtered = da.transform_coords(derived_param=lambda p1, p2: p1 + p2) \\\n",
    "             .bin(new_param=10)\n",
    "```\n",
    "\n",
    "### Compute derived event parameters from time-series or other metadata\n",
    "\n",
    "In practice, events are often tagged with a timestamp, which can be used to lookup parameter values from, e.g., a time-series log.\n",
    "Use [scipp.lookup](../../generated/functions/scipp.lookup.rst) with [scipp.transform_coords](../../generated/functions/scipp.transform_coords.rst). Example:\n",
    "\n",
    "```python\n",
    "# Data array, dims=('time',), values are temperatures measured at given time\n",
    "temperature = da.attrs['sample_temperature'].value\n",
    "interp_temperature = sc.lookup(temperature, mode='previous')\n",
    "filtered = da.transform_coords(temperature=interp_temperature) \\\n",
    "             .bin(temperature=10)\n",
    "```"
   ]
  },
  {
   "cell_type": "markdown",
   "metadata": {},
   "source": [
    "what | use | dims\n",
    "---|---|---\n",
    "extract events matching param value|`da.bins['param', param_value]`| same as `da`\n",
    "extract events in param interval|`da.bins['param', start:stop]`| same as `da`\n",
    "split into bins based on discrete event param|`da.group('param')`| additional new dim `'param'`\n",
    "split into bins based on contiguous<br> event param|`da.bin(param=100)`| additional new dim `'param'`\n"
   ]
  },
  {
   "cell_type": "code",
   "execution_count": null,
   "metadata": {},
   "outputs": [],
   "source": [
    "import scipp as sc\n",
    "\n",
    "# Stainless steel tensile bar for NX school\n",
    "da = sc.io.open_hdf5('scipp-filtering-docs-data.h5')\n",
    "da"
   ]
  },
  {
   "cell_type": "code",
   "execution_count": null,
   "metadata": {},
   "outputs": [],
   "source": [
    "da.hist().plot()"
   ]
  },
  {
   "cell_type": "markdown",
   "metadata": {},
   "source": [
    "## Extract time interval\n",
    "\n",
    "strain... drops off for some reason, use 'filtering' to remove those events"
   ]
  },
  {
   "cell_type": "code",
   "execution_count": null,
   "metadata": {},
   "outputs": [],
   "source": [
    "strain = da.attrs['loadframe.strain'].value\n",
    "strain.plot()"
   ]
  },
  {
   "cell_type": "code",
   "execution_count": null,
   "metadata": {},
   "outputs": [],
   "source": [
    "import numpy as np\n",
    "\n",
    "start = strain.coords['time'][0]\n",
    "stop = strain.coords['time'][np.argmax(strain.values)]\n",
    "da = da.bins['time', start:stop]"
   ]
  },
  {
   "cell_type": "markdown",
   "metadata": {},
   "source": [
    "<div class=\"alert alert-info\">\n",
    "\n",
    "**Note**\n",
    "    \n",
    "The above is just a concise way of binning into a single time interval and squeezing the time dimension from the result.\n",
    "\n",
    "If *multiple* intervals are to be extracted then the mechanism based on `start` and `stop` values becomes highly inefficient, as every time `da.bins['param', start:stop]` is called *all* of the events have to be processed.\n",
    "Instead prefer using `da.bin(param=param_bin_edges)` and slice the result using regular positional (or label-based) indexing.\n",
    "Similarly, prefer using `da.group('param')` to extract based on multiple discrete values.\n",
    "    \n",
    "</div>"
   ]
  },
  {
   "cell_type": "markdown",
   "metadata": {
    "tags": []
   },
   "source": [
    "## Filter bad pulses\n",
    "\n",
    "In the previous example we directly used an existing event-coordinate (`da.bins.coords['time']`) for selecting the desired subset of data.\n",
    "In many practical cases, such a coordinate may not be available yet and needs to be computed as a preparatory step.\n",
    "Scipp facilitates this using `transform_coords` and `lookup`.\n",
    "When the desired event-coordinate can be computed directly from existing coordinates then `transform_coords` can to the job on its own.\n",
    "In other cases, such as the following example, we combine it with `lookup` to, e.g., map timestamps to corresponding sensor readings.\n",
    "\n",
    "Our data stores the so called *proton charge*, the total charge of protons per pulse (which produced the neutrons scattered off the sample):"
   ]
  },
  {
   "cell_type": "code",
   "execution_count": null,
   "metadata": {},
   "outputs": [],
   "source": [
    "proton_charge = da.attrs['proton_charge'].value\n",
    "proton_charge.plot()"
   ]
  },
  {
   "cell_type": "markdown",
   "metadata": {},
   "source": [
    "Some pulses have a very low proton charge which may indicate a problem with the source, so we may want to remove events that were produced from these pulses.\n",
    "We can use `lookup` to define the following \"interpolation function\", marking any pulse as \"good\" if it has more than 90% of the mean proton charge:"
   ]
  },
  {
   "cell_type": "code",
   "execution_count": null,
   "metadata": {},
   "outputs": [],
   "source": [
    "good_pulse = sc.lookup(proton_charge > 0.9 * proton_charge.mean(), mode='previous')"
   ]
  },
  {
   "cell_type": "markdown",
   "metadata": {},
   "source": [
    "`transform_coords` can utilize this interpolation function to compute a new coordinate (`good_pulse`, with `True` and `False` values) from the `da.bins.coords['time']` coordinate.\n",
    "We used `mode='previous'` above, so an event's `good_pulse` value will be defined by the *previous* pulse, i.e., the one that produced the neutron event.\n",
    "See the documentation of `lookup` for a full list of available options.\n",
    "\n",
    "The return value of `transform_coords` can then be used to index the `bins` property, here to extract only the events that have `good_pulse=True`, i.e., were created by a proton pulse that fulfilled the above critereon:"
   ]
  },
  {
   "cell_type": "code",
   "execution_count": null,
   "metadata": {},
   "outputs": [],
   "source": [
    "filtered = da.transform_coords(good_pulse=good_pulse) \\\n",
    "             .bins['good_pulse', sc.index(True)]\n",
    "filtered"
   ]
  },
  {
   "cell_type": "markdown",
   "metadata": {},
   "source": [
    "## Strain\n",
    "\n",
    "using bin here... should we also show group?"
   ]
  },
  {
   "cell_type": "code",
   "execution_count": null,
   "metadata": {},
   "outputs": [],
   "source": [
    "#tmp.bins.coords['time'] = tmp.bins.coords.pop('pulse_time')\n",
    "\n",
    "filtered = da.transform_coords(strain=sc.lookup(strain, mode='previous')).bin(strain=100)\n",
    "#filtered = da.transform_coords(strain=sc.lookup(strain, mode='previous')).group('strain')\n",
    "filtered.hist().transpose().plot()"
   ]
  },
  {
   "cell_type": "code",
   "execution_count": null,
   "metadata": {},
   "outputs": [],
   "source": [
    "proton_charge = da.attrs['proton_charge'].value\n",
    "charge_per_strain_value = proton_charge.bin(time=strain.coords['time'])\n",
    "charge_per_strain_value.coords['strain'] = strain.data[:-1]\n",
    "#charge_per_strain_value.coords['strain'] = strain.data.rename(time='pulse_time')[:-1]\n",
    "#norm = charge_per_strain_value.group('strain').hist()"
   ]
  },
  {
   "cell_type": "code",
   "execution_count": null,
   "metadata": {},
   "outputs": [],
   "source": [
    "norm = charge_per_strain_value.bin(strain=100).hist()\n",
    "normalized = (filtered/norm)\n",
    "normalized.hist(dspacing=300, strain=30).transpose().plot(norm='log')"
   ]
  },
  {
   "cell_type": "code",
   "execution_count": null,
   "metadata": {},
   "outputs": [],
   "source": [
    "lines = sc.collapse(normalized.hist(dspacing=200, strain=6), keep='dspacing')\n",
    "sc.plot(lines, norm='log')"
   ]
  },
  {
   "cell_type": "markdown",
   "metadata": {},
   "source": [
    "- select based on event params (field values of records) in bin\n",
    "  - select value or range\n",
    "  - add new dim with param range\n",
    "- prep 1: create event labels from others (such as timestamp), using `transform_coords`\n",
    "- prep 2: pre-process metadata\n",
    "\n",
    "1. Preprocess the metadata used for filtering.\n",
    "   For example, a noisy time series of temperature values needs to converted into a series of time intervals with a fixed temperature value within the interval.\n",
    "   This process might involve defining thresholds and tolerances or interpolation methods between measured temperature values.\n",
    "2. Map event timestamps to temperature values.\n",
    "3. Filter data based on temperature values."
   ]
  },
  {
   "cell_type": "code",
   "execution_count": null,
   "metadata": {},
   "outputs": [],
   "source": [
    "# 2022-07-12T18:40:27 to 2022-07-12T19:45:39\n",
    "start = sc.datetime('2022-07-12T18:45:00', unit='ns')\n",
    "stop = sc.datetime('2022-07-12T18:50:00', unit='ns')\n",
    "da.bins['time', start:stop]\n",
    "da.bins['time', :stop]"
   ]
  },
  {
   "cell_type": "markdown",
   "metadata": {
    "tags": []
   },
   "source": [
    "# Rearranging and Filtering Binned Data\n",
    "\n",
    "Event filtering refers to the process of removing or extracting a subset of events based on some criterion such as the temperature of the measured sample at the time an event was detected.\n",
    "Scipp's binned data can be used for this purpose.\n",
    "\n",
    "Below, we describe two cases.\n",
    "In the simple case the data contains the required coordinate and [scipp.bin](../../generated/functions/scipp.bin.rst) can be used directly.\n",
    "In the more complex case metadata requires preprocessing, and generally there are three steps to take:\n",
    "\n",
    "1. Preprocess the metadata used for filtering.\n",
    "   For example, a noisy time series of temperature values needs to converted into a series of time intervals with a fixed temperature value within the interval.\n",
    "   This process might involve defining thresholds and tolerances or interpolation methods between measured temperature values.\n",
    "2. Map event timestamps to temperature values.\n",
    "3. Filter data based on temperature values.\n",
    "\n",
    "## Preparation\n",
    "\n",
    "We create some fake data for illustration purposes."
   ]
  },
  {
   "cell_type": "markdown",
   "metadata": {},
   "source": [
    "<div class=\"alert alert-info\">\n",
    "\n",
    "**Note**\n",
    "\n",
    "In practice data to be filtered would be based on a loaded file. Details of this subsection can safely by skipped, as long as all cells are executed.\n",
    "\n",
    "</div>"
   ]
  },
  {
   "cell_type": "code",
   "execution_count": null,
   "metadata": {},
   "outputs": [],
   "source": [
    "import numpy as np\n",
    "import scipp as sc"
   ]
  },
  {
   "cell_type": "code",
   "execution_count": null,
   "metadata": {},
   "outputs": [],
   "source": [
    "np.random.seed(1) # Fixed for reproducibility\n",
    "end_time = 100000\n",
    "tof_max = 10000\n",
    "width = tof_max/20\n",
    "sizes = 4*np.array([7000, 3333, 3000, 5000])\n",
    "size = np.sum(sizes)\n",
    "data = sc.ones(dims=['event'], unit='counts', shape=[size], with_variances=True)\n",
    "time = sc.zeros(dims=['event'], unit='s', dtype='datetime64', shape=[size])\n",
    "# time-of-flight in a neutron-scattering experiment\n",
    "tof = sc.zeros(dims=['event'], unit='us', dtype='float64', shape=[size])\n",
    "table = sc.DataArray(data=data, coords={'time':time, 'tof':tof})\n",
    "table"
   ]
  },
  {
   "cell_type": "code",
   "execution_count": null,
   "metadata": {},
   "outputs": [],
   "source": [
    "ntemp = 100\n",
    "sample_temperature = sc.DataArray(\n",
    "    data=sc.array(dims=['time'], unit='K',\n",
    "                  values=5*np.random.rand(100)+np.linspace(100, 120, num=ntemp)),\n",
    "    coords={'time':sc.Variable(dims=['time'], unit='s',\n",
    "                               values=np.linspace(0, end_time, num=ntemp).astype('datetime64[s]'))})\n",
    "x = sc.linspace(dim='x', unit='m', start=0, stop=1, num=4)\n",
    "\n",
    "end = sc.array(dims=['x'], values=np.cumsum(sizes), unit=None)\n",
    "begin = end.copy()\n",
    "begin.values -= sizes\n",
    "events = sc.DataArray(\n",
    "    data=sc.bins(begin=begin, end=end, dim='event', data=table),\n",
    "    coords={'x': x},\n",
    "    attrs={'sample_temperature': sc.scalar(value=sample_temperature)})\n",
    "for size, bucket in zip(sizes, events.values):\n",
    "    bucket.coords['time'].values = np.linspace(0, end_time, num=size).astype('datetime64[s]')\n",
    "    bucket.coords['tof'].values = np.concatenate(\n",
    "        (np.concatenate(\n",
    "            (7*width + width*np.random.randn(size//4),\n",
    "             13*width + width*np.random.randn(size//4))),\n",
    "         10*width + width*np.random.randn(size//2)))\n",
    "events"
   ]
  },
  {
   "cell_type": "markdown",
   "metadata": {},
   "source": [
    "## Filtering based on existing coords\n",
    "\n",
    "### Extracting data based on an interval\n",
    "\n",
    "We can use [scipp.bin](../../generated/functions/scipp.bin.rst) with the desired bounds to extract all data points (events) that have coord values falling within an interval:"
   ]
  },
  {
   "cell_type": "code",
   "execution_count": null,
   "metadata": {},
   "outputs": [],
   "source": [
    "tof_interval = sc.array(dims=['tof'], values=[2000.0, 3000.0], unit='us')\n",
    "filtered = events.bin(tof=tof_interval)\n",
    "filtered"
   ]
  },
  {
   "cell_type": "markdown",
   "metadata": {},
   "source": [
    "### Extracting/splitting data based on multiple intervals\n",
    "\n",
    "In the same manner, we can extract data with a list of (adjacent) intervals:"
   ]
  },
  {
   "cell_type": "code",
   "execution_count": null,
   "metadata": {},
   "outputs": [],
   "source": [
    "tof_intervals = sc.linspace(dim='tof', start=2000, stop=3000, num=4, unit='us')\n",
    "filtered = events.bin(tof=tof_intervals)\n",
    "filtered"
   ]
  },
  {
   "cell_type": "markdown",
   "metadata": {},
   "source": [
    "Events in each of the subintervals can then be accessed using the usual slicing syntax:"
   ]
  },
  {
   "cell_type": "code",
   "execution_count": null,
   "metadata": {},
   "outputs": [],
   "source": [
    "filtered['tof',2]"
   ]
  },
  {
   "cell_type": "markdown",
   "metadata": {},
   "source": [
    "## Filtering based on arbitrary metadata\n",
    "### Step 1: Preprocess metadata\n",
    "\n",
    "Our data contains a coordinate with metadata related to the temperature of the measured sample:"
   ]
  },
  {
   "cell_type": "code",
   "execution_count": null,
   "metadata": {},
   "outputs": [],
   "source": [
    "timeseries = events.attrs['sample_temperature'].value\n",
    "timeseries.plot()"
   ]
  },
  {
   "cell_type": "markdown",
   "metadata": {},
   "source": [
    "This is a timeseries with noisy measurements, as could be obtained, e.g., from a temperature sensor.\n",
    "For event filtering we require intervals with a fixed temperature.\n",
    "This can be obtained in many ways.\n",
    "In this example we do so by taking the mean over subintervals:"
   ]
  },
  {
   "cell_type": "code",
   "execution_count": null,
   "metadata": {},
   "outputs": [],
   "source": [
    "average=4\n",
    "temperature = sc.fold(timeseries, dim='time', sizes={'time': ntemp//average, 'dummy': average})\n",
    "time_coord = temperature.coords['time']['dummy', 0]\n",
    "temperature.coords['time'] = sc.concat([time_coord, time_coord['time', -1] + 1*sc.units.s], 'time')\n",
    "temperature = temperature.mean('dummy')\n",
    "temperature.plot()"
   ]
  },
  {
   "cell_type": "markdown",
   "metadata": {},
   "source": [
    "### Step 2: Map time stamps\n",
    "\n",
    "The `temperature` data array computed above can be seen as a discretized functional dependence of temperature on time.\n",
    "This \"function\" can now be used to map the `time` of each event to the `temperature` of each event:"
   ]
  },
  {
   "cell_type": "code",
   "execution_count": null,
   "metadata": {},
   "outputs": [],
   "source": [
    "event_temp = sc.lookup(temperature, 'time')[events.bins.coords['time']]\n",
    "events.bins.coords['temperature'] = event_temp"
   ]
  },
  {
   "cell_type": "markdown",
   "metadata": {},
   "source": [
    "The event lists with temperature values created by `scipp.map` have been added as a new coordinate:"
   ]
  },
  {
   "cell_type": "code",
   "execution_count": null,
   "metadata": {},
   "outputs": [],
   "source": [
    "events.values[0]"
   ]
  },
  {
   "cell_type": "markdown",
   "metadata": {},
   "source": [
    "### Step 3: Filter with `scipp.bin`\n",
    "\n",
    "The temperature coordinate created in the previous step can now be used for the actual filtering step.\n",
    "With a `temperature` coordinate stored as part of `events` it is possible to use `scipp.bin` with temperature bins:"
   ]
  },
  {
   "cell_type": "code",
   "execution_count": null,
   "metadata": {},
   "outputs": [],
   "source": [
    "temp_bins = sc.linspace('temperature', 100.0, 130.0, num=6, unit='K')\n",
    "binned_events = events.bin(temperature=temp_bins, tof=100)\n",
    "binned_events"
   ]
  },
  {
   "cell_type": "markdown",
   "metadata": {},
   "source": [
    "Filtering is then performed by slicing and, if desired, copying:"
   ]
  },
  {
   "cell_type": "code",
   "execution_count": null,
   "metadata": {},
   "outputs": [],
   "source": [
    "filtered_view = binned_events['temperature', 0:3] # view containing only relevant events\n",
    "filtered = binned_events['temperature', 0:3].copy() # extract only relevant events by copying"
   ]
  },
  {
   "cell_type": "markdown",
   "metadata": {},
   "source": [
    "Slicing combined with histogramming also performs a filter operation since all events outside the histogram bounds are dropped:"
   ]
  },
  {
   "cell_type": "code",
   "execution_count": null,
   "metadata": {},
   "outputs": [],
   "source": [
    "binned_events['temperature', 1].hist().plot()"
   ]
  },
  {
   "cell_type": "code",
   "execution_count": null,
   "metadata": {},
   "outputs": [],
   "source": [
    "binned_events['temperature', 3].hist().plot()"
   ]
  },
  {
   "cell_type": "markdown",
   "metadata": {},
   "source": [
    "Results from filter operations can also be inserted into a dataset for convenient handling of further operations such as histogramming, summing, or plotting:"
   ]
  },
  {
   "cell_type": "code",
   "execution_count": null,
   "metadata": {},
   "outputs": [],
   "source": [
    "d = sc.Dataset()\n",
    "d['below_T_c'] = binned_events['temperature', 1]\n",
    "d['above_T_c'] = binned_events['temperature', 3]\n",
    "d.bins.sum().sum('x').plot()"
   ]
  },
  {
   "cell_type": "markdown",
   "metadata": {},
   "source": [
    "We can also bin without the time-of-flight coordinate to obtain the temperature dependence of the total event count, e.g., for normalization purposes:"
   ]
  },
  {
   "cell_type": "code",
   "execution_count": null,
   "metadata": {},
   "outputs": [],
   "source": [
    "binned_events = events.bin(temperature=temp_bins)\n",
    "binned_events.hist(temperature=50).plot()"
   ]
  }
 ],
 "metadata": {
  "kernelspec": {
   "display_name": "Python 3 (ipykernel)",
   "language": "python",
   "name": "python3"
  },
  "language_info": {
   "codemirror_mode": {
    "name": "ipython",
    "version": 3
   },
   "file_extension": ".py",
   "mimetype": "text/x-python",
   "name": "python",
   "nbconvert_exporter": "python",
   "pygments_lexer": "ipython3"
  }
 },
 "nbformat": 4,
 "nbformat_minor": 4
}

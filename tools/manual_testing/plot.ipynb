{
 "cells": [
  {
   "cell_type": "markdown",
   "id": "1f8cc565-023d-4ee5-b0fa-2c4ee6aa2483",
   "metadata": {},
   "source": [
    "# top"
   ]
  },
  {
   "cell_type": "code",
   "execution_count": null,
   "id": "633c3877-e211-4c05-a6a4-7d446dccfb29",
   "metadata": {},
   "outputs": [],
   "source": [
    "import scipp as sc\n",
    "import numpy as np\n",
    "def make_array():\n",
    "    data = sc.array(dims=['xx','yy','zz'], unit='', values=10*np.random.rand(4,40,4))\n",
    "    data = sc.array(dims=['xx','yy','zz'], unit='K', values=np.sin(0.1*np.arange(4*4*40)).reshape(4,40,4), variances=0.01*np.ones((4,40,4)))\n",
    "    #data = sc.array(dims=['xx','yy','zz'], unit='counts', values=np.sin(0.1*np.arange(4*4*40)).reshape(4,40,4), variances=0.01*np.ones((4,40,4)))\n",
    "    da = sc.DataArray(data=data)\n",
    "    line = da['zz',0]['yy', 0].copy()\n",
    "    da.coords['yy'] = sc.linspace(dim='yy', unit='km', start=1.1, stop=5.2, num=40)\n",
    "    da.coords['xx'] = sc.linspace(dim='xx', unit='mm', start=1.1, stop=5.2, num=5)\n",
    "    da.coords['xx2'] = sc.linspace(dim='xx', unit='m', start=1.1, stop=55.2, num=5)\n",
    "    da.masks['mask'] = da.coords['xx']['xx',1:] > 5.0 * sc.Unit('mm')\n",
    "    return da"
   ]
  },
  {
   "cell_type": "code",
   "execution_count": null,
   "id": "baf32df2-96ae-4aa4-a042-ba9d8598179d",
   "metadata": {},
   "outputs": [],
   "source": [
    "import scipp as sc\n",
    "import numpy as np\n",
    "da = make_array()\n",
    "da"
   ]
  },
  {
   "cell_type": "markdown",
   "id": "b18a9f17-c8b7-46d5-873d-b2f86f34fefc",
   "metadata": {},
   "source": [
    "# 1d plotting"
   ]
  },
  {
   "cell_type": "code",
   "execution_count": null,
   "id": "140af1ef-7032-4b2a-9199-4ce88d6a8a84",
   "metadata": {},
   "outputs": [],
   "source": [
    "da['zz',0].plot(projection='1d', vmin=-2*da.unit, vmax=2*da.unit)\n",
    "#da['zz',0].plot(projection='1d')\n",
    "#da['yy',0].plot(projection='1d')"
   ]
  },
  {
   "cell_type": "code",
   "execution_count": null,
   "id": "d8416058-c17f-4766-ae31-c881802a2fd5",
   "metadata": {},
   "outputs": [],
   "source": [
    "#da.plot(projection='1d', vmin=-2, vmax=2)\n",
    "da.plot(projection='1d', vmin=-2*da.unit, vmax=2*da.unit)\n",
    "#da.plot(projection='1d')"
   ]
  },
  {
   "cell_type": "markdown",
   "id": "36f86c07-cdd8-47ea-a822-58e533ad2d3c",
   "metadata": {},
   "source": [
    "## 1d plot of non-counts\n",
    "\n",
    "Check that normalization not messed up, plot should show a constant line at $1~\\text{K}$:"
   ]
  },
  {
   "cell_type": "code",
   "execution_count": null,
   "id": "e8fcdf65-e7f8-47a6-86f4-c1a55973909f",
   "metadata": {},
   "outputs": [],
   "source": [
    "import scipp as sc\n",
    "da = sc.DataArray(data=sc.ones(dims=['x'], shape=[100], unit='K'),\n",
    "                  coords={'x':sc.geomspace(dim='x', start=1, stop=1e6, num=100)})\n",
    "da.plot()"
   ]
  },
  {
   "cell_type": "markdown",
   "id": "d1dbc1f3-dd0d-4dc2-b3bf-9d9b9185a745",
   "metadata": {},
   "source": [
    "# Datetime coords"
   ]
  },
  {
   "cell_type": "code",
   "execution_count": null,
   "id": "d15b7b6b-5a93-4cc5-a3e3-b4836e0cb2ff",
   "metadata": {},
   "outputs": [],
   "source": [
    "da = make_array()\n",
    "# TODO zoom exception\n",
    "#da.coords['xx'] = sc.scalar(np.datetime64(\"now\")) + sc.linspace(dim='xx', unit='s', dtype='int64', start=1, stop=3, num=5)\n",
    "da.coords['xx'] = sc.scalar(np.datetime64(\"now\")) + sc.linspace(dim='xx', unit='s', dtype='int64', start=1, stop=5000, num=5)\n",
    "da['zz',0].plot(projection='1d')"
   ]
  },
  {
   "cell_type": "code",
   "execution_count": null,
   "id": "9fc814bc-273c-47e6-b3c5-0b9ef6029a28",
   "metadata": {},
   "outputs": [],
   "source": [
    "da['zz',0]['yy',0].plot()"
   ]
  },
  {
   "cell_type": "code",
   "execution_count": null,
   "id": "da6b053a-9e18-42cf-baeb-e5edc86957d4",
   "metadata": {},
   "outputs": [],
   "source": [
    "da.plot()"
   ]
  },
  {
   "cell_type": "code",
   "execution_count": null,
   "id": "9be2f254-4933-4c80-848d-12542c134a30",
   "metadata": {},
   "outputs": [],
   "source": [
    "da['zz', 0].plot()"
   ]
  },
  {
   "cell_type": "code",
   "execution_count": null,
   "id": "6b654a25-3939-4ee6-aa2a-2dc8af07abd0",
   "metadata": {},
   "outputs": [],
   "source": [
    "dt = '2021-07-06T07:16:10'\n",
    "len(dt)"
   ]
  },
  {
   "cell_type": "markdown",
   "id": "f6d47975-892a-4470-a0b5-3a1d414141f0",
   "metadata": {},
   "source": [
    "## 2d plot of 3d data with slider\n",
    "\n",
    "- Custom labels for `xx` should be used for:\n",
    "  - axis tics\n",
    "  - button for dim selection\n",
    "  - slider range display\n",
    "  - line label if line kept in profile plot"
   ]
  },
  {
   "cell_type": "code",
   "execution_count": null,
   "id": "d86ffe89-a9f8-4e23-a00b-927db6a5bcd8",
   "metadata": {},
   "outputs": [],
   "source": [
    "#da.plot(axes={'x':'xx2'})\n",
    "da = make_array()\n",
    "da.plot(labels={'xx':'xx2'}, errorbars=False)"
   ]
  },
  {
   "cell_type": "markdown",
   "id": "e39d3973-17ee-4349-8571-394010bd8ae1",
   "metadata": {},
   "source": [
    "## 2d plot of 3d counts data with slider\n",
    "\n",
    "- Profile readout must be consistent through zoom levels"
   ]
  },
  {
   "cell_type": "code",
   "execution_count": null,
   "id": "90c8fff6-4d34-40ea-9093-42e39340ff3b",
   "metadata": {},
   "outputs": [],
   "source": [
    "#da.plot(axes={'x':'xx2'})\n",
    "da = make_array()\n",
    "da.unit = 'counts'\n",
    "da.plot(labels={'xx':'xx2'}, errorbars=False)"
   ]
  },
  {
   "cell_type": "code",
   "execution_count": null,
   "id": "1e7cc81e-54d6-481e-96fe-ca0ddb1d0e3a",
   "metadata": {},
   "outputs": [],
   "source": [
    "#sc.plot({'a':da['zz',0]['yy', 1], 'b':line})"
   ]
  },
  {
   "cell_type": "code",
   "execution_count": null,
   "id": "793a383c-6d58-45c7-bbd5-9c0a262628b5",
   "metadata": {},
   "outputs": [],
   "source": [
    "sc.plot({'a':da['zz',0], 'b':da['zz',1]}, projection='1d')"
   ]
  },
  {
   "cell_type": "code",
   "execution_count": null,
   "id": "a01faca9-8bb3-402a-ab98-72d481ac8510",
   "metadata": {},
   "outputs": [],
   "source": [
    "da.data.plot()"
   ]
  },
  {
   "cell_type": "code",
   "execution_count": null,
   "id": "56d2b43e-f3d7-4dea-9022-a9ae1af01a2d",
   "metadata": {},
   "outputs": [],
   "source": [
    "da4d = sc.values(sc.concatenate(da, da*sc.scalar(2.0), 'time'))\n",
    "da4d.plot()"
   ]
  },
  {
   "cell_type": "markdown",
   "id": "4137b631-85e7-44e8-814f-123dcbb81453",
   "metadata": {},
   "source": [
    "## `redraw`"
   ]
  },
  {
   "cell_type": "code",
   "execution_count": null,
   "id": "ab770d7f-3758-4c46-bc2e-1c672b2f95a9",
   "metadata": {},
   "outputs": [],
   "source": [
    "da1d = da['xx',0]['zz',0].copy()\n",
    "plot = da1d.plot()\n",
    "plot.show()"
   ]
  },
  {
   "cell_type": "markdown",
   "id": "734aea78-e6e5-4e66-9886-502e05fe19ee",
   "metadata": {},
   "source": [
    "Running this cell should flip data (vertical axis) in plot above:"
   ]
  },
  {
   "cell_type": "code",
   "execution_count": null,
   "id": "71f76584-fcdd-4c7a-b38a-23f742f006df",
   "metadata": {},
   "outputs": [],
   "source": [
    "da1d.data *= -1.0\n",
    "plot.redraw()"
   ]
  },
  {
   "cell_type": "code",
   "execution_count": null,
   "id": "6e4150c7-0170-4c6d-936f-7e9e6924334b",
   "metadata": {},
   "outputs": [],
   "source": [
    "da2d = da['xx',0].copy()\n",
    "plot = da2d.plot()\n",
    "plot.show()"
   ]
  },
  {
   "cell_type": "markdown",
   "id": "48db0f7a-bbaf-4a0e-b10e-2e18d6064836",
   "metadata": {},
   "source": [
    "Running this cell should flip data (color axis) in plot above:"
   ]
  },
  {
   "cell_type": "code",
   "execution_count": null,
   "id": "545fd83c-960d-41a8-a9f2-65635ec6302a",
   "metadata": {},
   "outputs": [],
   "source": [
    "da2d.data *= -1.0\n",
    "plot.redraw()"
   ]
  },
  {
   "cell_type": "markdown",
   "id": "3b795576-e061-422e-a1c7-aeb6674a6282",
   "metadata": {},
   "source": [
    "## Multi-dimensional coord"
   ]
  },
  {
   "cell_type": "code",
   "execution_count": null,
   "id": "e77a8503-368f-44e7-b895-2e3d9ef89785",
   "metadata": {},
   "outputs": [],
   "source": [
    "da_multi = da.copy()\n",
    "da_multi.coords['zz'] = sc.array(dims=['yy', 'zz'], unit='um', values=np.arange(160).reshape(40,4))\n",
    "da_multi['xx',0].plot()"
   ]
  },
  {
   "cell_type": "code",
   "execution_count": null,
   "id": "690e7149-a583-42f1-98c2-fac509e642d4",
   "metadata": {},
   "outputs": [],
   "source": [
    "da_multi.plot()"
   ]
  },
  {
   "cell_type": "code",
   "execution_count": null,
   "id": "0dfdb738-ebb4-4912-bde0-595e464414f2",
   "metadata": {},
   "outputs": [],
   "source": [
    "try:\n",
    "    da_multi.transpose().plot()\n",
    "except sc.DimensionError as e:\n",
    "    print(e)"
   ]
  },
  {
   "cell_type": "markdown",
   "id": "2147bbc8-3aed-48be-b5db-d5918377e8ef",
   "metadata": {},
   "source": [
    "# Binned data"
   ]
  },
  {
   "cell_type": "code",
   "execution_count": null,
   "id": "add3b077-92cb-40f0-a016-1297a9fb48b3",
   "metadata": {},
   "outputs": [],
   "source": [
    "import scipp as sc\n",
    "import numpy as np\n",
    "N = int(80000)\n",
    "values = np.random.rand(N)\n",
    "data = sc.DataArray(\n",
    "    data=sc.Variable(dims=['event'], values=values, unit=''),\n",
    "    coords={\n",
    "        'x':sc.Variable(dims=['event'], values=np.random.rand(N)),\n",
    "        'y':sc.Variable(dims=['event'], values=np.random.rand(N)),\n",
    "        'z':sc.Variable(dims=['event'], values=np.random.rand(N))\n",
    "    })\n",
    "binned = sc.bin(data, edges=[sc.Variable(dims=['x'], values=np.linspace(0.0,1.0,num=10)),\n",
    "                             sc.Variable(dims=['y'], values=np.linspace(0.0,1.0,num=4)),\n",
    "                             sc.Variable(dims=['z'], values=np.linspace(0.0,1.0,num=4))])\n",
    "binned.plot(resolution=100)"
   ]
  },
  {
   "cell_type": "code",
   "execution_count": null,
   "id": "a3c6f435-5f01-4923-85c7-8fd4195cbec0",
   "metadata": {},
   "outputs": [],
   "source": [
    "binned['x', 0].plot(resolution=100)"
   ]
  },
  {
   "cell_type": "code",
   "execution_count": null,
   "id": "f5ffe697-20c3-4e2c-b595-640cb33fbd68",
   "metadata": {},
   "outputs": [],
   "source": [
    "binned['x', 0].plot(projection='1d', resolution=100)"
   ]
  },
  {
   "cell_type": "code",
   "execution_count": null,
   "id": "ab160e28-4b5c-4f61-8c15-ae0af7ee7892",
   "metadata": {},
   "outputs": [],
   "source": [
    "binned['x', 0]['y', 0].plot()"
   ]
  },
  {
   "cell_type": "markdown",
   "id": "f1382619-4769-4683-b46f-70bb54f20ecf",
   "metadata": {},
   "source": [
    "# 3d plotting"
   ]
  },
  {
   "cell_type": "code",
   "execution_count": null,
   "id": "525d4ea1-7fa3-469b-807d-cfc1b4b4f4a0",
   "metadata": {},
   "outputs": [],
   "source": [
    "import scipp as sc\n",
    "import numpy as np\n",
    "N = 10\n",
    "M = 40\n",
    "L = 30\n",
    "K = 20\n",
    "xx = np.arange(3, N, dtype=np.float64)\n",
    "yy = np.arange(4, M, dtype=np.float64)\n",
    "zz = np.arange(5, L, dtype=np.float64)\n",
    "qq = np.arange(6, K, dtype=np.float64)\n",
    "x, y, z, q = np.meshgrid(xx, yy, zz, qq, indexing='ij')\n",
    "b = N/20.0\n",
    "c = M/2.0\n",
    "d = L/2.0\n",
    "r = np.sqrt(((x-c)/b)**2 + ((y-c)/b)**2 + ((z-d)/b)**2  + ((q-d)/b)**2)\n",
    "a = np.sin(r)\n",
    "d = sc.Dataset()\n",
    "da = sc.DataArray(data=sc.Variable(dims=['xx', 'yy', 'zz', 'Q_x'], values=a, unit='K'))\n",
    "da.coords['xx'] = sc.Variable(dims=['xx'], values=xx)\n",
    "da.coords['yy'] = sc.Variable(dims=['yy'], values=yy, unit='m')\n",
    "da.coords['zz'] = sc.Variable(dims=['zz'], values=zz)\n",
    "da.coords['Q_x'] = sc.Variable(dims=['Q_x'], values=qq)\n",
    "sc.plot(da, projection='3d', aspect='auto')"
   ]
  },
  {
   "cell_type": "code",
   "execution_count": null,
   "id": "70869384-c95b-425d-a325-8e4b32f729b3",
   "metadata": {},
   "outputs": [],
   "source": [
    "import scipp as sc\n",
    "import numpy as np\n",
    "N = 1000\n",
    "M = 100\n",
    "theta = np.random.random(N) * np.pi\n",
    "phi = np.random.random(N) * 2.0 * np.pi\n",
    "r = 10.0 + (np.random.random(N) - 0.5)\n",
    "x = r * np.sin(theta) * np.sin(phi)\n",
    "y = r * np.sin(theta) * np.cos(phi)\n",
    "z = r * np.cos(theta)\n",
    "\n",
    "a = np.arange(M*N).reshape([M, N]) * np.sin(y)\n",
    "pos = sc.vectors(dims=['xyz'], unit='m', values=np.array([x, y, z]).T)\n",
    "da = sc.DataArray(\n",
    "    data=sc.array(dims=['time', 'xyz'], values=a, unit='K'),\n",
    "    #masks={\n",
    "    #    'mask':pos.fields.x < 0.0 * sc.Unit('m')},\n",
    "    coords={\n",
    "        'xyz':pos,\n",
    "        'time':sc.array(dims=['time'], values=np.arange(M).astype(np.float))})\n",
    "# labels is hack so model does not drop our pos coord\n",
    "# need panel so slices get defined in controller.update_axes\n",
    "#da['time',0].plot(projection=\"3d\", positions='xyz', labels={'xyz':'xyz'})\n",
    "da.plot(projection=\"3d\", positions='xyz')"
   ]
  }
 ],
 "metadata": {
  "kernelspec": {
   "display_name": "Python 3",
   "language": "python",
   "name": "python3"
  },
  "language_info": {
   "codemirror_mode": {
    "name": "ipython",
    "version": 3
   },
   "file_extension": ".py",
   "mimetype": "text/x-python",
   "name": "python",
   "nbconvert_exporter": "python",
   "pygments_lexer": "ipython3",
   "version": "3.7.10"
  }
 },
 "nbformat": 4,
 "nbformat_minor": 5
}
